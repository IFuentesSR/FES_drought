{
  "nbformat": 4,
  "nbformat_minor": 0,
  "metadata": {
    "colab": {
      "name": "Gringerton_SRI.ipynb",
      "provenance": [],
      "authorship_tag": "ABX9TyO9JMPffbsiG9CZXQPXzA9O",
      "include_colab_link": true
    },
    "kernelspec": {
      "name": "python3",
      "display_name": "Python 3"
    },
    "language_info": {
      "name": "python"
    }
  },
  "cells": [
    {
      "cell_type": "markdown",
      "metadata": {
        "id": "view-in-github",
        "colab_type": "text"
      },
      "source": [
        "<a href=\"https://colab.research.google.com/github/IFuentesSR/FES_drought/blob/main/Gringerton_SRI.ipynb\" target=\"_parent\"><img src=\"https://colab.research.google.com/assets/colab-badge.svg\" alt=\"Open In Colab\"/></a>"
      ]
    },
    {
      "cell_type": "markdown",
      "source": [
        "## Connection to GEE"
      ],
      "metadata": {
        "id": "mVRwiq-74oKF"
      }
    },
    {
      "cell_type": "code",
      "execution_count": 2,
      "metadata": {
        "colab": {
          "base_uri": "https://localhost:8080/"
        },
        "id": "qRGYtqvgnu6k",
        "outputId": "089e65fe-4789-4bea-c4c0-5ee3471bea56"
      },
      "outputs": [
        {
          "output_type": "stream",
          "name": "stdout",
          "text": [
            "To authorize access needed by Earth Engine, open the following URL in a web browser and follow the instructions. If the web browser does not start automatically, please manually browse the URL below.\n",
            "\n",
            "    https://accounts.google.com/o/oauth2/auth?client_id=517222506229-vsmmajv00ul0bs7p89v5m89qs8eb9359.apps.googleusercontent.com&scope=https%3A%2F%2Fwww.googleapis.com%2Fauth%2Fearthengine+https%3A%2F%2Fwww.googleapis.com%2Fauth%2Fdevstorage.full_control&redirect_uri=urn%3Aietf%3Awg%3Aoauth%3A2.0%3Aoob&response_type=code&code_challenge=o29akgKeQemB4P49eisb1LTbGI5glo8q0wPVjn7HSOg&code_challenge_method=S256\n",
            "\n",
            "The authorization workflow will generate a code, which you should paste in the box below. \n",
            "Enter verification code: 4/1AX4XfWjAdfvrZOz0rGQ9MgbzzYLEfeudl070AMTgTq7vQmMZ0HXbjGVudYk\n",
            "\n",
            "Successfully saved authorization token.\n"
          ]
        }
      ],
      "source": [
        "# Import, authenticate and initialize the Earth Engine library.\n",
        "import ee\n",
        "ee.Authenticate()\n",
        "ee.Initialize()"
      ]
    },
    {
      "cell_type": "markdown",
      "source": [
        "## Importing libraries"
      ],
      "metadata": {
        "id": "jweCdinf4kPG"
      }
    },
    {
      "cell_type": "code",
      "source": [
        "import folium\n",
        "import pandas as pd\n",
        "import numpy as np\n",
        "import matplotlib.pyplot as plt"
      ],
      "metadata": {
        "id": "UXAl1vRUnw3y"
      },
      "execution_count": 3,
      "outputs": []
    },
    {
      "cell_type": "markdown",
      "source": [
        "## Importing ERA5 runoff"
      ],
      "metadata": {
        "id": "kRW5kwwB4fNp"
      }
    },
    {
      "cell_type": "code",
      "source": [
        "era5 = ee.ImageCollection(\"ECMWF/ERA5_LAND/MONTHLY\")\n",
        "runoff = era5.select('runoff')"
      ],
      "metadata": {
        "id": "5ntc1qVRn02E"
      },
      "execution_count": 5,
      "outputs": []
    },
    {
      "cell_type": "markdown",
      "source": [
        "## Function and parameter definition"
      ],
      "metadata": {
        "id": "4-GFoBgf4aES"
      }
    },
    {
      "cell_type": "code",
      "source": [
        "c0 = 2.515517\n",
        "c1 = 0.802853\n",
        "c2 = 0.010328\n",
        "d1 = 1.432788\n",
        "d2 = 0.189269\n",
        "d3 = 0.001308\n",
        "years = ee.List.sequence(1981, 2021)\n",
        "months = ee.List.sequence(1, 12)\n",
        "\n",
        "\n",
        "def monthly_scale(img):\n",
        "    props = img.propertyNames()\n",
        "    image = img.multiply(ee.Image.pixelArea()).copyProperties(img, props)\n",
        "    return image.set('month', \n",
        "                     ee.Date(img.get('system:time_start')).get('month'))\n",
        "\n",
        "\n",
        "def get_sample(geometry):\n",
        "    def wrap(img):\n",
        "        date = ee.Date(img.get('system:time_start')).format('YYYY-MM-dd')\n",
        "        sri_value = img.reduceRegion('first', geometry, 25000).values().get(0)\n",
        "        return ee.Feature(None, {'date':date, 'sri':sri_value})\n",
        "    return wrap\n",
        "    \n",
        "\n",
        "def normInv(cummProb):\n",
        "  return cummProb.multiply(2).subtract(1).erfInv().multiply(ee.Image(2).sqrt())\n",
        "\n",
        "\n",
        "def agg_runoff(collection, scale):\n",
        "    def inner(year):\n",
        "        months = ee.List.sequence(1,12)\n",
        "        def month_iteration(m):\n",
        "            date = ee.Date.fromYMD(year, m, 1)\n",
        "            coll = collection.filterDate(date.advance(ee.Number(scale).multiply(-1), 'month'), date)\n",
        "            cond = ee.Algorithms.If(coll.size().lt(scale),\n",
        "                                    ee.Image(0).set('drop', 1),\n",
        "                                    coll.sum().set('drop', 0))\n",
        "            return ee.Image(cond).setMulti({'system:time_start': date.millis(), 'date':date.format('YYYY_MM_dd'), 'month':ee.Number(m)})\n",
        "        return months.map(month_iteration)\n",
        "    return inner\n",
        "\n",
        "\n",
        "def get_sri(collection):\n",
        "    def inner(month):\n",
        "        collection1 = collection.filter(ee.Filter.eq('month', month))\n",
        "        len = collection1.size()\n",
        "        def wrap(year):\n",
        "            date = ee.Date.fromYMD(year, month, 1)\n",
        "            img = collection1.filterDate(date, date.advance(1, 'month')).first()\n",
        "            cond = collection1.toBands().lte(img)\n",
        "            combi = cond.reduce(ee.Reducer.sum())\n",
        "            gringer = (combi.subtract(0.44)).divide(ee.Image(len).add(0.12)).rename('P')\n",
        "            t1 = ee.Image(1).divide(gringer.pow(2)).log().sqrt()\n",
        "            t2 = ee.Image(1).divide((ee.Image(1).subtract(gringer)).pow(2)).log().sqrt()\n",
        "            s1 = t1.expression('-1 * (t1 - ((c0 + c1*t1 + c2*t1**2)/(1 + d1*t1 + d2*t1**1 + d3*t1**3)))',\n",
        "                               {'t1': t1, 'c0':c0, 'c1':c1, 'c2':c2,\n",
        "                                'd1':d1, 'd2':d2, 'd3':d3})\n",
        "            s2 = t2.expression('t2 - ((c0 + c1*t2 + c2*t2**2)/(1 + d1*t2 + d2*t2**1 + d3*t2**3))',\n",
        "                               {'t2': t2, 'c0':c0, 'c1':c1, 'c2':c2,\n",
        "                                'd1':d1, 'd2':d2, 'd3':d3})\n",
        "            SI = s1.where(gringer.gt(0.5), s2)\n",
        "            return SI.setMulti({'system:time_start': date.millis(),\n",
        "                                'date':date.format('YYYY_MM_dd'),\n",
        "                                'month':month,\n",
        "                                'drop':img.get('drop')})\n",
        "        return years.map(wrap)\n",
        "    return months.map(inner)\n"
      ],
      "metadata": {
        "id": "Ns6gvZufoGJQ"
      },
      "execution_count": 24,
      "outputs": []
    },
    {
      "cell_type": "markdown",
      "source": [
        "## Running functions to aggregate runoff and create standardised runoff"
      ],
      "metadata": {
        "id": "Vhu1Ll9O4RuJ"
      }
    },
    {
      "cell_type": "code",
      "source": [
        "ro = years.map(agg_runoff(runoff, 3))\n",
        "ro = ee.ImageCollection.fromImages(ro.flatten()).sort('system:time_start')\n",
        "sri = get_sri(ro)\n",
        "sri3 = ee.ImageCollection.fromImages(sri.flatten()).filter(ee.Filter.eq('drop', 0)).sort('system:time_start')"
      ],
      "metadata": {
        "id": "t1Ai6gLFrM-s"
      },
      "execution_count": 29,
      "outputs": []
    },
    {
      "cell_type": "markdown",
      "source": [
        "## Mapping SRI for April 2005"
      ],
      "metadata": {
        "id": "F8x7_sDu4KkG"
      }
    },
    {
      "cell_type": "code",
      "source": [
        "id = sri3.filterDate('2005-04-01', '2012-01-01').first().getMapId({'min': -2, 'max': 2, 'palette':'FF0000, FFFFFF, 0000FF'})\n",
        "map = folium.Map(location=[-30.63, 149.91], zoom_start=2)\n",
        "folium.TileLayer(\n",
        "    tiles=id['tile_fetcher'].url_format,\n",
        "    attr='Map Data &copy; <a href=\"https://earthengine.google.com/\">Google Earth Engine</a>',\n",
        "    overlay=True,\n",
        "    name='SRI_April2004',\n",
        "  ).add_to(map)\n",
        "map.add_child(folium.LayerControl())\n",
        "map"
      ],
      "metadata": {
        "colab": {
          "base_uri": "https://localhost:8080/",
          "height": 866
        },
        "id": "gJm6HrzH0CWU",
        "outputId": "ad7bdee9-f29a-4291-8f24-f0fd3fafcb26"
      },
      "execution_count": 30,
      "outputs": [
        {
          "output_type": "execute_result",
          "data": {
            "text/html": [
              "<div style=\"width:100%;\"><div style=\"position:relative;width:100%;height:0;padding-bottom:60%;\"><span style=\"color:#565656\">Make this Notebook Trusted to load map: File -> Trust Notebook</span><iframe src=\"about:blank\" style=\"position:absolute;width:100%;height:100%;left:0;top:0;border:none !important;\" data-html=%3C%21DOCTYPE%20html%3E%0A%3Chead%3E%20%20%20%20%0A%20%20%20%20%3Cmeta%20http-equiv%3D%22content-type%22%20content%3D%22text/html%3B%20charset%3DUTF-8%22%20/%3E%0A%20%20%20%20%3Cscript%3EL_PREFER_CANVAS%3Dfalse%3B%20L_NO_TOUCH%3Dfalse%3B%20L_DISABLE_3D%3Dfalse%3B%3C/script%3E%0A%20%20%20%20%3Cscript%20src%3D%22https%3A//cdn.jsdelivr.net/npm/leaflet%401.4.0/dist/leaflet.js%22%3E%3C/script%3E%0A%20%20%20%20%3Cscript%20src%3D%22https%3A//code.jquery.com/jquery-1.12.4.min.js%22%3E%3C/script%3E%0A%20%20%20%20%3Cscript%20src%3D%22https%3A//maxcdn.bootstrapcdn.com/bootstrap/3.2.0/js/bootstrap.min.js%22%3E%3C/script%3E%0A%20%20%20%20%3Cscript%20src%3D%22https%3A//cdnjs.cloudflare.com/ajax/libs/Leaflet.awesome-markers/2.0.2/leaflet.awesome-markers.js%22%3E%3C/script%3E%0A%20%20%20%20%3Clink%20rel%3D%22stylesheet%22%20href%3D%22https%3A//cdn.jsdelivr.net/npm/leaflet%401.4.0/dist/leaflet.css%22/%3E%0A%20%20%20%20%3Clink%20rel%3D%22stylesheet%22%20href%3D%22https%3A//maxcdn.bootstrapcdn.com/bootstrap/3.2.0/css/bootstrap.min.css%22/%3E%0A%20%20%20%20%3Clink%20rel%3D%22stylesheet%22%20href%3D%22https%3A//maxcdn.bootstrapcdn.com/bootstrap/3.2.0/css/bootstrap-theme.min.css%22/%3E%0A%20%20%20%20%3Clink%20rel%3D%22stylesheet%22%20href%3D%22https%3A//maxcdn.bootstrapcdn.com/font-awesome/4.6.3/css/font-awesome.min.css%22/%3E%0A%20%20%20%20%3Clink%20rel%3D%22stylesheet%22%20href%3D%22https%3A//cdnjs.cloudflare.com/ajax/libs/Leaflet.awesome-markers/2.0.2/leaflet.awesome-markers.css%22/%3E%0A%20%20%20%20%3Clink%20rel%3D%22stylesheet%22%20href%3D%22https%3A//rawcdn.githack.com/python-visualization/folium/master/folium/templates/leaflet.awesome.rotate.css%22/%3E%0A%20%20%20%20%3Cstyle%3Ehtml%2C%20body%20%7Bwidth%3A%20100%25%3Bheight%3A%20100%25%3Bmargin%3A%200%3Bpadding%3A%200%3B%7D%3C/style%3E%0A%20%20%20%20%3Cstyle%3E%23map%20%7Bposition%3Aabsolute%3Btop%3A0%3Bbottom%3A0%3Bright%3A0%3Bleft%3A0%3B%7D%3C/style%3E%0A%20%20%20%20%0A%20%20%20%20%3Cmeta%20name%3D%22viewport%22%20content%3D%22width%3Ddevice-width%2C%0A%20%20%20%20%20%20%20%20initial-scale%3D1.0%2C%20maximum-scale%3D1.0%2C%20user-scalable%3Dno%22%20/%3E%0A%20%20%20%20%3Cstyle%3E%23map_dc8429f5b06d4c46bb51a3b8516152dc%20%7B%0A%20%20%20%20%20%20%20%20position%3A%20relative%3B%0A%20%20%20%20%20%20%20%20width%3A%20100.0%25%3B%0A%20%20%20%20%20%20%20%20height%3A%20100.0%25%3B%0A%20%20%20%20%20%20%20%20left%3A%200.0%25%3B%0A%20%20%20%20%20%20%20%20top%3A%200.0%25%3B%0A%20%20%20%20%20%20%20%20%7D%0A%20%20%20%20%3C/style%3E%0A%3C/head%3E%0A%3Cbody%3E%20%20%20%20%0A%20%20%20%20%0A%20%20%20%20%3Cdiv%20class%3D%22folium-map%22%20id%3D%22map_dc8429f5b06d4c46bb51a3b8516152dc%22%20%3E%3C/div%3E%0A%3C/body%3E%0A%3Cscript%3E%20%20%20%20%0A%20%20%20%20%0A%20%20%20%20%0A%20%20%20%20%20%20%20%20var%20bounds%20%3D%20null%3B%0A%20%20%20%20%0A%0A%20%20%20%20var%20map_dc8429f5b06d4c46bb51a3b8516152dc%20%3D%20L.map%28%0A%20%20%20%20%20%20%20%20%27map_dc8429f5b06d4c46bb51a3b8516152dc%27%2C%20%7B%0A%20%20%20%20%20%20%20%20center%3A%20%5B-30.63%2C%20149.91%5D%2C%0A%20%20%20%20%20%20%20%20zoom%3A%202%2C%0A%20%20%20%20%20%20%20%20maxBounds%3A%20bounds%2C%0A%20%20%20%20%20%20%20%20layers%3A%20%5B%5D%2C%0A%20%20%20%20%20%20%20%20worldCopyJump%3A%20false%2C%0A%20%20%20%20%20%20%20%20crs%3A%20L.CRS.EPSG3857%2C%0A%20%20%20%20%20%20%20%20zoomControl%3A%20true%2C%0A%20%20%20%20%20%20%20%20%7D%29%3B%0A%0A%0A%20%20%20%20%0A%20%20%20%20var%20tile_layer_4411bd3fc03f4318b4ffe8d579929437%20%3D%20L.tileLayer%28%0A%20%20%20%20%20%20%20%20%27https%3A//%7Bs%7D.tile.openstreetmap.org/%7Bz%7D/%7Bx%7D/%7By%7D.png%27%2C%0A%20%20%20%20%20%20%20%20%7B%0A%20%20%20%20%20%20%20%20%22attribution%22%3A%20null%2C%0A%20%20%20%20%20%20%20%20%22detectRetina%22%3A%20false%2C%0A%20%20%20%20%20%20%20%20%22maxNativeZoom%22%3A%2018%2C%0A%20%20%20%20%20%20%20%20%22maxZoom%22%3A%2018%2C%0A%20%20%20%20%20%20%20%20%22minZoom%22%3A%200%2C%0A%20%20%20%20%20%20%20%20%22noWrap%22%3A%20false%2C%0A%20%20%20%20%20%20%20%20%22opacity%22%3A%201%2C%0A%20%20%20%20%20%20%20%20%22subdomains%22%3A%20%22abc%22%2C%0A%20%20%20%20%20%20%20%20%22tms%22%3A%20false%0A%7D%29.addTo%28map_dc8429f5b06d4c46bb51a3b8516152dc%29%3B%0A%20%20%20%20var%20tile_layer_e62fdd25df5848159b632fa6dcb01625%20%3D%20L.tileLayer%28%0A%20%20%20%20%20%20%20%20%27https%3A//earthengine.googleapis.com/v1alpha/projects/earthengine-legacy/maps/7c1686722b3461142f96a0d2d3fd22de-a5f8e7881394c0f002d7f59cc7b35235/tiles/%7Bz%7D/%7Bx%7D/%7By%7D%27%2C%0A%20%20%20%20%20%20%20%20%7B%0A%20%20%20%20%20%20%20%20%22attribution%22%3A%20%22Map%20Data%20%26copy%3B%20%3Ca%20href%3D%5C%22https%3A//earthengine.google.com/%5C%22%3EGoogle%20Earth%20Engine%3C/a%3E%22%2C%0A%20%20%20%20%20%20%20%20%22detectRetina%22%3A%20false%2C%0A%20%20%20%20%20%20%20%20%22maxNativeZoom%22%3A%2018%2C%0A%20%20%20%20%20%20%20%20%22maxZoom%22%3A%2018%2C%0A%20%20%20%20%20%20%20%20%22minZoom%22%3A%200%2C%0A%20%20%20%20%20%20%20%20%22noWrap%22%3A%20false%2C%0A%20%20%20%20%20%20%20%20%22opacity%22%3A%201%2C%0A%20%20%20%20%20%20%20%20%22subdomains%22%3A%20%22abc%22%2C%0A%20%20%20%20%20%20%20%20%22tms%22%3A%20false%0A%7D%29.addTo%28map_dc8429f5b06d4c46bb51a3b8516152dc%29%3B%0A%20%20%20%20%0A%20%20%20%20%20%20%20%20%20%20%20%20var%20layer_control_b04d4be166144e4f95a9862f8d765750%20%3D%20%7B%0A%20%20%20%20%20%20%20%20%20%20%20%20%20%20%20%20base_layers%20%3A%20%7B%20%22openstreetmap%22%20%3A%20tile_layer_4411bd3fc03f4318b4ffe8d579929437%2C%20%7D%2C%0A%20%20%20%20%20%20%20%20%20%20%20%20%20%20%20%20overlays%20%3A%20%7B%20%22SRI_April2004%22%20%3A%20tile_layer_e62fdd25df5848159b632fa6dcb01625%2C%20%7D%0A%20%20%20%20%20%20%20%20%20%20%20%20%20%20%20%20%7D%3B%0A%20%20%20%20%20%20%20%20%20%20%20%20L.control.layers%28%0A%20%20%20%20%20%20%20%20%20%20%20%20%20%20%20%20layer_control_b04d4be166144e4f95a9862f8d765750.base_layers%2C%0A%20%20%20%20%20%20%20%20%20%20%20%20%20%20%20%20layer_control_b04d4be166144e4f95a9862f8d765750.overlays%2C%0A%20%20%20%20%20%20%20%20%20%20%20%20%20%20%20%20%7Bposition%3A%20%27topright%27%2C%0A%20%20%20%20%20%20%20%20%20%20%20%20%20%20%20%20%20collapsed%3A%20true%2C%0A%20%20%20%20%20%20%20%20%20%20%20%20%20%20%20%20%20autoZIndex%3A%20true%0A%20%20%20%20%20%20%20%20%20%20%20%20%20%20%20%20%7D%29.addTo%28map_dc8429f5b06d4c46bb51a3b8516152dc%29%3B%0A%20%20%20%20%20%20%20%20%20%20%20%20%0A%20%20%20%20%20%20%20%20%0A%3C/script%3E onload=\"this.contentDocument.open();this.contentDocument.write(    decodeURIComponent(this.getAttribute('data-html')));this.contentDocument.close();\" allowfullscreen webkitallowfullscreen mozallowfullscreen></iframe></div></div>"
            ],
            "text/plain": [
              "<folium.folium.Map at 0x7f43acd0b890>"
            ]
          },
          "metadata": {},
          "execution_count": 30
        }
      ]
    },
    {
      "cell_type": "markdown",
      "source": [
        "## Sampling SRI time series in one location"
      ],
      "metadata": {
        "id": "vubGbP8d4Du7"
      }
    },
    {
      "cell_type": "code",
      "source": [
        "geo = ee.Geometry.Point([149.5462, -30.2282])\n",
        "series = sri3.map(get_sample(geo)).getInfo()\n",
        "\n",
        "ixs = [n['properties']['sri'] for n in series['features']]\n",
        "time = [pd.to_datetime(n['properties']['date'], format='%Y-%m-%d') for n in series['features']]\n",
        "df = pd.DataFrame(data={'sri':ixs, 'date':time})\n",
        "d = np.zeros(len(ixs))"
      ],
      "metadata": {
        "id": "6LRfD6M4z3Yv"
      },
      "execution_count": 31,
      "outputs": []
    },
    {
      "cell_type": "markdown",
      "source": [
        "## Time series of 3-month SRI"
      ],
      "metadata": {
        "id": "ckoC6I9F34bQ"
      }
    },
    {
      "cell_type": "code",
      "source": [
        "fig, axs = plt.subplots(figsize=(10, 3))\n",
        "axs.fill_between(time, d, ixs, where=df['sri']>=d, interpolate=True, color='blue', alpha=0.3, label='SRI')\n",
        "axs.fill_between(time, d, ixs, where=df['sri']<=d, interpolate=True, color='red', alpha=0.3)\n",
        "axs.set_ylabel('SRI')\n",
        "fig.show()"
      ],
      "metadata": {
        "colab": {
          "base_uri": "https://localhost:8080/",
          "height": 211
        },
        "id": "fYLDl7iM3Ma-",
        "outputId": "2170c221-1a09-4a9a-f82a-275e91ce7ccb"
      },
      "execution_count": 32,
      "outputs": [
        {
          "output_type": "display_data",
          "data": {
            "image/png": "[encoded data removed]",
            "text/plain": [
              "<Figure size 720x216 with 1 Axes>"
            ]
          },
          "metadata": {
            "needs_background": "light"
          }
        }
      ]
    }
  ]
}