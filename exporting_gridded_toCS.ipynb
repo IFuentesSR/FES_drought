{
  "nbformat": 4,
  "nbformat_minor": 0,
  "metadata": {
    "colab": {
      "name": "exporting_gridded_toCS.ipynb",
      "provenance": [],
      "authorship_tag": "ABX9TyO5KfKmdbPXtPtMViDloIF5",
      "include_colab_link": true
    },
    "kernelspec": {
      "display_name": "Python 3",
      "name": "python3"
    }
  },
  "cells": [
    {
      "cell_type": "markdown",
      "metadata": {
        "id": "view-in-github",
        "colab_type": "text"
      },
      "source": [
        "<a href=\"https://colab.research.google.com/github/IFuentesSR/RSE_drought/blob/main/exporting_gridded_toCS.ipynb\" target=\"_parent\"><img src=\"https://colab.research.google.com/assets/colab-badge.svg\" alt=\"Open In Colab\"/></a>"
      ]
    },
    {
      "cell_type": "markdown",
      "metadata": {
        "id": "y-3xgRQftXAp"
      },
      "source": [
        "## Colab for saving SPEI-SRI (or others) tiles\n",
        "\n",
        "This colab was created to export tiles of SPEI-SRI collections as multiband tiles given the limitations in computing global lagged responses between both indices. These tiles were downloaded to google cloud storage and then processed using python scripts in a High Performance Computer to parallelise the analysis."
      ]
    },
    {
      "cell_type": "code",
      "metadata": {
        "colab": {
          "base_uri": "https://localhost:8080/"
        },
        "id": "Sh9aL9Q91mWU",
        "outputId": "d644d962-fb15-43ce-9fe3-99779886b429"
      },
      "source": [
        "# Import, authenticate and initialize the Earth Engine library.\n",
        "import ee\n",
        "ee.Authenticate()\n",
        "ee.Initialize()"
      ],
      "execution_count": 1,
      "outputs": [
        {
          "output_type": "stream",
          "text": [
            "To authorize access needed by Earth Engine, open the following URL in a web browser and follow the instructions. If the web browser does not start automatically, please manually browse the URL below.\n",
            "\n",
            "    https://accounts.google.com/o/oauth2/auth?client_id=517222506229-vsmmajv00ul0bs7p89v5m89qs8eb9359.apps.googleusercontent.com&scope=https%3A%2F%2Fwww.googleapis.com%2Fauth%2Fearthengine+https%3A%2F%2Fwww.googleapis.com%2Fauth%2Fdevstorage.full_control&redirect_uri=urn%3Aietf%3Awg%3Aoauth%3A2.0%3Aoob&response_type=code&code_challenge=HFn2_fZnz9UDaOCgxQi8Djq8UJ1xToSkjbZkdgraJqQ&code_challenge_method=S256\n",
            "\n",
            "The authorization workflow will generate a code, which you should paste in the box below. \n",
            "Enter verification code: 4/1AY0e-g6Gx47WhlE2iJ3qYX9vMoFpybv55bmpGM7p5rcCSYMoLm5P1xn77Aw\n",
            "\n",
            "Successfully saved authorization token.\n"
          ],
          "name": "stdout"
        }
      ]
    },
    {
      "cell_type": "code",
      "metadata": {
        "colab": {
          "base_uri": "https://localhost:8080/"
        },
        "id": "8THrV6-v1n35",
        "outputId": "c095e303-b397-43b5-ab2a-93b0c9d7606a"
      },
      "source": [
        "import folium\n",
        "import time\n",
        "\n",
        "\n",
        "print(folium.__version__)"
      ],
      "execution_count": 2,
      "outputs": [
        {
          "output_type": "stream",
          "text": [
            "0.8.3\n"
          ],
          "name": "stdout"
        }
      ]
    },
    {
      "cell_type": "markdown",
      "metadata": {
        "id": "Mesqd3pXuUNh"
      },
      "source": [
        "### Defining functions for tiling the data"
      ]
    },
    {
      "cell_type": "code",
      "metadata": {
        "id": "ZRenXL921oHV"
      },
      "source": [
        "def generateGrid(xmin, ymin, xmax, ymax, dx, dy, marginx, marginy):\n",
        "  xx = ee.List.sequence(xmin, ee.Number(xmax).subtract(ee.Number(dx).multiply(0.9)), dx)\n",
        "  yy = ee.List.sequence(ymin, ee.Number(ymax).subtract(ee.Number(dy).multiply(0.9)), dy)\n",
        "  \n",
        "  def innerX(x):\n",
        "    def innerY(y):\n",
        "      x1 = ee.Number(x).subtract(marginx)\n",
        "      x2 = ee.Number(x).add(ee.Number(dx)).add(marginx)\n",
        "      y1 = ee.Number(y).subtract(marginy)\n",
        "      y2 = ee.Number(y).add(ee.Number(dy)).add(marginy)\n",
        "      coords = ee.List([x1, y1, x2, y2])\n",
        "      rect = ee.Algorithms.GeometryConstructors.Rectangle(coords, 'EPSG:4326', False)\n",
        "      return ee.Feature(rect)\n",
        "    return yy.map(innerY)\n",
        "  cells = xx.map(innerX).flatten()\n",
        "\n",
        "  return ee.FeatureCollection(cells)\n",
        "\n",
        "\n",
        "def parse_id(fea):\n",
        "  return fea.set('id', ee.Number.parse(fea.id()))"
      ],
      "execution_count": 3,
      "outputs": []
    },
    {
      "cell_type": "markdown",
      "metadata": {
        "id": "vMcDdpB_uk97"
      },
      "source": [
        "### Grid definition"
      ]
    },
    {
      "cell_type": "code",
      "metadata": {
        "id": "H_6cF1Q_89Wd"
      },
      "source": [
        "land = ee.FeatureCollection('users/ignisfausto/Land_border')\n",
        "grid = generateGrid(-180, -56, 180, 60, 10, 10, 0, 0)\n",
        "grid = grid.map(parse_id)\n",
        "grid = grid.filterBounds(land)"
      ],
      "execution_count": 4,
      "outputs": []
    },
    {
      "cell_type": "code",
      "metadata": {
        "colab": {
          "base_uri": "https://localhost:8080/",
          "height": 866
        },
        "id": "n0OxovZc8zgs",
        "outputId": "643a866f-2353-43d5-b73d-abccab5a86ea"
      },
      "source": [
        "mapid = ee.FeatureCollection(grid).getMapId({'opacity':0.1})\n",
        "map = folium.Map(location=[-30.63, 149.91], zoom_start=2)\n",
        "folium.TileLayer(\n",
        "    tiles = 'https://server.arcgisonline.com/ArcGIS/rest/services/World_Imagery/MapServer/tile/{z}/{y}/{x}',\n",
        "    attr='Map Data &copy; <a href=\"https://earthengine.google.com/\">Google Earth Engine</a>',\n",
        "    overlay=True,\n",
        "    name='satellite',\n",
        "  ).add_to(map)\n",
        "folium.TileLayer(\n",
        "    tiles=mapid['tile_fetcher'].url_format,\n",
        "    attr='Map Data &copy; <a href=\"https://earthengine.google.com/\">Google Earth Engine</a>',\n",
        "    overlay=True,\n",
        "    name='grid',\n",
        "  ).add_to(map)\n",
        "map.add_child(folium.LayerControl())\n",
        "map"
      ],
      "execution_count": 7,
      "outputs": [
        {
          "output_type": "execute_result",
          "data": {
            "text/html": [
              "<div style=\"width:100%;\"><div style=\"position:relative;width:100%;height:0;padding-bottom:60%;\"><span style=\"color:#565656\">Make this Notebook Trusted to load map: File -> Trust Notebook</span><iframe src=\"about:blank\" style=\"position:absolute;width:100%;height:100%;left:0;top:0;border:none !important;\" data-html=%3C%21DOCTYPE%20html%3E%0A%3Chead%3E%20%20%20%20%0A%20%20%20%20%3Cmeta%20http-equiv%3D%22content-type%22%20content%3D%22text/html%3B%20charset%3DUTF-8%22%20/%3E%0A%20%20%20%20%3Cscript%3EL_PREFER_CANVAS%3Dfalse%3B%20L_NO_TOUCH%3Dfalse%3B%20L_DISABLE_3D%3Dfalse%3B%3C/script%3E%0A%20%20%20%20%3Cscript%20src%3D%22https%3A//cdn.jsdelivr.net/npm/leaflet%401.4.0/dist/leaflet.js%22%3E%3C/script%3E%0A%20%20%20%20%3Cscript%20src%3D%22https%3A//code.jquery.com/jquery-1.12.4.min.js%22%3E%3C/script%3E%0A%20%20%20%20%3Cscript%20src%3D%22https%3A//maxcdn.bootstrapcdn.com/bootstrap/3.2.0/js/bootstrap.min.js%22%3E%3C/script%3E%0A%20%20%20%20%3Cscript%20src%3D%22https%3A//cdnjs.cloudflare.com/ajax/libs/Leaflet.awesome-markers/2.0.2/leaflet.awesome-markers.js%22%3E%3C/script%3E%0A%20%20%20%20%3Clink%20rel%3D%22stylesheet%22%20href%3D%22https%3A//cdn.jsdelivr.net/npm/leaflet%401.4.0/dist/leaflet.css%22/%3E%0A%20%20%20%20%3Clink%20rel%3D%22stylesheet%22%20href%3D%22https%3A//maxcdn.bootstrapcdn.com/bootstrap/3.2.0/css/bootstrap.min.css%22/%3E%0A%20%20%20%20%3Clink%20rel%3D%22stylesheet%22%20href%3D%22https%3A//maxcdn.bootstrapcdn.com/bootstrap/3.2.0/css/bootstrap-theme.min.css%22/%3E%0A%20%20%20%20%3Clink%20rel%3D%22stylesheet%22%20href%3D%22https%3A//maxcdn.bootstrapcdn.com/font-awesome/4.6.3/css/font-awesome.min.css%22/%3E%0A%20%20%20%20%3Clink%20rel%3D%22stylesheet%22%20href%3D%22https%3A//cdnjs.cloudflare.com/ajax/libs/Leaflet.awesome-markers/2.0.2/leaflet.awesome-markers.css%22/%3E%0A%20%20%20%20%3Clink%20rel%3D%22stylesheet%22%20href%3D%22https%3A//rawcdn.githack.com/python-visualization/folium/master/folium/templates/leaflet.awesome.rotate.css%22/%3E%0A%20%20%20%20%3Cstyle%3Ehtml%2C%20body%20%7Bwidth%3A%20100%25%3Bheight%3A%20100%25%3Bmargin%3A%200%3Bpadding%3A%200%3B%7D%3C/style%3E%0A%20%20%20%20%3Cstyle%3E%23map%20%7Bposition%3Aabsolute%3Btop%3A0%3Bbottom%3A0%3Bright%3A0%3Bleft%3A0%3B%7D%3C/style%3E%0A%20%20%20%20%0A%20%20%20%20%3Cmeta%20name%3D%22viewport%22%20content%3D%22width%3Ddevice-width%2C%0A%20%20%20%20%20%20%20%20initial-scale%3D1.0%2C%20maximum-scale%3D1.0%2C%20user-scalable%3Dno%22%20/%3E%0A%20%20%20%20%3Cstyle%3E%23map_5ea3c87a348943b1aa4d5c34df5e0da7%20%7B%0A%20%20%20%20%20%20%20%20position%3A%20relative%3B%0A%20%20%20%20%20%20%20%20width%3A%20100.0%25%3B%0A%20%20%20%20%20%20%20%20height%3A%20100.0%25%3B%0A%20%20%20%20%20%20%20%20left%3A%200.0%25%3B%0A%20%20%20%20%20%20%20%20top%3A%200.0%25%3B%0A%20%20%20%20%20%20%20%20%7D%0A%20%20%20%20%3C/style%3E%0A%3C/head%3E%0A%3Cbody%3E%20%20%20%20%0A%20%20%20%20%0A%20%20%20%20%3Cdiv%20class%3D%22folium-map%22%20id%3D%22map_5ea3c87a348943b1aa4d5c34df5e0da7%22%20%3E%3C/div%3E%0A%3C/body%3E%0A%3Cscript%3E%20%20%20%20%0A%20%20%20%20%0A%20%20%20%20%0A%20%20%20%20%20%20%20%20var%20bounds%20%3D%20null%3B%0A%20%20%20%20%0A%0A%20%20%20%20var%20map_5ea3c87a348943b1aa4d5c34df5e0da7%20%3D%20L.map%28%0A%20%20%20%20%20%20%20%20%27map_5ea3c87a348943b1aa4d5c34df5e0da7%27%2C%20%7B%0A%20%20%20%20%20%20%20%20center%3A%20%5B-30.63%2C%20149.91%5D%2C%0A%20%20%20%20%20%20%20%20zoom%3A%202%2C%0A%20%20%20%20%20%20%20%20maxBounds%3A%20bounds%2C%0A%20%20%20%20%20%20%20%20layers%3A%20%5B%5D%2C%0A%20%20%20%20%20%20%20%20worldCopyJump%3A%20false%2C%0A%20%20%20%20%20%20%20%20crs%3A%20L.CRS.EPSG3857%2C%0A%20%20%20%20%20%20%20%20zoomControl%3A%20true%2C%0A%20%20%20%20%20%20%20%20%7D%29%3B%0A%0A%0A%20%20%20%20%0A%20%20%20%20var%20tile_layer_aaf2732ac72c4f83b19c9049d2fbb573%20%3D%20L.tileLayer%28%0A%20%20%20%20%20%20%20%20%27https%3A//%7Bs%7D.tile.openstreetmap.org/%7Bz%7D/%7Bx%7D/%7By%7D.png%27%2C%0A%20%20%20%20%20%20%20%20%7B%0A%20%20%20%20%20%20%20%20%22attribution%22%3A%20null%2C%0A%20%20%20%20%20%20%20%20%22detectRetina%22%3A%20false%2C%0A%20%20%20%20%20%20%20%20%22maxNativeZoom%22%3A%2018%2C%0A%20%20%20%20%20%20%20%20%22maxZoom%22%3A%2018%2C%0A%20%20%20%20%20%20%20%20%22minZoom%22%3A%200%2C%0A%20%20%20%20%20%20%20%20%22noWrap%22%3A%20false%2C%0A%20%20%20%20%20%20%20%20%22opacity%22%3A%201%2C%0A%20%20%20%20%20%20%20%20%22subdomains%22%3A%20%22abc%22%2C%0A%20%20%20%20%20%20%20%20%22tms%22%3A%20false%0A%7D%29.addTo%28map_5ea3c87a348943b1aa4d5c34df5e0da7%29%3B%0A%20%20%20%20var%20tile_layer_c3c1a99cd6a34a889aa5da71db8626d6%20%3D%20L.tileLayer%28%0A%20%20%20%20%20%20%20%20%27https%3A//server.arcgisonline.com/ArcGIS/rest/services/World_Imagery/MapServer/tile/%7Bz%7D/%7By%7D/%7Bx%7D%27%2C%0A%20%20%20%20%20%20%20%20%7B%0A%20%20%20%20%20%20%20%20%22attribution%22%3A%20%22Map%20Data%20%26copy%3B%20%3Ca%20href%3D%5C%22https%3A//earthengine.google.com/%5C%22%3EGoogle%20Earth%20Engine%3C/a%3E%22%2C%0A%20%20%20%20%20%20%20%20%22detectRetina%22%3A%20false%2C%0A%20%20%20%20%20%20%20%20%22maxNativeZoom%22%3A%2018%2C%0A%20%20%20%20%20%20%20%20%22maxZoom%22%3A%2018%2C%0A%20%20%20%20%20%20%20%20%22minZoom%22%3A%200%2C%0A%20%20%20%20%20%20%20%20%22noWrap%22%3A%20false%2C%0A%20%20%20%20%20%20%20%20%22opacity%22%3A%201%2C%0A%20%20%20%20%20%20%20%20%22subdomains%22%3A%20%22abc%22%2C%0A%20%20%20%20%20%20%20%20%22tms%22%3A%20false%0A%7D%29.addTo%28map_5ea3c87a348943b1aa4d5c34df5e0da7%29%3B%0A%20%20%20%20var%20tile_layer_22819276a29242649c4eda53318529a4%20%3D%20L.tileLayer%28%0A%20%20%20%20%20%20%20%20%27https%3A//earthengine.googleapis.com/v1alpha/projects/earthengine-legacy/maps/7515ef629faff68e623f84da19e773a6-bfd9ea68323ae940c6407f600ffe2a01/tiles/%7Bz%7D/%7Bx%7D/%7By%7D%27%2C%0A%20%20%20%20%20%20%20%20%7B%0A%20%20%20%20%20%20%20%20%22attribution%22%3A%20%22Map%20Data%20%26copy%3B%20%3Ca%20href%3D%5C%22https%3A//earthengine.google.com/%5C%22%3EGoogle%20Earth%20Engine%3C/a%3E%22%2C%0A%20%20%20%20%20%20%20%20%22detectRetina%22%3A%20false%2C%0A%20%20%20%20%20%20%20%20%22maxNativeZoom%22%3A%2018%2C%0A%20%20%20%20%20%20%20%20%22maxZoom%22%3A%2018%2C%0A%20%20%20%20%20%20%20%20%22minZoom%22%3A%200%2C%0A%20%20%20%20%20%20%20%20%22noWrap%22%3A%20false%2C%0A%20%20%20%20%20%20%20%20%22opacity%22%3A%201%2C%0A%20%20%20%20%20%20%20%20%22subdomains%22%3A%20%22abc%22%2C%0A%20%20%20%20%20%20%20%20%22tms%22%3A%20false%0A%7D%29.addTo%28map_5ea3c87a348943b1aa4d5c34df5e0da7%29%3B%0A%20%20%20%20%0A%20%20%20%20%20%20%20%20%20%20%20%20var%20layer_control_604c14539890410ca440fb30b1abe8c8%20%3D%20%7B%0A%20%20%20%20%20%20%20%20%20%20%20%20%20%20%20%20base_layers%20%3A%20%7B%20%22openstreetmap%22%20%3A%20tile_layer_aaf2732ac72c4f83b19c9049d2fbb573%2C%20%7D%2C%0A%20%20%20%20%20%20%20%20%20%20%20%20%20%20%20%20overlays%20%3A%20%7B%20%22satellite%22%20%3A%20tile_layer_c3c1a99cd6a34a889aa5da71db8626d6%2C%22grid%22%20%3A%20tile_layer_22819276a29242649c4eda53318529a4%2C%20%7D%0A%20%20%20%20%20%20%20%20%20%20%20%20%20%20%20%20%7D%3B%0A%20%20%20%20%20%20%20%20%20%20%20%20L.control.layers%28%0A%20%20%20%20%20%20%20%20%20%20%20%20%20%20%20%20layer_control_604c14539890410ca440fb30b1abe8c8.base_layers%2C%0A%20%20%20%20%20%20%20%20%20%20%20%20%20%20%20%20layer_control_604c14539890410ca440fb30b1abe8c8.overlays%2C%0A%20%20%20%20%20%20%20%20%20%20%20%20%20%20%20%20%7Bposition%3A%20%27topright%27%2C%0A%20%20%20%20%20%20%20%20%20%20%20%20%20%20%20%20%20collapsed%3A%20true%2C%0A%20%20%20%20%20%20%20%20%20%20%20%20%20%20%20%20%20autoZIndex%3A%20true%0A%20%20%20%20%20%20%20%20%20%20%20%20%20%20%20%20%7D%29.addTo%28map_5ea3c87a348943b1aa4d5c34df5e0da7%29%3B%0A%20%20%20%20%20%20%20%20%20%20%20%20%0A%20%20%20%20%20%20%20%20%0A%3C/script%3E onload=\"this.contentDocument.open();this.contentDocument.write(    decodeURIComponent(this.getAttribute('data-html')));this.contentDocument.close();\" allowfullscreen webkitallowfullscreen mozallowfullscreen></iframe></div></div>"
            ],
            "text/plain": [
              "<folium.folium.Map at 0x7f10d9f5d8d0>"
            ]
          },
          "metadata": {
            "tags": []
          },
          "execution_count": 7
        }
      ]
    },
    {
      "cell_type": "markdown",
      "metadata": {
        "id": "aXa6qvLquqpO"
      },
      "source": [
        "### Loading Multiband (time series) images"
      ]
    },
    {
      "cell_type": "code",
      "metadata": {
        "id": "vRpZGv2fCY79"
      },
      "source": [
        "image = ee.Image(\"users/ignisfausto/SPEI_3month\")\n",
        "image2 = ee.Image(\"users/ignisfausto/SSI3_ERA5\")\n",
        "\n",
        "bands1 = image.bandNames()\n",
        "bands2 = image2.bandNames()"
      ],
      "execution_count": 9,
      "outputs": []
    },
    {
      "cell_type": "markdown",
      "metadata": {
        "id": "GngMsPRlu1fv"
      },
      "source": [
        "### Trnsforming multiband images to Image Collections"
      ]
    },
    {
      "cell_type": "code",
      "metadata": {
        "id": "i8AjzfdLCk65"
      },
      "source": [
        "def set_date(band):\n",
        "    img = image.select([band])\n",
        "    date = ee.Date(ee.String(band).slice(4).replace('_', '-').replace('_', '-'))\n",
        "    return img.rename('SPEI').setMulti({'system:time_start':date.millis(), 'date':date.format('YYYY_MM_dd')})\n",
        "\n",
        "SPEI = bands1.map(set_date)\n",
        "SPEI = ee.ImageCollection.fromImages(SPEI).sort('system:time_start', True)\n",
        "\n",
        "def set_date2(band):\n",
        "    img = image2.select([band])\n",
        "    date = ee.Date(ee.String(band).slice(4).replace('_', '-').replace('_', '-'))\n",
        "    return img.rename('SRI').setMulti({'system:time_start':date.millis(), 'date':date.format('YYYY_MM_dd')})\n",
        "\n",
        "SRI = bands2.map(set_date2)\n",
        "SRI = ee.ImageCollection.fromImages(SRI).sort('system:time_start', True)\n",
        "\n"
      ],
      "execution_count": 12,
      "outputs": []
    },
    {
      "cell_type": "markdown",
      "metadata": {
        "id": "X1DOZu1Yu9iy"
      },
      "source": [
        "### Merging Image Collections and creating single multiband image"
      ]
    },
    {
      "cell_type": "code",
      "metadata": {
        "colab": {
          "base_uri": "https://localhost:8080/"
        },
        "id": "L-9VQDF2Nxql",
        "outputId": "3e9e85c4-04da-4116-fb76-39994e5016e7"
      },
      "source": [
        "innerJoined = ee.Join.inner().apply(primary=SPEI,\n",
        "                                    secondary=SRI,\n",
        "                                    condition=ee.Filter.equals(leftField='system:time_start',\n",
        "                                                               rightField='system:time_start'))\n",
        "def mergeImageBands1(joinResult):\n",
        "    spei = ee.Image(joinResult.get('primary'))\n",
        "    return spei\n",
        "\n",
        "\n",
        "def mergeImageBands2(joinResult):\n",
        "    spei = ee.Image(joinResult.get('primary'))\n",
        "    svi = ee.Image(joinResult.get('secondary')).updateMask(spei.gt(-999))\n",
        "    return svi\n",
        "\n",
        "\n",
        "merged1 = ee.ImageCollection(innerJoined.map(mergeImageBands1))\n",
        "merged2 = ee.ImageCollection(innerJoined.map(mergeImageBands2))\n",
        "\n",
        "dates = merged1.aggregate_array('date')\n",
        "\n",
        "def set_band_names1(date):\n",
        "    return ee.String('SPEI').cat(date)\n",
        "\n",
        "\n",
        "def set_band_names2(date):\n",
        "    return ee.String('SRI').cat(date)\n",
        "\n",
        "new_bands1 = dates.map(set_band_names1)\n",
        "new_bands2 = dates.map(set_band_names2)\n",
        "\n",
        "toExp = merged1.toBands().rename(new_bands1).addBands(merged2.toBands().rename(new_bands2))\n",
        "print(toExp.bandNames().getInfo())\n",
        "\n"
      ],
      "execution_count": 15,
      "outputs": [
        {
          "output_type": "stream",
          "text": [
            "['SPEI1982_02_01', 'SPEI1982_03_01', 'SPEI1982_04_01', 'SPEI1982_05_01', 'SPEI1982_06_01', 'SPEI1982_07_01', 'SPEI1982_08_01', 'SPEI1982_09_01', 'SPEI1982_10_01', 'SPEI1982_11_01', 'SPEI1982_12_01', 'SPEI1983_01_01', 'SPEI1983_02_01', 'SPEI1983_03_01', 'SPEI1983_04_01', 'SPEI1983_05_01', 'SPEI1983_06_01', 'SPEI1983_07_01', 'SPEI1983_08_01', 'SPEI1983_09_01', 'SPEI1983_10_01', 'SPEI1983_11_01', 'SPEI1983_12_01', 'SPEI1984_01_01', 'SPEI1984_02_01', 'SPEI1984_03_01', 'SPEI1984_04_01', 'SPEI1984_05_01', 'SPEI1984_06_01', 'SPEI1984_07_01', 'SPEI1984_08_01', 'SPEI1984_09_01', 'SPEI1984_10_01', 'SPEI1984_11_01', 'SPEI1984_12_01', 'SPEI1985_01_01', 'SPEI1985_02_01', 'SPEI1985_03_01', 'SPEI1985_04_01', 'SPEI1985_05_01', 'SPEI1985_06_01', 'SPEI1985_07_01', 'SPEI1985_08_01', 'SPEI1985_09_01', 'SPEI1985_10_01', 'SPEI1985_11_01', 'SPEI1985_12_01', 'SPEI1986_01_01', 'SPEI1986_02_01', 'SPEI1986_03_01', 'SPEI1986_04_01', 'SPEI1986_05_01', 'SPEI1986_06_01', 'SPEI1986_07_01', 'SPEI1986_08_01', 'SPEI1986_09_01', 'SPEI1986_10_01', 'SPEI1986_11_01', 'SPEI1986_12_01', 'SPEI1987_01_01', 'SPEI1987_02_01', 'SPEI1987_03_01', 'SPEI1987_04_01', 'SPEI1987_05_01', 'SPEI1987_06_01', 'SPEI1987_07_01', 'SPEI1987_08_01', 'SPEI1987_09_01', 'SPEI1987_10_01', 'SPEI1987_11_01', 'SPEI1987_12_01', 'SPEI1988_01_01', 'SPEI1988_02_01', 'SPEI1988_03_01', 'SPEI1988_04_01', 'SPEI1988_05_01', 'SPEI1988_06_01', 'SPEI1988_07_01', 'SPEI1988_08_01', 'SPEI1988_09_01', 'SPEI1988_10_01', 'SPEI1988_11_01', 'SPEI1988_12_01', 'SPEI1989_01_01', 'SPEI1989_02_01', 'SPEI1989_03_01', 'SPEI1989_04_01', 'SPEI1989_05_01', 'SPEI1989_06_01', 'SPEI1989_07_01', 'SPEI1989_08_01', 'SPEI1989_09_01', 'SPEI1989_10_01', 'SPEI1989_11_01', 'SPEI1989_12_01', 'SPEI1990_01_01', 'SPEI1990_02_01', 'SPEI1990_03_01', 'SPEI1990_04_01', 'SPEI1990_05_01', 'SPEI1990_06_01', 'SPEI1990_07_01', 'SPEI1990_08_01', 'SPEI1990_09_01', 'SPEI1990_10_01', 'SPEI1990_11_01', 'SPEI1990_12_01', 'SPEI1991_01_01', 'SPEI1991_02_01', 'SPEI1991_03_01', 'SPEI1991_04_01', 'SPEI1991_05_01', 'SPEI1991_06_01', 'SPEI1991_07_01', 'SPEI1991_08_01', 'SPEI1991_09_01', 'SPEI1991_10_01', 'SPEI1991_11_01', 'SPEI1991_12_01', 'SPEI1992_01_01', 'SPEI1992_02_01', 'SPEI1992_03_01', 'SPEI1992_04_01', 'SPEI1992_05_01', 'SPEI1992_06_01', 'SPEI1992_07_01', 'SPEI1992_08_01', 'SPEI1992_09_01', 'SPEI1992_10_01', 'SPEI1992_11_01', 'SPEI1992_12_01', 'SPEI1993_01_01', 'SPEI1993_02_01', 'SPEI1993_03_01', 'SPEI1993_04_01', 'SPEI1993_05_01', 'SPEI1993_06_01', 'SPEI1993_07_01', 'SPEI1993_08_01', 'SPEI1993_09_01', 'SPEI1993_10_01', 'SPEI1993_11_01', 'SPEI1993_12_01', 'SPEI1994_01_01', 'SPEI1994_02_01', 'SPEI1994_03_01', 'SPEI1994_04_01', 'SPEI1994_05_01', 'SPEI1994_06_01', 'SPEI1994_07_01', 'SPEI1994_08_01', 'SPEI1994_09_01', 'SPEI1994_10_01', 'SPEI1994_11_01', 'SPEI1994_12_01', 'SPEI1995_01_01', 'SPEI1995_02_01', 'SPEI1995_03_01', 'SPEI1995_04_01', 'SPEI1995_05_01', 'SPEI1995_06_01', 'SPEI1995_07_01', 'SPEI1995_08_01', 'SPEI1995_09_01', 'SPEI1995_10_01', 'SPEI1995_11_01', 'SPEI1995_12_01', 'SPEI1996_01_01', 'SPEI1996_02_01', 'SPEI1996_03_01', 'SPEI1996_04_01', 'SPEI1996_05_01', 'SPEI1996_06_01', 'SPEI1996_07_01', 'SPEI1996_08_01', 'SPEI1996_09_01', 'SPEI1996_10_01', 'SPEI1996_11_01', 'SPEI1996_12_01', 'SPEI1997_01_01', 'SPEI1997_02_01', 'SPEI1997_03_01', 'SPEI1997_04_01', 'SPEI1997_05_01', 'SPEI1997_06_01', 'SPEI1997_07_01', 'SPEI1997_08_01', 'SPEI1997_09_01', 'SPEI1997_10_01', 'SPEI1997_11_01', 'SPEI1997_12_01', 'SPEI1998_01_01', 'SPEI1998_02_01', 'SPEI1998_03_01', 'SPEI1998_04_01', 'SPEI1998_05_01', 'SPEI1998_06_01', 'SPEI1998_07_01', 'SPEI1998_08_01', 'SPEI1998_09_01', 'SPEI1998_10_01', 'SPEI1998_11_01', 'SPEI1998_12_01', 'SPEI1999_01_01', 'SPEI1999_02_01', 'SPEI1999_03_01', 'SPEI1999_04_01', 'SPEI1999_05_01', 'SPEI1999_06_01', 'SPEI1999_07_01', 'SPEI1999_08_01', 'SPEI1999_09_01', 'SPEI1999_10_01', 'SPEI1999_11_01', 'SPEI1999_12_01', 'SPEI2000_01_01', 'SPEI2000_02_01', 'SPEI2000_03_01', 'SPEI2000_04_01', 'SPEI2000_05_01', 'SPEI2000_06_01', 'SPEI2000_07_01', 'SPEI2000_08_01', 'SPEI2000_09_01', 'SPEI2000_10_01', 'SPEI2000_11_01', 'SPEI2000_12_01', 'SPEI2001_01_01', 'SPEI2001_02_01', 'SPEI2001_03_01', 'SPEI2001_04_01', 'SPEI2001_05_01', 'SPEI2001_06_01', 'SPEI2001_07_01', 'SPEI2001_08_01', 'SPEI2001_09_01', 'SPEI2001_10_01', 'SPEI2001_11_01', 'SPEI2001_12_01', 'SPEI2002_01_01', 'SPEI2002_02_01', 'SPEI2002_03_01', 'SPEI2002_04_01', 'SPEI2002_05_01', 'SPEI2002_06_01', 'SPEI2002_07_01', 'SPEI2002_08_01', 'SPEI2002_09_01', 'SPEI2002_10_01', 'SPEI2002_11_01', 'SPEI2002_12_01', 'SPEI2003_01_01', 'SPEI2003_02_01', 'SPEI2003_03_01', 'SPEI2003_04_01', 'SPEI2003_05_01', 'SPEI2003_06_01', 'SPEI2003_07_01', 'SPEI2003_08_01', 'SPEI2003_09_01', 'SPEI2003_10_01', 'SPEI2003_11_01', 'SPEI2003_12_01', 'SPEI2004_01_01', 'SPEI2004_02_01', 'SPEI2004_03_01', 'SPEI2004_04_01', 'SPEI2004_05_01', 'SPEI2004_06_01', 'SPEI2004_07_01', 'SPEI2004_08_01', 'SPEI2004_09_01', 'SPEI2004_10_01', 'SPEI2004_11_01', 'SPEI2004_12_01', 'SPEI2005_01_01', 'SPEI2005_02_01', 'SPEI2005_03_01', 'SPEI2005_04_01', 'SPEI2005_05_01', 'SPEI2005_06_01', 'SPEI2005_07_01', 'SPEI2005_08_01', 'SPEI2005_09_01', 'SPEI2005_10_01', 'SPEI2005_11_01', 'SPEI2005_12_01', 'SPEI2006_01_01', 'SPEI2006_02_01', 'SPEI2006_03_01', 'SPEI2006_04_01', 'SPEI2006_05_01', 'SPEI2006_06_01', 'SPEI2006_07_01', 'SPEI2006_08_01', 'SPEI2006_09_01', 'SPEI2006_10_01', 'SPEI2006_11_01', 'SPEI2006_12_01', 'SPEI2007_01_01', 'SPEI2007_02_01', 'SPEI2007_03_01', 'SPEI2007_04_01', 'SPEI2007_05_01', 'SPEI2007_06_01', 'SPEI2007_07_01', 'SPEI2007_08_01', 'SPEI2007_09_01', 'SPEI2007_10_01', 'SPEI2007_11_01', 'SPEI2007_12_01', 'SPEI2008_01_01', 'SPEI2008_02_01', 'SPEI2008_03_01', 'SPEI2008_04_01', 'SPEI2008_05_01', 'SPEI2008_06_01', 'SPEI2008_07_01', 'SPEI2008_08_01', 'SPEI2008_09_01', 'SPEI2008_10_01', 'SPEI2008_11_01', 'SPEI2008_12_01', 'SPEI2009_01_01', 'SPEI2009_02_01', 'SPEI2009_03_01', 'SPEI2009_04_01', 'SPEI2009_05_01', 'SPEI2009_06_01', 'SPEI2009_07_01', 'SPEI2009_08_01', 'SPEI2009_09_01', 'SPEI2009_10_01', 'SPEI2009_11_01', 'SPEI2009_12_01', 'SPEI2010_01_01', 'SPEI2010_02_01', 'SPEI2010_03_01', 'SPEI2010_04_01', 'SPEI2010_05_01', 'SPEI2010_06_01', 'SPEI2010_07_01', 'SPEI2010_08_01', 'SPEI2010_09_01', 'SPEI2010_10_01', 'SPEI2010_11_01', 'SPEI2010_12_01', 'SPEI2011_01_01', 'SPEI2011_02_01', 'SPEI2011_03_01', 'SPEI2011_04_01', 'SPEI2011_05_01', 'SPEI2011_06_01', 'SPEI2011_07_01', 'SPEI2011_08_01', 'SPEI2011_09_01', 'SPEI2011_10_01', 'SPEI2011_11_01', 'SPEI2011_12_01', 'SPEI2012_01_01', 'SPEI2012_02_01', 'SPEI2012_03_01', 'SPEI2012_04_01', 'SPEI2012_05_01', 'SPEI2012_06_01', 'SPEI2012_07_01', 'SPEI2012_08_01', 'SPEI2012_09_01', 'SPEI2012_10_01', 'SPEI2012_11_01', 'SPEI2012_12_01', 'SPEI2013_01_01', 'SPEI2013_02_01', 'SPEI2013_03_01', 'SPEI2013_04_01', 'SPEI2013_05_01', 'SPEI2013_06_01', 'SPEI2013_07_01', 'SPEI2013_08_01', 'SPEI2013_09_01', 'SPEI2013_10_01', 'SPEI2013_11_01', 'SPEI2013_12_01', 'SPEI2014_01_01', 'SPEI2014_02_01', 'SPEI2014_03_01', 'SPEI2014_04_01', 'SPEI2014_05_01', 'SPEI2014_06_01', 'SPEI2014_07_01', 'SPEI2014_08_01', 'SPEI2014_09_01', 'SPEI2014_10_01', 'SPEI2014_11_01', 'SPEI2014_12_01', 'SPEI2015_01_01', 'SPEI2015_02_01', 'SPEI2015_03_01', 'SPEI2015_04_01', 'SPEI2015_05_01', 'SPEI2015_06_01', 'SPEI2015_07_01', 'SPEI2015_08_01', 'SPEI2015_09_01', 'SPEI2015_10_01', 'SPEI2015_11_01', 'SPEI2015_12_01', 'SPEI2016_01_01', 'SPEI2016_02_01', 'SPEI2016_03_01', 'SPEI2016_04_01', 'SPEI2016_05_01', 'SPEI2016_06_01', 'SPEI2016_07_01', 'SPEI2016_08_01', 'SPEI2016_09_01', 'SPEI2016_10_01', 'SPEI2016_11_01', 'SPEI2016_12_01', 'SPEI2017_01_01', 'SPEI2017_02_01', 'SPEI2017_03_01', 'SPEI2017_04_01', 'SPEI2017_05_01', 'SPEI2017_06_01', 'SPEI2017_07_01', 'SPEI2017_08_01', 'SPEI2017_09_01', 'SPEI2017_10_01', 'SPEI2017_11_01', 'SPEI2017_12_01', 'SPEI2018_01_01', 'SPEI2018_02_01', 'SPEI2018_03_01', 'SPEI2018_04_01', 'SPEI2018_05_01', 'SPEI2018_06_01', 'SPEI2018_07_01', 'SPEI2018_08_01', 'SPEI2018_09_01', 'SPEI2018_10_01', 'SPEI2018_11_01', 'SPEI2018_12_01', 'SPEI2019_01_01', 'SPEI2019_02_01', 'SPEI2019_03_01', 'SPEI2019_04_01', 'SPEI2019_05_01', 'SPEI2019_06_01', 'SPEI2019_07_01', 'SPEI2019_08_01', 'SPEI2019_09_01', 'SPEI2019_10_01', 'SPEI2019_11_01', 'SPEI2019_12_01', 'SRI1982_02_01', 'SRI1982_03_01', 'SRI1982_04_01', 'SRI1982_05_01', 'SRI1982_06_01', 'SRI1982_07_01', 'SRI1982_08_01', 'SRI1982_09_01', 'SRI1982_10_01', 'SRI1982_11_01', 'SRI1982_12_01', 'SRI1983_01_01', 'SRI1983_02_01', 'SRI1983_03_01', 'SRI1983_04_01', 'SRI1983_05_01', 'SRI1983_06_01', 'SRI1983_07_01', 'SRI1983_08_01', 'SRI1983_09_01', 'SRI1983_10_01', 'SRI1983_11_01', 'SRI1983_12_01', 'SRI1984_01_01', 'SRI1984_02_01', 'SRI1984_03_01', 'SRI1984_04_01', 'SRI1984_05_01', 'SRI1984_06_01', 'SRI1984_07_01', 'SRI1984_08_01', 'SRI1984_09_01', 'SRI1984_10_01', 'SRI1984_11_01', 'SRI1984_12_01', 'SRI1985_01_01', 'SRI1985_02_01', 'SRI1985_03_01', 'SRI1985_04_01', 'SRI1985_05_01', 'SRI1985_06_01', 'SRI1985_07_01', 'SRI1985_08_01', 'SRI1985_09_01', 'SRI1985_10_01', 'SRI1985_11_01', 'SRI1985_12_01', 'SRI1986_01_01', 'SRI1986_02_01', 'SRI1986_03_01', 'SRI1986_04_01', 'SRI1986_05_01', 'SRI1986_06_01', 'SRI1986_07_01', 'SRI1986_08_01', 'SRI1986_09_01', 'SRI1986_10_01', 'SRI1986_11_01', 'SRI1986_12_01', 'SRI1987_01_01', 'SRI1987_02_01', 'SRI1987_03_01', 'SRI1987_04_01', 'SRI1987_05_01', 'SRI1987_06_01', 'SRI1987_07_01', 'SRI1987_08_01', 'SRI1987_09_01', 'SRI1987_10_01', 'SRI1987_11_01', 'SRI1987_12_01', 'SRI1988_01_01', 'SRI1988_02_01', 'SRI1988_03_01', 'SRI1988_04_01', 'SRI1988_05_01', 'SRI1988_06_01', 'SRI1988_07_01', 'SRI1988_08_01', 'SRI1988_09_01', 'SRI1988_10_01', 'SRI1988_11_01', 'SRI1988_12_01', 'SRI1989_01_01', 'SRI1989_02_01', 'SRI1989_03_01', 'SRI1989_04_01', 'SRI1989_05_01', 'SRI1989_06_01', 'SRI1989_07_01', 'SRI1989_08_01', 'SRI1989_09_01', 'SRI1989_10_01', 'SRI1989_11_01', 'SRI1989_12_01', 'SRI1990_01_01', 'SRI1990_02_01', 'SRI1990_03_01', 'SRI1990_04_01', 'SRI1990_05_01', 'SRI1990_06_01', 'SRI1990_07_01', 'SRI1990_08_01', 'SRI1990_09_01', 'SRI1990_10_01', 'SRI1990_11_01', 'SRI1990_12_01', 'SRI1991_01_01', 'SRI1991_02_01', 'SRI1991_03_01', 'SRI1991_04_01', 'SRI1991_05_01', 'SRI1991_06_01', 'SRI1991_07_01', 'SRI1991_08_01', 'SRI1991_09_01', 'SRI1991_10_01', 'SRI1991_11_01', 'SRI1991_12_01', 'SRI1992_01_01', 'SRI1992_02_01', 'SRI1992_03_01', 'SRI1992_04_01', 'SRI1992_05_01', 'SRI1992_06_01', 'SRI1992_07_01', 'SRI1992_08_01', 'SRI1992_09_01', 'SRI1992_10_01', 'SRI1992_11_01', 'SRI1992_12_01', 'SRI1993_01_01', 'SRI1993_02_01', 'SRI1993_03_01', 'SRI1993_04_01', 'SRI1993_05_01', 'SRI1993_06_01', 'SRI1993_07_01', 'SRI1993_08_01', 'SRI1993_09_01', 'SRI1993_10_01', 'SRI1993_11_01', 'SRI1993_12_01', 'SRI1994_01_01', 'SRI1994_02_01', 'SRI1994_03_01', 'SRI1994_04_01', 'SRI1994_05_01', 'SRI1994_06_01', 'SRI1994_07_01', 'SRI1994_08_01', 'SRI1994_09_01', 'SRI1994_10_01', 'SRI1994_11_01', 'SRI1994_12_01', 'SRI1995_01_01', 'SRI1995_02_01', 'SRI1995_03_01', 'SRI1995_04_01', 'SRI1995_05_01', 'SRI1995_06_01', 'SRI1995_07_01', 'SRI1995_08_01', 'SRI1995_09_01', 'SRI1995_10_01', 'SRI1995_11_01', 'SRI1995_12_01', 'SRI1996_01_01', 'SRI1996_02_01', 'SRI1996_03_01', 'SRI1996_04_01', 'SRI1996_05_01', 'SRI1996_06_01', 'SRI1996_07_01', 'SRI1996_08_01', 'SRI1996_09_01', 'SRI1996_10_01', 'SRI1996_11_01', 'SRI1996_12_01', 'SRI1997_01_01', 'SRI1997_02_01', 'SRI1997_03_01', 'SRI1997_04_01', 'SRI1997_05_01', 'SRI1997_06_01', 'SRI1997_07_01', 'SRI1997_08_01', 'SRI1997_09_01', 'SRI1997_10_01', 'SRI1997_11_01', 'SRI1997_12_01', 'SRI1998_01_01', 'SRI1998_02_01', 'SRI1998_03_01', 'SRI1998_04_01', 'SRI1998_05_01', 'SRI1998_06_01', 'SRI1998_07_01', 'SRI1998_08_01', 'SRI1998_09_01', 'SRI1998_10_01', 'SRI1998_11_01', 'SRI1998_12_01', 'SRI1999_01_01', 'SRI1999_02_01', 'SRI1999_03_01', 'SRI1999_04_01', 'SRI1999_05_01', 'SRI1999_06_01', 'SRI1999_07_01', 'SRI1999_08_01', 'SRI1999_09_01', 'SRI1999_10_01', 'SRI1999_11_01', 'SRI1999_12_01', 'SRI2000_01_01', 'SRI2000_02_01', 'SRI2000_03_01', 'SRI2000_04_01', 'SRI2000_05_01', 'SRI2000_06_01', 'SRI2000_07_01', 'SRI2000_08_01', 'SRI2000_09_01', 'SRI2000_10_01', 'SRI2000_11_01', 'SRI2000_12_01', 'SRI2001_01_01', 'SRI2001_02_01', 'SRI2001_03_01', 'SRI2001_04_01', 'SRI2001_05_01', 'SRI2001_06_01', 'SRI2001_07_01', 'SRI2001_08_01', 'SRI2001_09_01', 'SRI2001_10_01', 'SRI2001_11_01', 'SRI2001_12_01', 'SRI2002_01_01', 'SRI2002_02_01', 'SRI2002_03_01', 'SRI2002_04_01', 'SRI2002_05_01', 'SRI2002_06_01', 'SRI2002_07_01', 'SRI2002_08_01', 'SRI2002_09_01', 'SRI2002_10_01', 'SRI2002_11_01', 'SRI2002_12_01', 'SRI2003_01_01', 'SRI2003_02_01', 'SRI2003_03_01', 'SRI2003_04_01', 'SRI2003_05_01', 'SRI2003_06_01', 'SRI2003_07_01', 'SRI2003_08_01', 'SRI2003_09_01', 'SRI2003_10_01', 'SRI2003_11_01', 'SRI2003_12_01', 'SRI2004_01_01', 'SRI2004_02_01', 'SRI2004_03_01', 'SRI2004_04_01', 'SRI2004_05_01', 'SRI2004_06_01', 'SRI2004_07_01', 'SRI2004_08_01', 'SRI2004_09_01', 'SRI2004_10_01', 'SRI2004_11_01', 'SRI2004_12_01', 'SRI2005_01_01', 'SRI2005_02_01', 'SRI2005_03_01', 'SRI2005_04_01', 'SRI2005_05_01', 'SRI2005_06_01', 'SRI2005_07_01', 'SRI2005_08_01', 'SRI2005_09_01', 'SRI2005_10_01', 'SRI2005_11_01', 'SRI2005_12_01', 'SRI2006_01_01', 'SRI2006_02_01', 'SRI2006_03_01', 'SRI2006_04_01', 'SRI2006_05_01', 'SRI2006_06_01', 'SRI2006_07_01', 'SRI2006_08_01', 'SRI2006_09_01', 'SRI2006_10_01', 'SRI2006_11_01', 'SRI2006_12_01', 'SRI2007_01_01', 'SRI2007_02_01', 'SRI2007_03_01', 'SRI2007_04_01', 'SRI2007_05_01', 'SRI2007_06_01', 'SRI2007_07_01', 'SRI2007_08_01', 'SRI2007_09_01', 'SRI2007_10_01', 'SRI2007_11_01', 'SRI2007_12_01', 'SRI2008_01_01', 'SRI2008_02_01', 'SRI2008_03_01', 'SRI2008_04_01', 'SRI2008_05_01', 'SRI2008_06_01', 'SRI2008_07_01', 'SRI2008_08_01', 'SRI2008_09_01', 'SRI2008_10_01', 'SRI2008_11_01', 'SRI2008_12_01', 'SRI2009_01_01', 'SRI2009_02_01', 'SRI2009_03_01', 'SRI2009_04_01', 'SRI2009_05_01', 'SRI2009_06_01', 'SRI2009_07_01', 'SRI2009_08_01', 'SRI2009_09_01', 'SRI2009_10_01', 'SRI2009_11_01', 'SRI2009_12_01', 'SRI2010_01_01', 'SRI2010_02_01', 'SRI2010_03_01', 'SRI2010_04_01', 'SRI2010_05_01', 'SRI2010_06_01', 'SRI2010_07_01', 'SRI2010_08_01', 'SRI2010_09_01', 'SRI2010_10_01', 'SRI2010_11_01', 'SRI2010_12_01', 'SRI2011_01_01', 'SRI2011_02_01', 'SRI2011_03_01', 'SRI2011_04_01', 'SRI2011_05_01', 'SRI2011_06_01', 'SRI2011_07_01', 'SRI2011_08_01', 'SRI2011_09_01', 'SRI2011_10_01', 'SRI2011_11_01', 'SRI2011_12_01', 'SRI2012_01_01', 'SRI2012_02_01', 'SRI2012_03_01', 'SRI2012_04_01', 'SRI2012_05_01', 'SRI2012_06_01', 'SRI2012_07_01', 'SRI2012_08_01', 'SRI2012_09_01', 'SRI2012_10_01', 'SRI2012_11_01', 'SRI2012_12_01', 'SRI2013_01_01', 'SRI2013_02_01', 'SRI2013_03_01', 'SRI2013_04_01', 'SRI2013_05_01', 'SRI2013_06_01', 'SRI2013_07_01', 'SRI2013_08_01', 'SRI2013_09_01', 'SRI2013_10_01', 'SRI2013_11_01', 'SRI2013_12_01', 'SRI2014_01_01', 'SRI2014_02_01', 'SRI2014_03_01', 'SRI2014_04_01', 'SRI2014_05_01', 'SRI2014_06_01', 'SRI2014_07_01', 'SRI2014_08_01', 'SRI2014_09_01', 'SRI2014_10_01', 'SRI2014_11_01', 'SRI2014_12_01', 'SRI2015_01_01', 'SRI2015_02_01', 'SRI2015_03_01', 'SRI2015_04_01', 'SRI2015_05_01', 'SRI2015_06_01', 'SRI2015_07_01', 'SRI2015_08_01', 'SRI2015_09_01', 'SRI2015_10_01', 'SRI2015_11_01', 'SRI2015_12_01', 'SRI2016_01_01', 'SRI2016_02_01', 'SRI2016_03_01', 'SRI2016_04_01', 'SRI2016_05_01', 'SRI2016_06_01', 'SRI2016_07_01', 'SRI2016_08_01', 'SRI2016_09_01', 'SRI2016_10_01', 'SRI2016_11_01', 'SRI2016_12_01', 'SRI2017_01_01', 'SRI2017_02_01', 'SRI2017_03_01', 'SRI2017_04_01', 'SRI2017_05_01', 'SRI2017_06_01', 'SRI2017_07_01', 'SRI2017_08_01', 'SRI2017_09_01', 'SRI2017_10_01', 'SRI2017_11_01', 'SRI2017_12_01', 'SRI2018_01_01', 'SRI2018_02_01', 'SRI2018_03_01', 'SRI2018_04_01', 'SRI2018_05_01', 'SRI2018_06_01', 'SRI2018_07_01', 'SRI2018_08_01', 'SRI2018_09_01', 'SRI2018_10_01', 'SRI2018_11_01', 'SRI2018_12_01', 'SRI2019_01_01', 'SRI2019_02_01', 'SRI2019_03_01', 'SRI2019_04_01', 'SRI2019_05_01', 'SRI2019_06_01', 'SRI2019_07_01', 'SRI2019_08_01', 'SRI2019_09_01', 'SRI2019_10_01', 'SRI2019_11_01', 'SRI2019_12_01']\n"
          ],
          "name": "stdout"
        }
      ]
    },
    {
      "cell_type": "code",
      "metadata": {
        "id": "b9vWUM9ZUKIp"
      },
      "source": [
        "vectors = grid.getInfo()"
      ],
      "execution_count": 18,
      "outputs": []
    },
    {
      "cell_type": "markdown",
      "metadata": {
        "id": "RvZSqiAIvOOT"
      },
      "source": [
        "### Exporting tiles to google cloud storage"
      ]
    },
    {
      "cell_type": "code",
      "metadata": {
        "id": "ybjxKNoRUY8f"
      },
      "source": [
        "for i, n in enumerate(vectors['features'][:]):\n",
        "    ee.batch.Export.image.toCloudStorage(image=toExp,\n",
        "                                  region=ee.Geometry(n['geometry']),\n",
        "                                  description='spei_sri_{}'.format(n['id']),\n",
        "                                  scale=25000,\n",
        "                                  bucket='files_drought',\n",
        "                                  maxPixels=1e13).start()\n",
        "    time.sleep(40)\n"
      ],
      "execution_count": null,
      "outputs": []
    }
  ]
}