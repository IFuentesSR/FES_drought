{
  "nbformat": 4,
  "nbformat_minor": 0,
  "metadata": {
    "colab": {
      "name": "AVHRR_MODIS_NDVI.ipynb",
      "provenance": [],
      "authorship_tag": "ABX9TyNE1lowhoUaBnMfWUAQRZJ1",
      "include_colab_link": true
    },
    "kernelspec": {
      "name": "python3",
      "display_name": "Python 3"
    },
    "language_info": {
      "name": "python"
    }
  },
  "cells": [
    {
      "cell_type": "markdown",
      "metadata": {
        "id": "view-in-github",
        "colab_type": "text"
      },
      "source": [
        "<a href=\"https://colab.research.google.com/github/IFuentesSR/RSE_drought/blob/main/AVHRR_MODIS_NDVI.ipynb\" target=\"_parent\"><img src=\"https://colab.research.google.com/assets/colab-badge.svg\" alt=\"Open In Colab\"/></a>"
      ]
    },
    {
      "cell_type": "markdown",
      "metadata": {
        "id": "oQ5x63F5PoA3"
      },
      "source": [
        "## Continuous NDVI collection from AVHRR and MODIS"
      ]
    },
    {
      "cell_type": "code",
      "metadata": {
        "colab": {
          "base_uri": "https://localhost:8080/"
        },
        "id": "BDM1psu2hNuY",
        "outputId": "3e9cd02a-69d6-44fa-92a1-fe044e7cec59"
      },
      "source": [
        "# Import, authenticate and initialize the Earth Engine library.\n",
        "import ee\n",
        "ee.Authenticate()\n",
        "ee.Initialize()"
      ],
      "execution_count": 2,
      "outputs": [
        {
          "output_type": "stream",
          "text": [
            "To authorize access needed by Earth Engine, open the following URL in a web browser and follow the instructions. If the web browser does not start automatically, please manually browse the URL below.\n",
            "\n",
            "    https://accounts.google.com/o/oauth2/auth?client_id=517222506229-vsmmajv00ul0bs7p89v5m89qs8eb9359.apps.googleusercontent.com&scope=https%3A%2F%2Fwww.googleapis.com%2Fauth%2Fearthengine+https%3A%2F%2Fwww.googleapis.com%2Fauth%2Fdevstorage.full_control&redirect_uri=urn%3Aietf%3Awg%3Aoauth%3A2.0%3Aoob&response_type=code&code_challenge=c460RJIVJZVJin8ExOCn290mPcUi1A_0kfRDR2fDTLk&code_challenge_method=S256\n",
            "\n",
            "The authorization workflow will generate a code, which you should paste in the box below. \n",
            "Enter verification code: 4/1AY0e-g6WKu1ApYc65STfpFzcGEbUAtRUvfJFDsxnJlEwIzJZHcKxfILuUT8\n",
            "\n",
            "Successfully saved authorization token.\n"
          ],
          "name": "stdout"
        }
      ]
    },
    {
      "cell_type": "code",
      "metadata": {
        "id": "tYwt4uVKj9XH"
      },
      "source": [
        "import folium\n",
        "import pandas as pd\n",
        "import matplotlib.pyplot as plt\n",
        "%matplotlib inline"
      ],
      "execution_count": 39,
      "outputs": []
    },
    {
      "cell_type": "markdown",
      "metadata": {
        "id": "bBJGJUy--gJu"
      },
      "source": [
        "### Defining functions to work with collections"
      ]
    },
    {
      "cell_type": "code",
      "metadata": {
        "id": "9Alsd6CwPhdk"
      },
      "source": [
        "def mask_Gi(img):\n",
        "  properties = img.propertyNames()\n",
        "  return img.updateMask(img.gt(-1)).copyProperties(img, properties)\n",
        "\n",
        "\n",
        "def temporal_aggregation_GIMMS(collection):\n",
        "    def inner(year):\n",
        "        months = ee.List.sequence(1,12)\n",
        "        def month_iteration(m):\n",
        "            date = ee.Date.fromYMD(year, m, 1)\n",
        "            return collection.select('ndvi').filterDate(date, date.advance(1, 'month')).mean().setMulti({'system:time_start': date.millis(), 'system:index':date.format('YYYY_MM_dd'), 'month': m})\n",
        "        return months.map(month_iteration)\n",
        "    return inner\n",
        "\n",
        "\n",
        "def temporal_aggregation_MODIS(collection, image):\n",
        "    def inner(year):\n",
        "        months = ee.List.sequence(1,12)\n",
        "        def month_iteration(m):\n",
        "            date = ee.Date.fromYMD(year, m, 1)\n",
        "            mean = collection.select('NDVI').filterDate(date, date.advance(1, 'month')).mean().multiply(0.0001)\n",
        "            mean = mean.reproject(image.projection(), ee.List([0.0833333333,0,-180,0,-0.08333333333,90]))\n",
        "            return mean.setMulti({'system:time_start': date.millis(), 'system:index':date.format('YYYY_MM_dd'), 'month':ee.Number(m)})\n",
        "        return months.map(month_iteration)\n",
        "    return inner\n",
        "\n",
        "\n",
        "def join(collection):\n",
        "    def wrap(img):\n",
        "        date = img.get('system:time_start')\n",
        "        img_retrieve = img.addBands(collection.filter(ee.Filter.eq('system:time_start', date)).first().rename('MOD'))\n",
        "        return img_retrieve.copyProperties(img, ['system:time_start', 'system:index', 'month'])\n",
        "    return wrap\n",
        "\n",
        "\n",
        "def get_OLS_coeffs(collection, reducer):\n",
        "    def wrap(n):\n",
        "        imgs = collection.filter(ee.Filter.eq('month', ee.Number(n)))\n",
        "        coefs = imgs.select(['MOD', 'ndvi']).reduce(reducer).set('month', n)\n",
        "        return coefs\n",
        "    return wrap\n",
        "\n",
        "\n",
        "def Mi2Gi(monthly_coefficients):\n",
        "    def wrap(img):\n",
        "        month = ee.Number(img.get('month'))\n",
        "        coeffs = monthly_coefficients.filter(ee.Filter.eq('month', month)).first()\n",
        "        predicted = coeffs.select('offset').add(coeffs.select('scale').multiply(img)).rename('ndvi')\n",
        "        return predicted.copyProperties(img, ['system:time_start', 'system:index'])\n",
        "    return wrap\n",
        "\n",
        "\n",
        "def sample_collection(geo):\n",
        "    def wrap(img):\n",
        "        date = ee.Date(img.get('system:time_start')).format('YYYY-MM-dd')\n",
        "        ndvi = img.reduceRegion('first', geo, 1000).values().get(0)\n",
        "        return ee.Feature(None, {'date':date, 'ndvi':ndvi})\n",
        "    return wrap\n"
      ],
      "execution_count": 34,
      "outputs": []
    },
    {
      "cell_type": "markdown",
      "metadata": {
        "id": "SnI-HZDk-qKo"
      },
      "source": [
        "### Calling collections and setting parameters for OLS"
      ]
    },
    {
      "cell_type": "code",
      "metadata": {
        "id": "LayftyVm-M99"
      },
      "source": [
        "Gi = ee.ImageCollection(\"NASA/GIMMS/3GV0\")\n",
        "Mi = ee.ImageCollection(\"MODIS/006/MOD13A2\")\n",
        "geo = ee.Geometry.Point([149.5462, -30.2282])\n",
        "months = ee.List.sequence(1,12)\n",
        "years = ee.List.sequence(2001, 2011)"
      ],
      "execution_count": 36,
      "outputs": []
    },
    {
      "cell_type": "markdown",
      "metadata": {
        "id": "F0Dnl9Xb-3ue"
      },
      "source": [
        "## Monthly aggregation of data"
      ]
    },
    {
      "cell_type": "code",
      "metadata": {
        "id": "ey51WPxkhBs1"
      },
      "source": [
        "Gi_sub = Gi.map(mask_Gi)\n",
        "GiAggs = years.map(temporal_aggregation_GIMMS(Gi_sub))\n",
        "GiAggs = ee.ImageCollection.fromImages(GiAggs.flatten())"
      ],
      "execution_count": 25,
      "outputs": []
    },
    {
      "cell_type": "code",
      "metadata": {
        "id": "N1e_RqRnyd5r"
      },
      "source": [
        "MiAggs = years.map(temporal_aggregation_MODIS(Mi, GiAggs.first()))\n",
        "MiAggs = ee.ImageCollection.fromImages(MiAggs.flatten())"
      ],
      "execution_count": 26,
      "outputs": []
    },
    {
      "cell_type": "markdown",
      "metadata": {
        "id": "-Q4HmwHv-8Dr"
      },
      "source": [
        "### Mapping AVHRR and MODIS NDVI"
      ]
    },
    {
      "cell_type": "code",
      "metadata": {
        "colab": {
          "base_uri": "https://localhost:8080/",
          "height": 866
        },
        "id": "9B3k1nT-iHn6",
        "outputId": "e3c216f9-0e50-48d3-d013-03aa5b6d5900"
      },
      "source": [
        "AVHRR_ex = GiAggs.filterDate('2005-04-01', '2012-01-01').first().getMapId({'min': 0, 'max': 1})\n",
        "MODIS_ex = MiAggs.filterDate('2005-04-01', '2012-01-01').first().getMapId({'min': 0, 'max': 1})\n",
        "map = folium.Map(location=[-30.63, 149.91], zoom_start=2)\n",
        "folium.TileLayer(\n",
        "    tiles=AVHRR_ex['tile_fetcher'].url_format,\n",
        "    attr='Map Data &copy; <a href=\"https://earthengine.google.com/\">Google Earth Engine</a>',\n",
        "    overlay=True,\n",
        "    name='AVHRR',\n",
        "  ).add_to(map)\n",
        "folium.TileLayer(\n",
        "    tiles=MODIS_ex['tile_fetcher'].url_format,\n",
        "    attr='Map Data &copy; <a href=\"https://earthengine.google.com/\">Google Earth Engine</a>',\n",
        "    overlay=True,\n",
        "    name='MODIS',\n",
        "  ).add_to(map)\n",
        "map.add_child(folium.LayerControl())\n",
        "map"
      ],
      "execution_count": 32,
      "outputs": [
        {
          "output_type": "execute_result",
          "data": {
            "text/html": [
              "<div style=\"width:100%;\"><div style=\"position:relative;width:100%;height:0;padding-bottom:60%;\"><span style=\"color:#565656\">Make this Notebook Trusted to load map: File -> Trust Notebook</span><iframe src=\"about:blank\" style=\"position:absolute;width:100%;height:100%;left:0;top:0;border:none !important;\" data-html=%3C%21DOCTYPE%20html%3E%0A%3Chead%3E%20%20%20%20%0A%20%20%20%20%3Cmeta%20http-equiv%3D%22content-type%22%20content%3D%22text/html%3B%20charset%3DUTF-8%22%20/%3E%0A%20%20%20%20%3Cscript%3EL_PREFER_CANVAS%3Dfalse%3B%20L_NO_TOUCH%3Dfalse%3B%20L_DISABLE_3D%3Dfalse%3B%3C/script%3E%0A%20%20%20%20%3Cscript%20src%3D%22https%3A//cdn.jsdelivr.net/npm/leaflet%401.4.0/dist/leaflet.js%22%3E%3C/script%3E%0A%20%20%20%20%3Cscript%20src%3D%22https%3A//code.jquery.com/jquery-1.12.4.min.js%22%3E%3C/script%3E%0A%20%20%20%20%3Cscript%20src%3D%22https%3A//maxcdn.bootstrapcdn.com/bootstrap/3.2.0/js/bootstrap.min.js%22%3E%3C/script%3E%0A%20%20%20%20%3Cscript%20src%3D%22https%3A//cdnjs.cloudflare.com/ajax/libs/Leaflet.awesome-markers/2.0.2/leaflet.awesome-markers.js%22%3E%3C/script%3E%0A%20%20%20%20%3Clink%20rel%3D%22stylesheet%22%20href%3D%22https%3A//cdn.jsdelivr.net/npm/leaflet%401.4.0/dist/leaflet.css%22/%3E%0A%20%20%20%20%3Clink%20rel%3D%22stylesheet%22%20href%3D%22https%3A//maxcdn.bootstrapcdn.com/bootstrap/3.2.0/css/bootstrap.min.css%22/%3E%0A%20%20%20%20%3Clink%20rel%3D%22stylesheet%22%20href%3D%22https%3A//maxcdn.bootstrapcdn.com/bootstrap/3.2.0/css/bootstrap-theme.min.css%22/%3E%0A%20%20%20%20%3Clink%20rel%3D%22stylesheet%22%20href%3D%22https%3A//maxcdn.bootstrapcdn.com/font-awesome/4.6.3/css/font-awesome.min.css%22/%3E%0A%20%20%20%20%3Clink%20rel%3D%22stylesheet%22%20href%3D%22https%3A//cdnjs.cloudflare.com/ajax/libs/Leaflet.awesome-markers/2.0.2/leaflet.awesome-markers.css%22/%3E%0A%20%20%20%20%3Clink%20rel%3D%22stylesheet%22%20href%3D%22https%3A//rawcdn.githack.com/python-visualization/folium/master/folium/templates/leaflet.awesome.rotate.css%22/%3E%0A%20%20%20%20%3Cstyle%3Ehtml%2C%20body%20%7Bwidth%3A%20100%25%3Bheight%3A%20100%25%3Bmargin%3A%200%3Bpadding%3A%200%3B%7D%3C/style%3E%0A%20%20%20%20%3Cstyle%3E%23map%20%7Bposition%3Aabsolute%3Btop%3A0%3Bbottom%3A0%3Bright%3A0%3Bleft%3A0%3B%7D%3C/style%3E%0A%20%20%20%20%0A%20%20%20%20%3Cmeta%20name%3D%22viewport%22%20content%3D%22width%3Ddevice-width%2C%0A%20%20%20%20%20%20%20%20initial-scale%3D1.0%2C%20maximum-scale%3D1.0%2C%20user-scalable%3Dno%22%20/%3E%0A%20%20%20%20%3Cstyle%3E%23map_99d9dd5860ff4e4db42a7fc113e9a772%20%7B%0A%20%20%20%20%20%20%20%20position%3A%20relative%3B%0A%20%20%20%20%20%20%20%20width%3A%20100.0%25%3B%0A%20%20%20%20%20%20%20%20height%3A%20100.0%25%3B%0A%20%20%20%20%20%20%20%20left%3A%200.0%25%3B%0A%20%20%20%20%20%20%20%20top%3A%200.0%25%3B%0A%20%20%20%20%20%20%20%20%7D%0A%20%20%20%20%3C/style%3E%0A%3C/head%3E%0A%3Cbody%3E%20%20%20%20%0A%20%20%20%20%0A%20%20%20%20%3Cdiv%20class%3D%22folium-map%22%20id%3D%22map_99d9dd5860ff4e4db42a7fc113e9a772%22%20%3E%3C/div%3E%0A%3C/body%3E%0A%3Cscript%3E%20%20%20%20%0A%20%20%20%20%0A%20%20%20%20%0A%20%20%20%20%20%20%20%20var%20bounds%20%3D%20null%3B%0A%20%20%20%20%0A%0A%20%20%20%20var%20map_99d9dd5860ff4e4db42a7fc113e9a772%20%3D%20L.map%28%0A%20%20%20%20%20%20%20%20%27map_99d9dd5860ff4e4db42a7fc113e9a772%27%2C%20%7B%0A%20%20%20%20%20%20%20%20center%3A%20%5B-30.63%2C%20149.91%5D%2C%0A%20%20%20%20%20%20%20%20zoom%3A%202%2C%0A%20%20%20%20%20%20%20%20maxBounds%3A%20bounds%2C%0A%20%20%20%20%20%20%20%20layers%3A%20%5B%5D%2C%0A%20%20%20%20%20%20%20%20worldCopyJump%3A%20false%2C%0A%20%20%20%20%20%20%20%20crs%3A%20L.CRS.EPSG3857%2C%0A%20%20%20%20%20%20%20%20zoomControl%3A%20true%2C%0A%20%20%20%20%20%20%20%20%7D%29%3B%0A%0A%0A%20%20%20%20%0A%20%20%20%20var%20tile_layer_19315299510a44fbb13e61d61378b3d3%20%3D%20L.tileLayer%28%0A%20%20%20%20%20%20%20%20%27https%3A//%7Bs%7D.tile.openstreetmap.org/%7Bz%7D/%7Bx%7D/%7By%7D.png%27%2C%0A%20%20%20%20%20%20%20%20%7B%0A%20%20%20%20%20%20%20%20%22attribution%22%3A%20null%2C%0A%20%20%20%20%20%20%20%20%22detectRetina%22%3A%20false%2C%0A%20%20%20%20%20%20%20%20%22maxNativeZoom%22%3A%2018%2C%0A%20%20%20%20%20%20%20%20%22maxZoom%22%3A%2018%2C%0A%20%20%20%20%20%20%20%20%22minZoom%22%3A%200%2C%0A%20%20%20%20%20%20%20%20%22noWrap%22%3A%20false%2C%0A%20%20%20%20%20%20%20%20%22opacity%22%3A%201%2C%0A%20%20%20%20%20%20%20%20%22subdomains%22%3A%20%22abc%22%2C%0A%20%20%20%20%20%20%20%20%22tms%22%3A%20false%0A%7D%29.addTo%28map_99d9dd5860ff4e4db42a7fc113e9a772%29%3B%0A%20%20%20%20var%20tile_layer_9ffc7bac216a43a39b4edbce97ee55e9%20%3D%20L.tileLayer%28%0A%20%20%20%20%20%20%20%20%27https%3A//earthengine.googleapis.com/v1alpha/projects/earthengine-legacy/maps/8d00c320491ed384369ce698a2482d6f-6b6b8e88bfc51e96088489d84db9fc47/tiles/%7Bz%7D/%7Bx%7D/%7By%7D%27%2C%0A%20%20%20%20%20%20%20%20%7B%0A%20%20%20%20%20%20%20%20%22attribution%22%3A%20%22Map%20Data%20%26copy%3B%20%3Ca%20href%3D%5C%22https%3A//earthengine.google.com/%5C%22%3EGoogle%20Earth%20Engine%3C/a%3E%22%2C%0A%20%20%20%20%20%20%20%20%22detectRetina%22%3A%20false%2C%0A%20%20%20%20%20%20%20%20%22maxNativeZoom%22%3A%2018%2C%0A%20%20%20%20%20%20%20%20%22maxZoom%22%3A%2018%2C%0A%20%20%20%20%20%20%20%20%22minZoom%22%3A%200%2C%0A%20%20%20%20%20%20%20%20%22noWrap%22%3A%20false%2C%0A%20%20%20%20%20%20%20%20%22opacity%22%3A%201%2C%0A%20%20%20%20%20%20%20%20%22subdomains%22%3A%20%22abc%22%2C%0A%20%20%20%20%20%20%20%20%22tms%22%3A%20false%0A%7D%29.addTo%28map_99d9dd5860ff4e4db42a7fc113e9a772%29%3B%0A%20%20%20%20var%20tile_layer_ed3f5aa09e02491abc5f71488b105ae3%20%3D%20L.tileLayer%28%0A%20%20%20%20%20%20%20%20%27https%3A//earthengine.googleapis.com/v1alpha/projects/earthengine-legacy/maps/52a274ed22e333aa6fad87ad156d811a-5bd3668d1b1d9f1934528821c19ee99f/tiles/%7Bz%7D/%7Bx%7D/%7By%7D%27%2C%0A%20%20%20%20%20%20%20%20%7B%0A%20%20%20%20%20%20%20%20%22attribution%22%3A%20%22Map%20Data%20%26copy%3B%20%3Ca%20href%3D%5C%22https%3A//earthengine.google.com/%5C%22%3EGoogle%20Earth%20Engine%3C/a%3E%22%2C%0A%20%20%20%20%20%20%20%20%22detectRetina%22%3A%20false%2C%0A%20%20%20%20%20%20%20%20%22maxNativeZoom%22%3A%2018%2C%0A%20%20%20%20%20%20%20%20%22maxZoom%22%3A%2018%2C%0A%20%20%20%20%20%20%20%20%22minZoom%22%3A%200%2C%0A%20%20%20%20%20%20%20%20%22noWrap%22%3A%20false%2C%0A%20%20%20%20%20%20%20%20%22opacity%22%3A%201%2C%0A%20%20%20%20%20%20%20%20%22subdomains%22%3A%20%22abc%22%2C%0A%20%20%20%20%20%20%20%20%22tms%22%3A%20false%0A%7D%29.addTo%28map_99d9dd5860ff4e4db42a7fc113e9a772%29%3B%0A%20%20%20%20%0A%20%20%20%20%20%20%20%20%20%20%20%20var%20layer_control_f176c9015f8a4b3d97936a3c14fa7123%20%3D%20%7B%0A%20%20%20%20%20%20%20%20%20%20%20%20%20%20%20%20base_layers%20%3A%20%7B%20%22openstreetmap%22%20%3A%20tile_layer_19315299510a44fbb13e61d61378b3d3%2C%20%7D%2C%0A%20%20%20%20%20%20%20%20%20%20%20%20%20%20%20%20overlays%20%3A%20%7B%20%22AVHRR%22%20%3A%20tile_layer_9ffc7bac216a43a39b4edbce97ee55e9%2C%22MODIS%22%20%3A%20tile_layer_ed3f5aa09e02491abc5f71488b105ae3%2C%20%7D%0A%20%20%20%20%20%20%20%20%20%20%20%20%20%20%20%20%7D%3B%0A%20%20%20%20%20%20%20%20%20%20%20%20L.control.layers%28%0A%20%20%20%20%20%20%20%20%20%20%20%20%20%20%20%20layer_control_f176c9015f8a4b3d97936a3c14fa7123.base_layers%2C%0A%20%20%20%20%20%20%20%20%20%20%20%20%20%20%20%20layer_control_f176c9015f8a4b3d97936a3c14fa7123.overlays%2C%0A%20%20%20%20%20%20%20%20%20%20%20%20%20%20%20%20%7Bposition%3A%20%27topright%27%2C%0A%20%20%20%20%20%20%20%20%20%20%20%20%20%20%20%20%20collapsed%3A%20true%2C%0A%20%20%20%20%20%20%20%20%20%20%20%20%20%20%20%20%20autoZIndex%3A%20true%0A%20%20%20%20%20%20%20%20%20%20%20%20%20%20%20%20%7D%29.addTo%28map_99d9dd5860ff4e4db42a7fc113e9a772%29%3B%0A%20%20%20%20%20%20%20%20%20%20%20%20%0A%20%20%20%20%20%20%20%20%0A%3C/script%3E onload=\"this.contentDocument.open();this.contentDocument.write(    decodeURIComponent(this.getAttribute('data-html')));this.contentDocument.close();\" allowfullscreen webkitallowfullscreen mozallowfullscreen></iframe></div></div>"
            ],
            "text/plain": [
              "<folium.folium.Map at 0x7f3363368fd0>"
            ]
          },
          "metadata": {
            "tags": []
          },
          "execution_count": 32
        }
      ]
    },
    {
      "cell_type": "markdown",
      "metadata": {
        "id": "_dBGlm4A_DvW"
      },
      "source": [
        "## Calculating monthly OLS coefficients for future prediction (using 10 years; 2001-2011)"
      ]
    },
    {
      "cell_type": "code",
      "metadata": {
        "id": "NhmtsqF6j2jS"
      },
      "source": [
        "joint = GiAggs.map(join(MiAggs))\n",
        "\n",
        "ols = ee.Reducer.linearFit()\n",
        "monthCoefs = months.map(get_OLS_coeffs(joint, ols))\n",
        "monthCoefs = ee.ImageCollection.fromImages(monthCoefs)"
      ],
      "execution_count": 51,
      "outputs": []
    },
    {
      "cell_type": "markdown",
      "metadata": {
        "id": "1DZtoh8M_XWp"
      },
      "source": [
        "## Converting MODIS to AVHRR signal based on monthly OLS and merging collections"
      ]
    },
    {
      "cell_type": "code",
      "metadata": {
        "id": "NSrpzTtf72w9"
      },
      "source": [
        "AllGiAggs = ee.List.sequence(1982, 2013).map(temporal_aggregation_GIMMS(Gi_sub))\n",
        "AllGiAggs = ee.ImageCollection.fromImages(AllGiAggs.flatten())\n",
        "NewMiAggs = ee.List.sequence(2014, 2020).map(temporal_aggregation_MODIS(Mi, GiAggs.first()))\n",
        "NewMiAggs = ee.ImageCollection.fromImages(NewMiAggs.flatten())\n",
        "GiFromMi = NewMiAggs.map(Mi2Gi(monthCoefs))\n",
        "AllGiAggs = AllGiAggs.merge(GiFromMi)"
      ],
      "execution_count": 57,
      "outputs": []
    },
    {
      "cell_type": "markdown",
      "metadata": {
        "id": "2g1-s4ia_kHT"
      },
      "source": [
        "### Sampling locations for testing"
      ]
    },
    {
      "cell_type": "code",
      "metadata": {
        "id": "Lc1pT8TI344V"
      },
      "source": [
        "samples = AllGiAggs.map(sample_collection(geo))\n",
        "samples = samples.getInfo()"
      ],
      "execution_count": 58,
      "outputs": []
    },
    {
      "cell_type": "code",
      "metadata": {
        "colab": {
          "base_uri": "https://localhost:8080/",
          "height": 282
        },
        "id": "iVFjarqN5EM4",
        "outputId": "46a0f101-0083-4b84-9cec-81e0ae6154a9"
      },
      "source": [
        "dates = [pd.to_datetime(n['properties']['date']) for n in samples['features']]\n",
        "ndvis = [n['properties']['ndvi'] for n in samples['features']]\n",
        "plt.plot(dates, ndvis)"
      ],
      "execution_count": 59,
      "outputs": [
        {
          "output_type": "execute_result",
          "data": {
            "text/plain": [
              "[<matplotlib.lines.Line2D at 0x7f335e863890>]"
            ]
          },
          "metadata": {
            "tags": []
          },
          "execution_count": 59
        },
        {
          "output_type": "display_data",
          "data": {
            "image/png": "[encoded data removed]",
            "text/plain": [
              "<Figure size 432x288 with 1 Axes>"
            ]
          },
          "metadata": {
            "tags": [],
            "needs_background": "light"
          }
        }
      ]
    }
  ]
}