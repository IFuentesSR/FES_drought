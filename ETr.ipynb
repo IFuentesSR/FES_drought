{
  "nbformat": 4,
  "nbformat_minor": 0,
  "metadata": {
    "colab": {
      "name": "ETr.ipynb",
      "provenance": [],
      "authorship_tag": "ABX9TyNhiZGR13RNLePwjt0C192Q",
      "include_colab_link": true
    },
    "kernelspec": {
      "name": "python3",
      "display_name": "Python 3"
    },
    "language_info": {
      "name": "python"
    }
  },
  "cells": [
    {
      "cell_type": "markdown",
      "metadata": {
        "id": "view-in-github",
        "colab_type": "text"
      },
      "source": [
        "<a href=\"https://colab.research.google.com/github/IFuentesSR/RSE_drought/blob/main/ETr.ipynb\" target=\"_parent\"><img src=\"https://colab.research.google.com/assets/colab-badge.svg\" alt=\"Open In Colab\"/></a>"
      ]
    },
    {
      "cell_type": "markdown",
      "metadata": {
        "id": "TzYG-6yAyNF_"
      },
      "source": [
        "## Reference ET from ERA5 and FLDAS"
      ]
    },
    {
      "cell_type": "code",
      "metadata": {
        "colab": {
          "base_uri": "https://localhost:8080/"
        },
        "id": "vkAXK9uuyJ9h",
        "outputId": "4f6ee2ef-9386-45b6-9b99-69a7532a7914"
      },
      "source": [
        "# Import, authenticate and initialize the Earth Engine library.\n",
        "import ee\n",
        "ee.Authenticate()\n",
        "ee.Initialize()"
      ],
      "execution_count": 1,
      "outputs": [
        {
          "output_type": "stream",
          "text": [
            "To authorize access needed by Earth Engine, open the following URL in a web browser and follow the instructions. If the web browser does not start automatically, please manually browse the URL below.\n",
            "\n",
            "    https://accounts.google.com/o/oauth2/auth?client_id=517222506229-vsmmajv00ul0bs7p89v5m89qs8eb9359.apps.googleusercontent.com&scope=https%3A%2F%2Fwww.googleapis.com%2Fauth%2Fearthengine+https%3A%2F%2Fwww.googleapis.com%2Fauth%2Fdevstorage.full_control&redirect_uri=urn%3Aietf%3Awg%3Aoauth%3A2.0%3Aoob&response_type=code&code_challenge=7epKLnB-hKKuOJcifEWx8qzDBZpm3j9e9h-M-ctqV_8&code_challenge_method=S256\n",
            "\n",
            "The authorization workflow will generate a code, which you should paste in the box below. \n",
            "Enter verification code: 4/1AY0e-g6faZrfoPL-15z5m2Td7z03_2UT8VO12_BdxVtpD--BFhq4Hzp1eOc\n",
            "\n",
            "Successfully saved authorization token.\n"
          ],
          "name": "stdout"
        }
      ]
    },
    {
      "cell_type": "markdown",
      "metadata": {
        "id": "qfkm7FdQNxXO"
      },
      "source": [
        "### Importing some libraries"
      ]
    },
    {
      "cell_type": "code",
      "metadata": {
        "id": "dMprhEXjzvQ_"
      },
      "source": [
        "import folium\n",
        "import pandas as pd\n",
        "import numpy as np\n",
        "import matplotlib.pyplot as plt\n",
        "%matplotlib inline"
      ],
      "execution_count": 28,
      "outputs": []
    },
    {
      "cell_type": "markdown",
      "metadata": {
        "id": "uafIFbjaN0lb"
      },
      "source": [
        "### Defining some functions for calculation"
      ]
    },
    {
      "cell_type": "code",
      "metadata": {
        "id": "KvD_PmdTBD68"
      },
      "source": [
        "def psy(img):\n",
        "  return img.select('surface_pressure').divide(1000).multiply(0.000665)\n",
        "\n",
        "\n",
        "def vapor_pressure_func(t):\n",
        "  return t.expression('0.6108 * exp(17.27 * b() / (b() + 237.3))')\n"
      ],
      "execution_count": 5,
      "outputs": []
    },
    {
      "cell_type": "code",
      "metadata": {
        "id": "EjuqvY89yjSZ"
      },
      "source": [
        "def ETr(img):\n",
        "    img2 = ee.Image(ee.List(img.get('era')).get(0))\n",
        "\n",
        "    es_tmax = vapor_pressure_func(img2.select('maximum_2m_air_temperature').subtract(273))# C\n",
        "\n",
        "    es_tmin = vapor_pressure_func(img2.select('minimum_2m_air_temperature').subtract(273))#   C\n",
        "\n",
        "    es_tmean = vapor_pressure_func(img2.select('mean_2m_air_temperature').subtract(273))\n",
        "\n",
        "    es_slope = img2.select('mean_2m_air_temperature').subtract(273).expression(\n",
        "        '2503 * exp(17.27 * b() / (b() + 237.3)) / (pow((b() + 237.3), 2))')\n",
        "\n",
        "    es = es_tmin.add(es_tmax).multiply(0.5)\n",
        "\n",
        "    ea = vapor_pressure_func(img2.select('dewpoint_2m_temperature').subtract(273))\n",
        "    wind_speed = img2.select('u_component_of_wind_10m').pow(2).add(img2.select('v_component_of_wind_10m').pow(2)).sqrt()\n",
        "    wind_speed = wind_speed.multiply(4.87).divide((ee.Image(10).multiply(67.8).subtract(5.42)).log())\n",
        "\n",
        "    second = ee.Image(psy(img2)).multiply(ee.Image(900).divide(img2.select('mean_2m_air_temperature'))).multiply(wind_speed).multiply(es.subtract(ea))\n",
        "    denominator = es_slope.add(ee.Image(psy(img2)).multiply(wind_speed.multiply(0.34).add(1)))\n",
        "\n",
        "    rs = ee.Image(img).select(['SWdown_f_tavg']).multiply(0.0864)\n",
        "    doy = ee.Image(30.4).multiply(ee.Date(img.get('system:time_start')).get('month')).subtract(15).round()\n",
        "    delta = doy.multiply(2 * np.pi / 365).subtract(1.39435).sin().multiply(0.40928)\n",
        "    omegas = lat.expression('acos(-tan(lat) * tan(delta))', {'lat':lat, 'delta':delta})\n",
        "    theta = omegas.expression('omegas * sin(lat) * sin(delta) + cos(lat) * cos(delta) * sin(omegas)',\n",
        "                                {'omegas':omegas, 'lat':lat, 'delta':delta})\n",
        "    G = ee.Image(ee.List(img.get('temp')).get(2)).select(['mean_2m_air_temperature']).subtract(ee.Image(ee.List(img.get('temp')).get(0)).select(['mean_2m_air_temperature'])).multiply(0.07)\n",
        "    dr = doy.multiply(2 * np.pi / 365).cos().multiply(0.033).add(1)\n",
        "    ra = theta.expression('(24 / pi) * gsc * dr * theta', {'pi':np.pi, 'gsc':4.92, 'dr':dr, 'theta':theta});\n",
        "    sin_beta_24 = lat.expression('sin(0.85 + 0.3 * lat * sin(delta) - 0.42 * pow(lat,2))',\n",
        "                                {'lat':lat, 'delta':doy.multiply(2 * np.pi / 365).subtract(1.39)})\n",
        "    sin_beta_24 = sin_beta_24.where(sin_beta_24.lt(0), 0)\n",
        "    pa = img2.select('surface_pressure')\n",
        "    w = pa.expression('0.14 * ea * pa + 2.1',\n",
        "                        {'pa':pa, 'ea':ea})    \n",
        "\n",
        "    kb = pa.expression('0.98 * exp((-0.00146 * pa) / (kt * sin_beta) - 0.075 * pow((w / sin_beta), 0.4))',\n",
        "                        {'pa':pa, 'kt':1.0, 'sin_beta':sin_beta_24, 'w':w})\n",
        "\n",
        "    kd = kb.multiply(-0.36).add(0.35).where(kb.lt(0.15), kb.multiply(0.82).add(0.18))\n",
        "    rso = ra.multiply(kb.add(kd))\n",
        "    fcd = rs.divide(rso).clamp(0.3,1).multiply(1.35).subtract(0.35)\n",
        "\n",
        "    rnl = ea.expression('4.901 *pow(10,-9) * fcd * (0.34 - 0.14 * sqrt(ea)) * '+\n",
        "                        '(pow(tmax_k, 4) + pow(tmin_k, 4)) / 2',\n",
        "                        {'ea':ea, 'fcd':fcd, 'tmax_k':img2.select('maximum_2m_air_temperature'),\n",
        "                        'tmin_k':img2.select('minimum_2m_air_temperature')})\n",
        "\n",
        "    rn = rs.multiply(0.77).subtract(rnl)\n",
        "    first = es_slope.multiply(rn.subtract(G)).multiply(0.408)\n",
        "    days = ee.Date(img.get('system:time_end')).difference(img.get('system:time_start'), 'day')\n",
        "    retrieve = first.add(second).divide(denominator).multiply(days)\n",
        "    return retrieve.where(retrieve.lte(0), 0.01).copyProperties(img, ['system:time_start'])\n",
        "\n"
      ],
      "execution_count": 11,
      "outputs": []
    },
    {
      "cell_type": "markdown",
      "metadata": {
        "id": "8a5OR_M3BOuM"
      },
      "source": [
        "## Calling and merging datasets, and applying ETr funtion to collection"
      ]
    },
    {
      "cell_type": "code",
      "metadata": {
        "id": "ijzCGWE50MWr"
      },
      "source": [
        "lat = ee.Image.pixelLonLat().select('latitude').multiply(np.pi / 180)\n",
        "lon = ee.Image.pixelLonLat().select('longitude').multiply(np.pi / 180)\n",
        "geo = ee.Geometry.Point([27.15, 11.21])\n",
        "\n",
        "fldas = ee.ImageCollection(\"NASA/FLDAS/NOAH01/C/GL/M/V001\")\n",
        "era5 = ee.ImageCollection(\"ECMWF/ERA5/MONTHLY\")\n",
        " \n",
        "Filta = ee.Filter.equals(leftField='system:time_start',\n",
        "                          rightField='system:time_start')\n",
        "\n",
        "saveAllJoin = ee.Join.saveAll(matchesKey='era',\n",
        "                              ordering='system:time_start',\n",
        "                              ascending=True)\n",
        "\n",
        "New = saveAllJoin.apply(fldas, era5, Filta)\n",
        "\n",
        "temp = era5.select('mean_2m_air_temperature')\n",
        "\n",
        "diffMillis = 31* 24 * 60 * 60 * 1000\n",
        "\n",
        "timeFilter = ee.Filter.maxDifference(difference=diffMillis,\n",
        "                                     leftField='system:time_start',\n",
        "                                     rightField='system:time_start')\n",
        "\n",
        "saveAllJoin = ee.Join.saveAll(matchesKey='temp',\n",
        "                              ordering='system:time_start',\n",
        "                              ascending=True)\n",
        "\n",
        "New = saveAllJoin.apply(New, era5, timeFilter)\n",
        "\n",
        "New = New.filterDate('1970-01-01', '2020-01-01')\n",
        "\n",
        "ETref = New.map(ETr)"
      ],
      "execution_count": 14,
      "outputs": []
    },
    {
      "cell_type": "markdown",
      "metadata": {
        "id": "jHebgYftOQA7"
      },
      "source": [
        "### Mapping one month ETr"
      ]
    },
    {
      "cell_type": "code",
      "metadata": {
        "colab": {
          "base_uri": "https://localhost:8080/",
          "height": 866
        },
        "id": "csAEZ-FBHNKy",
        "outputId": "b271659a-11ad-4ea5-e9aa-64c7708466f4"
      },
      "source": [
        "mapidCon = ee.Image(ETref.filterDate('2018-07-01', '2021-12-12').first()).resample('bicubic').getMapId({'min': 0.1, 'max': 400, 'palette': 'FF0000, FFFF00, 00FF00, 00FFFF, 0000FF'})\n",
        "centroid = geo.coordinates().getInfo()[::-1]\n",
        "map = folium.Map(location=centroid, zoom_start=2)\n",
        "folium.TileLayer(\n",
        "    tiles=mapidCon['tile_fetcher'].url_format,\n",
        "    attr='Map Data &copy; <a href=\"https://earthengine.google.com/\">Google Earth Engine</a>',\n",
        "    overlay=True,\n",
        "    name='ETr',\n",
        "  ).add_to(map)\n",
        "\n",
        "map.add_child(folium.LayerControl())\n",
        "map"
      ],
      "execution_count": 31,
      "outputs": [
        {
          "output_type": "execute_result",
          "data": {
            "text/html": [
              "<div style=\"width:100%;\"><div style=\"position:relative;width:100%;height:0;padding-bottom:60%;\"><span style=\"color:#565656\">Make this Notebook Trusted to load map: File -> Trust Notebook</span><iframe src=\"about:blank\" style=\"position:absolute;width:100%;height:100%;left:0;top:0;border:none !important;\" data-html=%3C%21DOCTYPE%20html%3E%0A%3Chead%3E%20%20%20%20%0A%20%20%20%20%3Cmeta%20http-equiv%3D%22content-type%22%20content%3D%22text/html%3B%20charset%3DUTF-8%22%20/%3E%0A%20%20%20%20%3Cscript%3EL_PREFER_CANVAS%3Dfalse%3B%20L_NO_TOUCH%3Dfalse%3B%20L_DISABLE_3D%3Dfalse%3B%3C/script%3E%0A%20%20%20%20%3Cscript%20src%3D%22https%3A//cdn.jsdelivr.net/npm/leaflet%401.4.0/dist/leaflet.js%22%3E%3C/script%3E%0A%20%20%20%20%3Cscript%20src%3D%22https%3A//code.jquery.com/jquery-1.12.4.min.js%22%3E%3C/script%3E%0A%20%20%20%20%3Cscript%20src%3D%22https%3A//maxcdn.bootstrapcdn.com/bootstrap/3.2.0/js/bootstrap.min.js%22%3E%3C/script%3E%0A%20%20%20%20%3Cscript%20src%3D%22https%3A//cdnjs.cloudflare.com/ajax/libs/Leaflet.awesome-markers/2.0.2/leaflet.awesome-markers.js%22%3E%3C/script%3E%0A%20%20%20%20%3Clink%20rel%3D%22stylesheet%22%20href%3D%22https%3A//cdn.jsdelivr.net/npm/leaflet%401.4.0/dist/leaflet.css%22/%3E%0A%20%20%20%20%3Clink%20rel%3D%22stylesheet%22%20href%3D%22https%3A//maxcdn.bootstrapcdn.com/bootstrap/3.2.0/css/bootstrap.min.css%22/%3E%0A%20%20%20%20%3Clink%20rel%3D%22stylesheet%22%20href%3D%22https%3A//maxcdn.bootstrapcdn.com/bootstrap/3.2.0/css/bootstrap-theme.min.css%22/%3E%0A%20%20%20%20%3Clink%20rel%3D%22stylesheet%22%20href%3D%22https%3A//maxcdn.bootstrapcdn.com/font-awesome/4.6.3/css/font-awesome.min.css%22/%3E%0A%20%20%20%20%3Clink%20rel%3D%22stylesheet%22%20href%3D%22https%3A//cdnjs.cloudflare.com/ajax/libs/Leaflet.awesome-markers/2.0.2/leaflet.awesome-markers.css%22/%3E%0A%20%20%20%20%3Clink%20rel%3D%22stylesheet%22%20href%3D%22https%3A//rawcdn.githack.com/python-visualization/folium/master/folium/templates/leaflet.awesome.rotate.css%22/%3E%0A%20%20%20%20%3Cstyle%3Ehtml%2C%20body%20%7Bwidth%3A%20100%25%3Bheight%3A%20100%25%3Bmargin%3A%200%3Bpadding%3A%200%3B%7D%3C/style%3E%0A%20%20%20%20%3Cstyle%3E%23map%20%7Bposition%3Aabsolute%3Btop%3A0%3Bbottom%3A0%3Bright%3A0%3Bleft%3A0%3B%7D%3C/style%3E%0A%20%20%20%20%0A%20%20%20%20%3Cmeta%20name%3D%22viewport%22%20content%3D%22width%3Ddevice-width%2C%0A%20%20%20%20%20%20%20%20initial-scale%3D1.0%2C%20maximum-scale%3D1.0%2C%20user-scalable%3Dno%22%20/%3E%0A%20%20%20%20%3Cstyle%3E%23map_a567e9a05c76481da008e3d7959cbd4c%20%7B%0A%20%20%20%20%20%20%20%20position%3A%20relative%3B%0A%20%20%20%20%20%20%20%20width%3A%20100.0%25%3B%0A%20%20%20%20%20%20%20%20height%3A%20100.0%25%3B%0A%20%20%20%20%20%20%20%20left%3A%200.0%25%3B%0A%20%20%20%20%20%20%20%20top%3A%200.0%25%3B%0A%20%20%20%20%20%20%20%20%7D%0A%20%20%20%20%3C/style%3E%0A%3C/head%3E%0A%3Cbody%3E%20%20%20%20%0A%20%20%20%20%0A%20%20%20%20%3Cdiv%20class%3D%22folium-map%22%20id%3D%22map_a567e9a05c76481da008e3d7959cbd4c%22%20%3E%3C/div%3E%0A%3C/body%3E%0A%3Cscript%3E%20%20%20%20%0A%20%20%20%20%0A%20%20%20%20%0A%20%20%20%20%20%20%20%20var%20bounds%20%3D%20null%3B%0A%20%20%20%20%0A%0A%20%20%20%20var%20map_a567e9a05c76481da008e3d7959cbd4c%20%3D%20L.map%28%0A%20%20%20%20%20%20%20%20%27map_a567e9a05c76481da008e3d7959cbd4c%27%2C%20%7B%0A%20%20%20%20%20%20%20%20center%3A%20%5B11.21%2C%2027.15%5D%2C%0A%20%20%20%20%20%20%20%20zoom%3A%202%2C%0A%20%20%20%20%20%20%20%20maxBounds%3A%20bounds%2C%0A%20%20%20%20%20%20%20%20layers%3A%20%5B%5D%2C%0A%20%20%20%20%20%20%20%20worldCopyJump%3A%20false%2C%0A%20%20%20%20%20%20%20%20crs%3A%20L.CRS.EPSG3857%2C%0A%20%20%20%20%20%20%20%20zoomControl%3A%20true%2C%0A%20%20%20%20%20%20%20%20%7D%29%3B%0A%0A%0A%20%20%20%20%0A%20%20%20%20var%20tile_layer_da3ed8c398ed4407834eb63434bacb43%20%3D%20L.tileLayer%28%0A%20%20%20%20%20%20%20%20%27https%3A//%7Bs%7D.tile.openstreetmap.org/%7Bz%7D/%7Bx%7D/%7By%7D.png%27%2C%0A%20%20%20%20%20%20%20%20%7B%0A%20%20%20%20%20%20%20%20%22attribution%22%3A%20null%2C%0A%20%20%20%20%20%20%20%20%22detectRetina%22%3A%20false%2C%0A%20%20%20%20%20%20%20%20%22maxNativeZoom%22%3A%2018%2C%0A%20%20%20%20%20%20%20%20%22maxZoom%22%3A%2018%2C%0A%20%20%20%20%20%20%20%20%22minZoom%22%3A%200%2C%0A%20%20%20%20%20%20%20%20%22noWrap%22%3A%20false%2C%0A%20%20%20%20%20%20%20%20%22opacity%22%3A%201%2C%0A%20%20%20%20%20%20%20%20%22subdomains%22%3A%20%22abc%22%2C%0A%20%20%20%20%20%20%20%20%22tms%22%3A%20false%0A%7D%29.addTo%28map_a567e9a05c76481da008e3d7959cbd4c%29%3B%0A%20%20%20%20var%20tile_layer_6bb7ba2ee5b749e9bca798c35ffd8e64%20%3D%20L.tileLayer%28%0A%20%20%20%20%20%20%20%20%27https%3A//earthengine.googleapis.com/v1alpha/projects/earthengine-legacy/maps/24f74860416844f0032b1fcd69c37bc9-18826227e1f49ce140933420c677e280/tiles/%7Bz%7D/%7Bx%7D/%7By%7D%27%2C%0A%20%20%20%20%20%20%20%20%7B%0A%20%20%20%20%20%20%20%20%22attribution%22%3A%20%22Map%20Data%20%26copy%3B%20%3Ca%20href%3D%5C%22https%3A//earthengine.google.com/%5C%22%3EGoogle%20Earth%20Engine%3C/a%3E%22%2C%0A%20%20%20%20%20%20%20%20%22detectRetina%22%3A%20false%2C%0A%20%20%20%20%20%20%20%20%22maxNativeZoom%22%3A%2018%2C%0A%20%20%20%20%20%20%20%20%22maxZoom%22%3A%2018%2C%0A%20%20%20%20%20%20%20%20%22minZoom%22%3A%200%2C%0A%20%20%20%20%20%20%20%20%22noWrap%22%3A%20false%2C%0A%20%20%20%20%20%20%20%20%22opacity%22%3A%201%2C%0A%20%20%20%20%20%20%20%20%22subdomains%22%3A%20%22abc%22%2C%0A%20%20%20%20%20%20%20%20%22tms%22%3A%20false%0A%7D%29.addTo%28map_a567e9a05c76481da008e3d7959cbd4c%29%3B%0A%20%20%20%20%0A%20%20%20%20%20%20%20%20%20%20%20%20var%20layer_control_d02f869e1515401fa21c22971afe4a3e%20%3D%20%7B%0A%20%20%20%20%20%20%20%20%20%20%20%20%20%20%20%20base_layers%20%3A%20%7B%20%22openstreetmap%22%20%3A%20tile_layer_da3ed8c398ed4407834eb63434bacb43%2C%20%7D%2C%0A%20%20%20%20%20%20%20%20%20%20%20%20%20%20%20%20overlays%20%3A%20%7B%20%22ETr%22%20%3A%20tile_layer_6bb7ba2ee5b749e9bca798c35ffd8e64%2C%20%7D%0A%20%20%20%20%20%20%20%20%20%20%20%20%20%20%20%20%7D%3B%0A%20%20%20%20%20%20%20%20%20%20%20%20L.control.layers%28%0A%20%20%20%20%20%20%20%20%20%20%20%20%20%20%20%20layer_control_d02f869e1515401fa21c22971afe4a3e.base_layers%2C%0A%20%20%20%20%20%20%20%20%20%20%20%20%20%20%20%20layer_control_d02f869e1515401fa21c22971afe4a3e.overlays%2C%0A%20%20%20%20%20%20%20%20%20%20%20%20%20%20%20%20%7Bposition%3A%20%27topright%27%2C%0A%20%20%20%20%20%20%20%20%20%20%20%20%20%20%20%20%20collapsed%3A%20true%2C%0A%20%20%20%20%20%20%20%20%20%20%20%20%20%20%20%20%20autoZIndex%3A%20true%0A%20%20%20%20%20%20%20%20%20%20%20%20%20%20%20%20%7D%29.addTo%28map_a567e9a05c76481da008e3d7959cbd4c%29%3B%0A%20%20%20%20%20%20%20%20%20%20%20%20%0A%20%20%20%20%20%20%20%20%0A%3C/script%3E onload=\"this.contentDocument.open();this.contentDocument.write(    decodeURIComponent(this.getAttribute('data-html')));this.contentDocument.close();\" allowfullscreen webkitallowfullscreen mozallowfullscreen></iframe></div></div>"
            ],
            "text/plain": [
              "<folium.folium.Map at 0x7f7a4d901b90>"
            ]
          },
          "metadata": {
            "tags": []
          },
          "execution_count": 31
        }
      ]
    },
    {
      "cell_type": "markdown",
      "metadata": {
        "id": "QrpmxxRYOZbU"
      },
      "source": [
        "## Testing in a single location"
      ]
    },
    {
      "cell_type": "code",
      "metadata": {
        "id": "rKP9AeaEHt3U"
      },
      "source": [
        "def sample_collection(geo):\n",
        "    def wrap(img):\n",
        "        img = ee.Image(img)\n",
        "        date = ee.Date(img.get('system:time_start')).format('YYYY-MM-dd')\n",
        "        etr = img.reduceRegion('first', geo, 10000).values().get(0)\n",
        "        return ee.Feature(None, {'date':date, 'ETr':etr})\n",
        "    return wrap\n",
        "\n",
        "\n",
        "series = ETref.map(sample_collection(geo)).getInfo()\n"
      ],
      "execution_count": 24,
      "outputs": []
    },
    {
      "cell_type": "markdown",
      "metadata": {
        "id": "JttWfNnsOfjI"
      },
      "source": [
        "### Plotting time series of ETr"
      ]
    },
    {
      "cell_type": "code",
      "metadata": {
        "colab": {
          "base_uri": "https://localhost:8080/",
          "height": 282
        },
        "id": "xaMWBipfKuBM",
        "outputId": "c29a1df9-d763-428c-a062-7ec1847cb88a"
      },
      "source": [
        "dates = [pd.to_datetime(n['properties']['date']) for n in series['features']]\n",
        "etrs = [n['properties']['ETr'] for n in series['features']]\n",
        "plt.plot(dates, etrs)\n",
        "plt.ylabel('ETr')"
      ],
      "execution_count": 32,
      "outputs": [
        {
          "output_type": "execute_result",
          "data": {
            "text/plain": [
              "Text(0, 0.5, 'ETr')"
            ]
          },
          "metadata": {
            "tags": []
          },
          "execution_count": 32
        },
        {
          "output_type": "display_data",
          "data": {
            "image/png": "[encoded data removed]",
            "text/plain": [
              "<Figure size 432x288 with 1 Axes>"
            ]
          },
          "metadata": {
            "tags": [],
            "needs_background": "light"
          }
        }
      ]
    }
  ]
}