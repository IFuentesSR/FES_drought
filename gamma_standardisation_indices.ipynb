{
  "nbformat": 4,
  "nbformat_minor": 0,
  "metadata": {
    "colab": {
      "name": "gamma standardisation indices.ipynb",
      "provenance": [],
      "authorship_tag": "ABX9TyM4d6nI+9kiZqKJqgCPntCF",
      "include_colab_link": true
    },
    "kernelspec": {
      "name": "python3",
      "display_name": "Python 3"
    },
    "language_info": {
      "name": "python"
    }
  },
  "cells": [
    {
      "cell_type": "markdown",
      "metadata": {
        "id": "view-in-github",
        "colab_type": "text"
      },
      "source": [
        "<a href=\"https://colab.research.google.com/github/IFuentesSR/RSE_drought/blob/main/gamma_standardisation_indices.ipynb\" target=\"_parent\"><img src=\"https://colab.research.google.com/assets/colab-badge.svg\" alt=\"Open In Colab\"/></a>"
      ]
    },
    {
      "cell_type": "markdown",
      "metadata": {
        "id": "jiTx7yYLsT0s"
      },
      "source": [
        "### Import, authenticate and initialize the Earth Engine library."
      ]
    },
    {
      "cell_type": "code",
      "metadata": {
        "colab": {
          "base_uri": "https://localhost:8080/"
        },
        "id": "iVMbMDoB0s0Z",
        "outputId": "6f1ce210-279a-4f62-994b-4b410928bbac"
      },
      "source": [
        "import ee\n",
        "ee.Authenticate()\n",
        "ee.Initialize()"
      ],
      "execution_count": null,
      "outputs": [
        {
          "output_type": "stream",
          "text": [
            "To authorize access needed by Earth Engine, open the following URL in a web browser and follow the instructions. If the web browser does not start automatically, please manually browse the URL below.\n",
            "\n",
            "    https://accounts.google.com/o/oauth2/auth?client_id=517222506229-vsmmajv00ul0bs7p89v5m89qs8eb9359.apps.googleusercontent.com&scope=https%3A%2F%2Fwww.googleapis.com%2Fauth%2Fearthengine+https%3A%2F%2Fwww.googleapis.com%2Fauth%2Fdevstorage.full_control&redirect_uri=urn%3Aietf%3Awg%3Aoauth%3A2.0%3Aoob&response_type=code&code_challenge=XaPhiMSLdo6NpbgI2C0rV4PG8kYNCQiw1Qu-h77F3nQ&code_challenge_method=S256\n",
            "\n",
            "The authorization workflow will generate a code, which you should paste in the box below. \n",
            "Enter verification code: 4/1AY0e-g47XV5_X6qI2BDbOMe4bpUn1pZDP9NYz1Nse2nEXDVwLO_mxVpncFk\n",
            "\n",
            "Successfully saved authorization token.\n"
          ],
          "name": "stdout"
        }
      ]
    },
    {
      "cell_type": "markdown",
      "metadata": {
        "id": "rkvMOnSLsYJH"
      },
      "source": [
        "### Importing libraries"
      ]
    },
    {
      "cell_type": "code",
      "metadata": {
        "colab": {
          "base_uri": "https://localhost:8080/"
        },
        "id": "Py3xKmRJ0t16",
        "outputId": "f0c86716-2cc0-4d28-ac88-019f256f5965"
      },
      "source": [
        "# Folium setup.\n",
        "import folium\n",
        "import scipy\n",
        "import numpy as np\n",
        "import pandas as pd\n",
        "import matplotlib.pyplot as plt\n",
        "\n",
        "%matplotlib inline\n",
        "\n",
        "print(folium.__version__)"
      ],
      "execution_count": null,
      "outputs": [
        {
          "output_type": "stream",
          "text": [
            "0.8.3\n"
          ],
          "name": "stdout"
        }
      ]
    },
    {
      "cell_type": "markdown",
      "metadata": {
        "id": "hF3Pt5bJae4r"
      },
      "source": [
        "### Functions for gamma distribution and normal conversion of standardised indices"
      ]
    },
    {
      "cell_type": "code",
      "metadata": {
        "id": "rj3K_24g0y7U"
      },
      "source": [
        "def gammaf(img, alpha, beta):\n",
        "    g_alpha = ee.Image(alpha).gamma()\n",
        "    inc = ee.Image(img).divide(beta).gammainc(alpha)\n",
        "    dist = img.where(ee.Image(img).lte(0), 0)\n",
        "    return dist.where(ee.Image(dist).gt(0), inc)\n",
        "\n",
        "\n",
        "def cummProbf(gamma, q):\n",
        "    return q.add((ee.Image(1).subtract(q)).multiply(gamma))\n",
        "\n",
        "\n",
        "def normInv(cummProb):\n",
        "     return cummProb.multiply(2).subtract(1).erfInv().multiply(ee.Image(2).sqrt())\n",
        "\n",
        "\n",
        "def conditional_clean(collection, month, month_lag):\n",
        "    def inner(year):\n",
        "        date = ee.Date.fromYMD(year, month, 1)\n",
        "        condition = ee.Algorithms.If(ee.ImageCollection(collection.filterDate(date.advance(ee.Number(month_lag).multiply(-1), 'month'), date)).size().eq(0),\n",
        "                                     ee.Image().set({'drop':1}),\n",
        "                                     ee.ImageCollection(collection.filterDate(date.advance(ee.Number(month_lag).multiply(-1), 'month'), date)).sum().set({'drop':0}))\n",
        "        return ee.Image(condition)\n",
        "    return inner\n",
        "\n",
        "\n",
        "def zero_mask(img):\n",
        "    return ee.Image(img).updateMask(ee.Image(img).gt(0))\n",
        "\n",
        "\n",
        "def zero_gt(img):\n",
        "    return ee.Image(img).gt(0)\n",
        "\n",
        "\n",
        "def img_log(img):\n",
        "    return ee.Image(img).log()\n",
        "\n",
        "\n",
        "def gamma_params(collection, month, month_lag):\n",
        "    year_start = ee.Date(ee.Image(collection.first()).get('system:time_start')).get('year')\n",
        "    year_end = ee.Date(ee.Image(collection.toList(10000).get(-1)).get('system:time_start')).get('year')\n",
        "    years = ee.List.sequence(1981, 2019)\n",
        "    filteredColl = years.map(conditional_clean(collection, month, month_lag))\n",
        "    filteredColl = ee.ImageCollection.fromImages(filteredColl.filter(ee.Filter.eq('drop', 0)))\n",
        "    nonzeros = filteredColl.map(zero_mask)\n",
        "    average = ee.ImageCollection(nonzeros).mean()\n",
        "    sumLogs = ee.ImageCollection(nonzeros.map(img_log)).sum()\n",
        "    sizeNonZeros = ee.ImageCollection(filteredColl.map(zero_gt)).sum()\n",
        "    A = average.log().subtract(sumLogs.divide(sizeNonZeros))\n",
        "    alpha = ee.Image(1).divide(A.multiply(4)).multiply(A.multiply(4 / 3).add(1).sqrt().add(1)).rename('alpha')\n",
        "    beta = average.divide(alpha).rename('beta')\n",
        "    q = (ee.Image(filteredColl.size()).subtract(sizeNonZeros)).divide(ee.Image(filteredColl.size())).rename('q')\n",
        "    return alpha.addBands([beta, q]).set({'month': month})\n",
        "\n",
        "\n",
        "def standardised_index_function(collection, month, year, scale):\n",
        "    params = gamma_params(collection, month, scale)\n",
        "    img = collection.filterDate(ee.Date.fromYMD(year, month, 1).advance(ee.Number(scale).multiply(-1), 'month'),\n",
        "                                ee.Date.fromYMD(year, month, 1)).sum()\n",
        "    gamma = gammaf(img, ee.Image(params).select('alpha'), ee.Image(params).select('beta'))\n",
        "    gammaP = cummProbf(gamma, ee.Image(params).select('q'))\n",
        "    standardised_index = normInv(gammaP.toDouble()).set({'system:time_start': ee.Date.fromYMD(year, month, 1).millis(), \n",
        "                                                         'system:index':ee.Date.fromYMD(year, month, 1).format('YYYY_MM_dd')})\n",
        "    return standardised_index\n",
        "\n"
      ],
      "execution_count": null,
      "outputs": []
    },
    {
      "cell_type": "markdown",
      "metadata": {
        "id": "YHWgp6XZnav-"
      },
      "source": [
        "### Import collection and conversion of rainfall images into mm if needed"
      ]
    },
    {
      "cell_type": "code",
      "metadata": {
        "id": "GquuVZJQLVMc"
      },
      "source": [
        "def gpm_monthly_rain(img):\n",
        "    date_start = ee.Date(img.get('system:time_start'))\n",
        "    date_end = date_start.advance(1, 'month')\n",
        "    days = date_end.difference(date_start, 'day')\n",
        "    return img.multiply(ee.Image(days)).multiply(24).copyProperties(img, ['system:time_start', 'system:time_end'])\n",
        "\n",
        "\n",
        "collection = ee.ImageCollection(\"NASA/GPM_L3/IMERG_MONTHLY_V06\").select('precipitation').map(gpm_monthly_rain)"
      ],
      "execution_count": null,
      "outputs": []
    },
    {
      "cell_type": "markdown",
      "metadata": {
        "id": "3q_OLHQAnrFD"
      },
      "source": [
        "### Definition of parameters "
      ]
    },
    {
      "cell_type": "code",
      "metadata": {
        "id": "JH_iq4fiIlRi"
      },
      "source": [
        "start_year = ee.Date(collection.first().get('system:time_start')).get('year')\n",
        "end_year = ee.Date(ee.Image(collection.toList(10000).get(-1)).get('system:time_start')).get('year')\n",
        "years = ee.List.sequence(start_year, end_year)\n",
        "months = ee.List.sequence(1,12)\n",
        "scale = 3 #monthly accumulation\n",
        "geo1 = ee.Geometry.Point([149.981, -30.468])"
      ],
      "execution_count": null,
      "outputs": []
    },
    {
      "cell_type": "markdown",
      "metadata": {
        "id": "cXU7PMU7nz_d"
      },
      "source": [
        "### Standardised index for single date and mapping of image for 2019-07-01"
      ]
    },
    {
      "cell_type": "code",
      "metadata": {
        "id": "PDVmE8IUKDDl"
      },
      "source": [
        "SI_test = standardised_index_function(collection, 7, 2019, 3)"
      ],
      "execution_count": null,
      "outputs": []
    },
    {
      "cell_type": "code",
      "metadata": {
        "colab": {
          "base_uri": "https://localhost:8080/",
          "height": 866
        },
        "id": "w4t6GNQuLl5g",
        "outputId": "ccb9fdc9-65fe-4933-b95d-0012504a14d7"
      },
      "source": [
        "mapidCon = ee.Image(SI_test).getMapId({'min': -3, 'max': 3, 'palette': 'FF0000, FFFFFF, 0000FF', 'opacity':0.4})\n",
        "centroid = geo1.coordinates().getInfo()[::-1]\n",
        "map = folium.Map(location=centroid, zoom_start=2)\n",
        "folium.TileLayer(\n",
        "    tiles=mapidCon['tile_fetcher'].url_format,\n",
        "    attr='Map Data &copy; <a href=\"https://earthengine.google.com/\">Google Earth Engine</a>',\n",
        "    overlay=True,\n",
        "    name='ETr',\n",
        "  ).add_to(map)\n",
        "\n",
        "map.add_child(folium.LayerControl())\n",
        "map"
      ],
      "execution_count": null,
      "outputs": [
        {
          "output_type": "execute_result",
          "data": {
            "text/html": [
              "<div style=\"width:100%;\"><div style=\"position:relative;width:100%;height:0;padding-bottom:60%;\"><span style=\"color:#565656\">Make this Notebook Trusted to load map: File -> Trust Notebook</span><iframe src=\"about:blank\" style=\"position:absolute;width:100%;height:100%;left:0;top:0;border:none !important;\" data-html=%3C%21DOCTYPE%20html%3E%0A%3Chead%3E%20%20%20%20%0A%20%20%20%20%3Cmeta%20http-equiv%3D%22content-type%22%20content%3D%22text/html%3B%20charset%3DUTF-8%22%20/%3E%0A%20%20%20%20%3Cscript%3EL_PREFER_CANVAS%3Dfalse%3B%20L_NO_TOUCH%3Dfalse%3B%20L_DISABLE_3D%3Dfalse%3B%3C/script%3E%0A%20%20%20%20%3Cscript%20src%3D%22https%3A//cdn.jsdelivr.net/npm/leaflet%401.4.0/dist/leaflet.js%22%3E%3C/script%3E%0A%20%20%20%20%3Cscript%20src%3D%22https%3A//code.jquery.com/jquery-1.12.4.min.js%22%3E%3C/script%3E%0A%20%20%20%20%3Cscript%20src%3D%22https%3A//maxcdn.bootstrapcdn.com/bootstrap/3.2.0/js/bootstrap.min.js%22%3E%3C/script%3E%0A%20%20%20%20%3Cscript%20src%3D%22https%3A//cdnjs.cloudflare.com/ajax/libs/Leaflet.awesome-markers/2.0.2/leaflet.awesome-markers.js%22%3E%3C/script%3E%0A%20%20%20%20%3Clink%20rel%3D%22stylesheet%22%20href%3D%22https%3A//cdn.jsdelivr.net/npm/leaflet%401.4.0/dist/leaflet.css%22/%3E%0A%20%20%20%20%3Clink%20rel%3D%22stylesheet%22%20href%3D%22https%3A//maxcdn.bootstrapcdn.com/bootstrap/3.2.0/css/bootstrap.min.css%22/%3E%0A%20%20%20%20%3Clink%20rel%3D%22stylesheet%22%20href%3D%22https%3A//maxcdn.bootstrapcdn.com/bootstrap/3.2.0/css/bootstrap-theme.min.css%22/%3E%0A%20%20%20%20%3Clink%20rel%3D%22stylesheet%22%20href%3D%22https%3A//maxcdn.bootstrapcdn.com/font-awesome/4.6.3/css/font-awesome.min.css%22/%3E%0A%20%20%20%20%3Clink%20rel%3D%22stylesheet%22%20href%3D%22https%3A//cdnjs.cloudflare.com/ajax/libs/Leaflet.awesome-markers/2.0.2/leaflet.awesome-markers.css%22/%3E%0A%20%20%20%20%3Clink%20rel%3D%22stylesheet%22%20href%3D%22https%3A//rawcdn.githack.com/python-visualization/folium/master/folium/templates/leaflet.awesome.rotate.css%22/%3E%0A%20%20%20%20%3Cstyle%3Ehtml%2C%20body%20%7Bwidth%3A%20100%25%3Bheight%3A%20100%25%3Bmargin%3A%200%3Bpadding%3A%200%3B%7D%3C/style%3E%0A%20%20%20%20%3Cstyle%3E%23map%20%7Bposition%3Aabsolute%3Btop%3A0%3Bbottom%3A0%3Bright%3A0%3Bleft%3A0%3B%7D%3C/style%3E%0A%20%20%20%20%0A%20%20%20%20%3Cmeta%20name%3D%22viewport%22%20content%3D%22width%3Ddevice-width%2C%0A%20%20%20%20%20%20%20%20initial-scale%3D1.0%2C%20maximum-scale%3D1.0%2C%20user-scalable%3Dno%22%20/%3E%0A%20%20%20%20%3Cstyle%3E%23map_30a2a000083d440aab074e5078c9ed10%20%7B%0A%20%20%20%20%20%20%20%20position%3A%20relative%3B%0A%20%20%20%20%20%20%20%20width%3A%20100.0%25%3B%0A%20%20%20%20%20%20%20%20height%3A%20100.0%25%3B%0A%20%20%20%20%20%20%20%20left%3A%200.0%25%3B%0A%20%20%20%20%20%20%20%20top%3A%200.0%25%3B%0A%20%20%20%20%20%20%20%20%7D%0A%20%20%20%20%3C/style%3E%0A%3C/head%3E%0A%3Cbody%3E%20%20%20%20%0A%20%20%20%20%0A%20%20%20%20%3Cdiv%20class%3D%22folium-map%22%20id%3D%22map_30a2a000083d440aab074e5078c9ed10%22%20%3E%3C/div%3E%0A%3C/body%3E%0A%3Cscript%3E%20%20%20%20%0A%20%20%20%20%0A%20%20%20%20%0A%20%20%20%20%20%20%20%20var%20bounds%20%3D%20null%3B%0A%20%20%20%20%0A%0A%20%20%20%20var%20map_30a2a000083d440aab074e5078c9ed10%20%3D%20L.map%28%0A%20%20%20%20%20%20%20%20%27map_30a2a000083d440aab074e5078c9ed10%27%2C%20%7B%0A%20%20%20%20%20%20%20%20center%3A%20%5B-30.468%2C%20149.981%5D%2C%0A%20%20%20%20%20%20%20%20zoom%3A%202%2C%0A%20%20%20%20%20%20%20%20maxBounds%3A%20bounds%2C%0A%20%20%20%20%20%20%20%20layers%3A%20%5B%5D%2C%0A%20%20%20%20%20%20%20%20worldCopyJump%3A%20false%2C%0A%20%20%20%20%20%20%20%20crs%3A%20L.CRS.EPSG3857%2C%0A%20%20%20%20%20%20%20%20zoomControl%3A%20true%2C%0A%20%20%20%20%20%20%20%20%7D%29%3B%0A%0A%0A%20%20%20%20%0A%20%20%20%20var%20tile_layer_e8417e70f119487b83f66ed64f7adbd5%20%3D%20L.tileLayer%28%0A%20%20%20%20%20%20%20%20%27https%3A//%7Bs%7D.tile.openstreetmap.org/%7Bz%7D/%7Bx%7D/%7By%7D.png%27%2C%0A%20%20%20%20%20%20%20%20%7B%0A%20%20%20%20%20%20%20%20%22attribution%22%3A%20null%2C%0A%20%20%20%20%20%20%20%20%22detectRetina%22%3A%20false%2C%0A%20%20%20%20%20%20%20%20%22maxNativeZoom%22%3A%2018%2C%0A%20%20%20%20%20%20%20%20%22maxZoom%22%3A%2018%2C%0A%20%20%20%20%20%20%20%20%22minZoom%22%3A%200%2C%0A%20%20%20%20%20%20%20%20%22noWrap%22%3A%20false%2C%0A%20%20%20%20%20%20%20%20%22opacity%22%3A%201%2C%0A%20%20%20%20%20%20%20%20%22subdomains%22%3A%20%22abc%22%2C%0A%20%20%20%20%20%20%20%20%22tms%22%3A%20false%0A%7D%29.addTo%28map_30a2a000083d440aab074e5078c9ed10%29%3B%0A%20%20%20%20var%20tile_layer_02337e5a983f4376a0e8db9c49e29800%20%3D%20L.tileLayer%28%0A%20%20%20%20%20%20%20%20%27https%3A//earthengine.googleapis.com/v1alpha/projects/earthengine-legacy/maps/36325809698a3467d770c3fad1c63dd8-89f643a882668ed2469689764135702d/tiles/%7Bz%7D/%7Bx%7D/%7By%7D%27%2C%0A%20%20%20%20%20%20%20%20%7B%0A%20%20%20%20%20%20%20%20%22attribution%22%3A%20%22Map%20Data%20%26copy%3B%20%3Ca%20href%3D%5C%22https%3A//earthengine.google.com/%5C%22%3EGoogle%20Earth%20Engine%3C/a%3E%22%2C%0A%20%20%20%20%20%20%20%20%22detectRetina%22%3A%20false%2C%0A%20%20%20%20%20%20%20%20%22maxNativeZoom%22%3A%2018%2C%0A%20%20%20%20%20%20%20%20%22maxZoom%22%3A%2018%2C%0A%20%20%20%20%20%20%20%20%22minZoom%22%3A%200%2C%0A%20%20%20%20%20%20%20%20%22noWrap%22%3A%20false%2C%0A%20%20%20%20%20%20%20%20%22opacity%22%3A%201%2C%0A%20%20%20%20%20%20%20%20%22subdomains%22%3A%20%22abc%22%2C%0A%20%20%20%20%20%20%20%20%22tms%22%3A%20false%0A%7D%29.addTo%28map_30a2a000083d440aab074e5078c9ed10%29%3B%0A%20%20%20%20%0A%20%20%20%20%20%20%20%20%20%20%20%20var%20layer_control_3b402aab5df84cc5bb7c1a47c8b98df4%20%3D%20%7B%0A%20%20%20%20%20%20%20%20%20%20%20%20%20%20%20%20base_layers%20%3A%20%7B%20%22openstreetmap%22%20%3A%20tile_layer_e8417e70f119487b83f66ed64f7adbd5%2C%20%7D%2C%0A%20%20%20%20%20%20%20%20%20%20%20%20%20%20%20%20overlays%20%3A%20%7B%20%22ETr%22%20%3A%20tile_layer_02337e5a983f4376a0e8db9c49e29800%2C%20%7D%0A%20%20%20%20%20%20%20%20%20%20%20%20%20%20%20%20%7D%3B%0A%20%20%20%20%20%20%20%20%20%20%20%20L.control.layers%28%0A%20%20%20%20%20%20%20%20%20%20%20%20%20%20%20%20layer_control_3b402aab5df84cc5bb7c1a47c8b98df4.base_layers%2C%0A%20%20%20%20%20%20%20%20%20%20%20%20%20%20%20%20layer_control_3b402aab5df84cc5bb7c1a47c8b98df4.overlays%2C%0A%20%20%20%20%20%20%20%20%20%20%20%20%20%20%20%20%7Bposition%3A%20%27topright%27%2C%0A%20%20%20%20%20%20%20%20%20%20%20%20%20%20%20%20%20collapsed%3A%20true%2C%0A%20%20%20%20%20%20%20%20%20%20%20%20%20%20%20%20%20autoZIndex%3A%20true%0A%20%20%20%20%20%20%20%20%20%20%20%20%20%20%20%20%7D%29.addTo%28map_30a2a000083d440aab074e5078c9ed10%29%3B%0A%20%20%20%20%20%20%20%20%20%20%20%20%0A%20%20%20%20%20%20%20%20%0A%3C/script%3E onload=\"this.contentDocument.open();this.contentDocument.write(    decodeURIComponent(this.getAttribute('data-html')));this.contentDocument.close();\" allowfullscreen webkitallowfullscreen mozallowfullscreen></iframe></div></div>"
            ],
            "text/plain": [
              "<folium.folium.Map at 0x7f0ae9a3a690>"
            ]
          },
          "metadata": {
            "tags": []
          },
          "execution_count": 8
        }
      ]
    },
    {
      "cell_type": "markdown",
      "metadata": {
        "id": "G2UaFi0Lozgr"
      },
      "source": [
        "### Functions to apply Standardisation to entire collection"
      ]
    },
    {
      "cell_type": "code",
      "metadata": {
        "id": "WXcL1L6rMrSx"
      },
      "source": [
        "def condition(collection, month, year, scale):\n",
        "    condition = ee.Algorithms.If(collection.filterDate(ee.Date.fromYMD(year, month, 1).advance(ee.Number(scale).multiply(-1), 'month'), \n",
        "                                                   ee.Date.fromYMD(year, month, 1)).size().eq(0),\n",
        "                                 ee.Image().set({'drop':1}),\n",
        "                                 ee.Image(standardised_index_function(collection, month, year, scale)).set({'drop':0}))\n",
        "    return ee.Image(condition)\n",
        "\n",
        "\n",
        "def monthly_calcul(collection, year, scale):\n",
        "    months = ee.List.sequence(1, 12)\n",
        "    def inner(month):\n",
        "        conditional = condition(collection, month, year, scale)\n",
        "        return conditional\n",
        "    return months.map(inner)\n",
        "\n",
        "\n",
        "def out_wrap(collection, scale):\n",
        "    def inner(year):\n",
        "        return monthly_calcul(collection, year, scale)\n",
        "    return inner\n"
      ],
      "execution_count": null,
      "outputs": []
    },
    {
      "cell_type": "markdown",
      "metadata": {
        "id": "wevfbloip7km"
      },
      "source": [
        "### Generation of standardised collection "
      ]
    },
    {
      "cell_type": "code",
      "metadata": {
        "id": "TnTAGpKhRDxR"
      },
      "source": [
        "standardised_index_collection = years.map(out_wrap(collection, scale))\n",
        "standardised_index_collection = standardised_index_collection.flatten()\n",
        "standardised_index_collection = ee.ImageCollection.fromImages(standardised_index_collection.filter(ee.Filter.eq('drop', 0))).sort('system:time_start')"
      ],
      "execution_count": null,
      "outputs": []
    },
    {
      "cell_type": "code",
      "metadata": {
        "colab": {
          "base_uri": "https://localhost:8080/",
          "height": 866
        },
        "id": "lFSlfFuWQn1K",
        "outputId": "7ea0b9cf-42b4-485a-eb56-2760e3a5cb54"
      },
      "source": [
        "mapidCon = ee.Image(standardised_index_collection.filterDate('2019-07-01', '2021-12-31').first()).getMapId({'min': -3, 'max': 3, 'palette': 'FF0000, FFFFFF, 0000FF', 'opacity':0.4})\n",
        "centroid = geo1.coordinates().getInfo()[::-1]\n",
        "map = folium.Map(location=centroid, zoom_start=2)\n",
        "folium.TileLayer(\n",
        "    tiles=mapidCon['tile_fetcher'].url_format,\n",
        "    attr='Map Data &copy; <a href=\"https://earthengine.google.com/\">Google Earth Engine</a>',\n",
        "    overlay=True,\n",
        "    name='ETr',\n",
        "  ).add_to(map)\n",
        "\n",
        "map.add_child(folium.LayerControl())\n",
        "map"
      ],
      "execution_count": null,
      "outputs": [
        {
          "output_type": "execute_result",
          "data": {
            "text/html": [
              "<div style=\"width:100%;\"><div style=\"position:relative;width:100%;height:0;padding-bottom:60%;\"><span style=\"color:#565656\">Make this Notebook Trusted to load map: File -> Trust Notebook</span><iframe src=\"about:blank\" style=\"position:absolute;width:100%;height:100%;left:0;top:0;border:none !important;\" data-html=%3C%21DOCTYPE%20html%3E%0A%3Chead%3E%20%20%20%20%0A%20%20%20%20%3Cmeta%20http-equiv%3D%22content-type%22%20content%3D%22text/html%3B%20charset%3DUTF-8%22%20/%3E%0A%20%20%20%20%3Cscript%3EL_PREFER_CANVAS%3Dfalse%3B%20L_NO_TOUCH%3Dfalse%3B%20L_DISABLE_3D%3Dfalse%3B%3C/script%3E%0A%20%20%20%20%3Cscript%20src%3D%22https%3A//cdn.jsdelivr.net/npm/leaflet%401.4.0/dist/leaflet.js%22%3E%3C/script%3E%0A%20%20%20%20%3Cscript%20src%3D%22https%3A//code.jquery.com/jquery-1.12.4.min.js%22%3E%3C/script%3E%0A%20%20%20%20%3Cscript%20src%3D%22https%3A//maxcdn.bootstrapcdn.com/bootstrap/3.2.0/js/bootstrap.min.js%22%3E%3C/script%3E%0A%20%20%20%20%3Cscript%20src%3D%22https%3A//cdnjs.cloudflare.com/ajax/libs/Leaflet.awesome-markers/2.0.2/leaflet.awesome-markers.js%22%3E%3C/script%3E%0A%20%20%20%20%3Clink%20rel%3D%22stylesheet%22%20href%3D%22https%3A//cdn.jsdelivr.net/npm/leaflet%401.4.0/dist/leaflet.css%22/%3E%0A%20%20%20%20%3Clink%20rel%3D%22stylesheet%22%20href%3D%22https%3A//maxcdn.bootstrapcdn.com/bootstrap/3.2.0/css/bootstrap.min.css%22/%3E%0A%20%20%20%20%3Clink%20rel%3D%22stylesheet%22%20href%3D%22https%3A//maxcdn.bootstrapcdn.com/bootstrap/3.2.0/css/bootstrap-theme.min.css%22/%3E%0A%20%20%20%20%3Clink%20rel%3D%22stylesheet%22%20href%3D%22https%3A//maxcdn.bootstrapcdn.com/font-awesome/4.6.3/css/font-awesome.min.css%22/%3E%0A%20%20%20%20%3Clink%20rel%3D%22stylesheet%22%20href%3D%22https%3A//cdnjs.cloudflare.com/ajax/libs/Leaflet.awesome-markers/2.0.2/leaflet.awesome-markers.css%22/%3E%0A%20%20%20%20%3Clink%20rel%3D%22stylesheet%22%20href%3D%22https%3A//rawcdn.githack.com/python-visualization/folium/master/folium/templates/leaflet.awesome.rotate.css%22/%3E%0A%20%20%20%20%3Cstyle%3Ehtml%2C%20body%20%7Bwidth%3A%20100%25%3Bheight%3A%20100%25%3Bmargin%3A%200%3Bpadding%3A%200%3B%7D%3C/style%3E%0A%20%20%20%20%3Cstyle%3E%23map%20%7Bposition%3Aabsolute%3Btop%3A0%3Bbottom%3A0%3Bright%3A0%3Bleft%3A0%3B%7D%3C/style%3E%0A%20%20%20%20%0A%20%20%20%20%3Cmeta%20name%3D%22viewport%22%20content%3D%22width%3Ddevice-width%2C%0A%20%20%20%20%20%20%20%20initial-scale%3D1.0%2C%20maximum-scale%3D1.0%2C%20user-scalable%3Dno%22%20/%3E%0A%20%20%20%20%3Cstyle%3E%23map_1cee0757384a40599e4f60c7c346cce6%20%7B%0A%20%20%20%20%20%20%20%20position%3A%20relative%3B%0A%20%20%20%20%20%20%20%20width%3A%20100.0%25%3B%0A%20%20%20%20%20%20%20%20height%3A%20100.0%25%3B%0A%20%20%20%20%20%20%20%20left%3A%200.0%25%3B%0A%20%20%20%20%20%20%20%20top%3A%200.0%25%3B%0A%20%20%20%20%20%20%20%20%7D%0A%20%20%20%20%3C/style%3E%0A%3C/head%3E%0A%3Cbody%3E%20%20%20%20%0A%20%20%20%20%0A%20%20%20%20%3Cdiv%20class%3D%22folium-map%22%20id%3D%22map_1cee0757384a40599e4f60c7c346cce6%22%20%3E%3C/div%3E%0A%3C/body%3E%0A%3Cscript%3E%20%20%20%20%0A%20%20%20%20%0A%20%20%20%20%0A%20%20%20%20%20%20%20%20var%20bounds%20%3D%20null%3B%0A%20%20%20%20%0A%0A%20%20%20%20var%20map_1cee0757384a40599e4f60c7c346cce6%20%3D%20L.map%28%0A%20%20%20%20%20%20%20%20%27map_1cee0757384a40599e4f60c7c346cce6%27%2C%20%7B%0A%20%20%20%20%20%20%20%20center%3A%20%5B-30.468%2C%20149.981%5D%2C%0A%20%20%20%20%20%20%20%20zoom%3A%202%2C%0A%20%20%20%20%20%20%20%20maxBounds%3A%20bounds%2C%0A%20%20%20%20%20%20%20%20layers%3A%20%5B%5D%2C%0A%20%20%20%20%20%20%20%20worldCopyJump%3A%20false%2C%0A%20%20%20%20%20%20%20%20crs%3A%20L.CRS.EPSG3857%2C%0A%20%20%20%20%20%20%20%20zoomControl%3A%20true%2C%0A%20%20%20%20%20%20%20%20%7D%29%3B%0A%0A%0A%20%20%20%20%0A%20%20%20%20var%20tile_layer_0446e44ba623447398ba75cb868270e3%20%3D%20L.tileLayer%28%0A%20%20%20%20%20%20%20%20%27https%3A//%7Bs%7D.tile.openstreetmap.org/%7Bz%7D/%7Bx%7D/%7By%7D.png%27%2C%0A%20%20%20%20%20%20%20%20%7B%0A%20%20%20%20%20%20%20%20%22attribution%22%3A%20null%2C%0A%20%20%20%20%20%20%20%20%22detectRetina%22%3A%20false%2C%0A%20%20%20%20%20%20%20%20%22maxNativeZoom%22%3A%2018%2C%0A%20%20%20%20%20%20%20%20%22maxZoom%22%3A%2018%2C%0A%20%20%20%20%20%20%20%20%22minZoom%22%3A%200%2C%0A%20%20%20%20%20%20%20%20%22noWrap%22%3A%20false%2C%0A%20%20%20%20%20%20%20%20%22opacity%22%3A%201%2C%0A%20%20%20%20%20%20%20%20%22subdomains%22%3A%20%22abc%22%2C%0A%20%20%20%20%20%20%20%20%22tms%22%3A%20false%0A%7D%29.addTo%28map_1cee0757384a40599e4f60c7c346cce6%29%3B%0A%20%20%20%20var%20tile_layer_9936f53246ed4af9a48d47aeb344057e%20%3D%20L.tileLayer%28%0A%20%20%20%20%20%20%20%20%27https%3A//earthengine.googleapis.com/v1alpha/projects/earthengine-legacy/maps/404044df5dc2ab46936da8f7215f3a4a-27188c84207928942d9f0d2c4b72da72/tiles/%7Bz%7D/%7Bx%7D/%7By%7D%27%2C%0A%20%20%20%20%20%20%20%20%7B%0A%20%20%20%20%20%20%20%20%22attribution%22%3A%20%22Map%20Data%20%26copy%3B%20%3Ca%20href%3D%5C%22https%3A//earthengine.google.com/%5C%22%3EGoogle%20Earth%20Engine%3C/a%3E%22%2C%0A%20%20%20%20%20%20%20%20%22detectRetina%22%3A%20false%2C%0A%20%20%20%20%20%20%20%20%22maxNativeZoom%22%3A%2018%2C%0A%20%20%20%20%20%20%20%20%22maxZoom%22%3A%2018%2C%0A%20%20%20%20%20%20%20%20%22minZoom%22%3A%200%2C%0A%20%20%20%20%20%20%20%20%22noWrap%22%3A%20false%2C%0A%20%20%20%20%20%20%20%20%22opacity%22%3A%201%2C%0A%20%20%20%20%20%20%20%20%22subdomains%22%3A%20%22abc%22%2C%0A%20%20%20%20%20%20%20%20%22tms%22%3A%20false%0A%7D%29.addTo%28map_1cee0757384a40599e4f60c7c346cce6%29%3B%0A%20%20%20%20%0A%20%20%20%20%20%20%20%20%20%20%20%20var%20layer_control_28fdd3b1aa524b908a65d476f67fb5d4%20%3D%20%7B%0A%20%20%20%20%20%20%20%20%20%20%20%20%20%20%20%20base_layers%20%3A%20%7B%20%22openstreetmap%22%20%3A%20tile_layer_0446e44ba623447398ba75cb868270e3%2C%20%7D%2C%0A%20%20%20%20%20%20%20%20%20%20%20%20%20%20%20%20overlays%20%3A%20%7B%20%22ETr%22%20%3A%20tile_layer_9936f53246ed4af9a48d47aeb344057e%2C%20%7D%0A%20%20%20%20%20%20%20%20%20%20%20%20%20%20%20%20%7D%3B%0A%20%20%20%20%20%20%20%20%20%20%20%20L.control.layers%28%0A%20%20%20%20%20%20%20%20%20%20%20%20%20%20%20%20layer_control_28fdd3b1aa524b908a65d476f67fb5d4.base_layers%2C%0A%20%20%20%20%20%20%20%20%20%20%20%20%20%20%20%20layer_control_28fdd3b1aa524b908a65d476f67fb5d4.overlays%2C%0A%20%20%20%20%20%20%20%20%20%20%20%20%20%20%20%20%7Bposition%3A%20%27topright%27%2C%0A%20%20%20%20%20%20%20%20%20%20%20%20%20%20%20%20%20collapsed%3A%20true%2C%0A%20%20%20%20%20%20%20%20%20%20%20%20%20%20%20%20%20autoZIndex%3A%20true%0A%20%20%20%20%20%20%20%20%20%20%20%20%20%20%20%20%7D%29.addTo%28map_1cee0757384a40599e4f60c7c346cce6%29%3B%0A%20%20%20%20%20%20%20%20%20%20%20%20%0A%20%20%20%20%20%20%20%20%0A%3C/script%3E onload=\"this.contentDocument.open();this.contentDocument.write(    decodeURIComponent(this.getAttribute('data-html')));this.contentDocument.close();\" allowfullscreen webkitallowfullscreen mozallowfullscreen></iframe></div></div>"
            ],
            "text/plain": [
              "<folium.folium.Map at 0x7f0ae99f6cd0>"
            ]
          },
          "metadata": {
            "tags": []
          },
          "execution_count": 11
        }
      ]
    },
    {
      "cell_type": "markdown",
      "metadata": {
        "id": "bd83X1XJqSGR"
      },
      "source": [
        "### Sampling collection in specific location"
      ]
    },
    {
      "cell_type": "code",
      "metadata": {
        "colab": {
          "base_uri": "https://localhost:8080/",
          "height": 268
        },
        "id": "5d4KNsL9bn5o",
        "outputId": "948c1485-bcb7-48e3-fa6d-31ea20e67c89"
      },
      "source": [
        "def sample_location(geometry):\n",
        "    def inner(img):\n",
        "        date = img.get('date')\n",
        "        index = img.reduceRegion('first', geometry, 10000).values().get(0)\n",
        "        return ee.Feature(None, {'ix':index})\n",
        "    return inner\n",
        "\n",
        "\n",
        "geo2 = ee.Geometry.Point([-71.42, -34.67])\n",
        "series = standardised_index_collection.map(sample_location(geo2))\n",
        "series = series.getInfo()\n",
        "ixs = [n['properties']['ix'] for n in series['features']]\n",
        "time = [pd.to_datetime(n['id'], format='%Y_%m_%d') for n in series['features']]\n",
        "df = pd.DataFrame(data={'ix':ixs, 'date':time})\n",
        "d = np.zeros(len(ixs))\n",
        "\n",
        "fig, axs = plt.subplots()\n",
        "axs.fill_between(time, d, ixs, where=df['ix']>=d, interpolate=True, color='blue', alpha=0.3, label='SVI')\n",
        "axs.fill_between(time, d, ixs, where=df['ix']<=d, interpolate=True, color='red', alpha=0.3)\n",
        "axs.set_ylabel('Standardised index')\n",
        "fig.show()"
      ],
      "execution_count": null,
      "outputs": [
        {
          "output_type": "display_data",
          "data": {
            "image/png": "[encoded data removed]",
            "text/plain": [
              "<Figure size 432x288 with 1 Axes>"
            ]
          },
          "metadata": {
            "tags": [],
            "needs_background": "light"
          }
        }
      ]
    },
    {
      "cell_type": "markdown",
      "metadata": {
        "id": "JuP6PKpdqfFK"
      },
      "source": [
        "### Exporting collection for further analysis as multiband image\n",
        "\n",
        "The following analysis may lead to memory errors if the collection is not stored"
      ]
    },
    {
      "cell_type": "code",
      "metadata": {
        "id": "HqDa5-joS0EH"
      },
      "source": [
        "def rename_bands(current, previous):\n",
        "    return ee.List(previous).add(ee.String('SI3').cat(ee.Date(current.get('system:time_start')).format('YYYY_MM_dd')))\n",
        "\n",
        "contour = ee.Geometry.Polygon(\n",
        "        [[[-142.35313606222832, 73.12592026591842],\n",
        "          [-142.35313606222832, -57.889711960715694],\n",
        "          [169.13123893777166, -57.889711960715694],\n",
        "          [169.13123893777166, 73.12592026591842]]],\n",
        "          None,\n",
        "          False)\n",
        "\n",
        "bands = standardised_index_collection.iterate(rename_bands, ee.List([]))\n",
        "multiBand_img = standardised_index_collection.toBands().rename(bands)\n",
        "ee.batch.Export.image.toAsset(image=multiBand_img,\n",
        "                              scale=10000,\n",
        "                              region=contour,\n",
        "                              maxPixels=1e13,\n",
        "                              description='SI3_GPM',\n",
        "                              assetId='users/change_to_your_user/SI3_GPM').start()"
      ],
      "execution_count": null,
      "outputs": []
    },
    {
      "cell_type": "markdown",
      "metadata": {
        "id": "v6kAbKmXq804"
      },
      "source": [
        "### Loading stored multiband image"
      ]
    },
    {
      "cell_type": "code",
      "metadata": {
        "id": "76ShbVIecHj0"
      },
      "source": [
        "img_si = ee.Image('users/ignaciofuentessanroman/SI3_GPM')\n",
        "bands = img_si.bandNames()\n"
      ],
      "execution_count": null,
      "outputs": []
    },
    {
      "cell_type": "markdown",
      "metadata": {
        "id": "fEahXlFHrhdR"
      },
      "source": [
        "### Defining functions for drought characterization"
      ]
    },
    {
      "cell_type": "code",
      "metadata": {
        "id": "OsPHdhUF40po"
      },
      "source": [
        "def drought_preprocess(collection):\n",
        "    def wrap(current, previous):\n",
        "        string = ee.String(current).slice(3).replace('_', '-').replace('_', '-')\n",
        "        date = ee.Date(string)\n",
        "        next_month = date.advance(1, 'month').format('YYYY_MM_dd')\n",
        "        next_band = ee.String('SI3').cat(next_month)\n",
        "        next = collection.select(next_band).rename('SI3')\n",
        "        masked_next = next.lt(-1).rename('MASK')\n",
        "        next = next.addBands(masked_next)\n",
        "        img = collection.select(ee.String(current)).rename('SI3')\n",
        "        masked_current = img.lt(-1).rename('MASK')\n",
        "        current = img.addBands(masked_current)\n",
        "        pre = ee.Image(ee.List(previous).get(-1))\n",
        "        cum = ee.Image(0).addBands(ee.Image(0))\n",
        "        cum = cum.where(current.select('MASK').neq(0),\n",
        "                        pre.add(current)).rename(['SI3', 'MASK'])\n",
        "        cum = cum.setMulti({'system:time_start': date.millis(),\n",
        "                            'system:index': string})\n",
        "        return ee.List(previous).add(cum)\n",
        "    return wrap\n",
        "\n",
        "\n",
        "def filtering(collection):\n",
        "    def inner(date):\n",
        "        current = collection.filterDate(ee.Date(date),\n",
        "                                        ee.Date(date).advance(15, 'day')).first()\n",
        "        next = collection.filterDate(ee.Date(date).advance(1, 'month'),\n",
        "                                     ee.Date(date).advance(45, 'day')).first()\n",
        "        keep = ee.Image(0).addBands(ee.Image(0)).where(current.select('MASK').gt(0).And(next.select('MASK').eq(0)),\n",
        "                                                    current).rename(['SI3', 'MASK'])\n",
        "        return keep.copyProperties(current,\n",
        "                                   ['system:time_start', 'system:index'])\n",
        "    return inner\n",
        "\n",
        "\n",
        "def mask(img):\n",
        "    date = ee.Date(img.get('system:time_start'))\n",
        "    days = date.advance(1, 'month').difference(date, 'days')\n",
        "    time = ee.Image(date.millis().divide(1000*86400).divide(days)).rename('time')\n",
        "    img = img.addBands(time)\n",
        "    return img.updateMask(img.select('MASK').neq(0)).toFloat().copyProperties(img,['system:time_start', 'system:index'])\n",
        "\n",
        "\n",
        "def abs(img):\n",
        "    return img.abs().copyProperties(img,\n",
        "                                    ['system:time_start', 'system:index'])\n",
        "\n",
        "\n",
        "def ratio(img):\n",
        "    return img.select('SI3').abs().divide(img.select('MASK')).copyProperties(img,\n",
        "                                                                              ['system:time_start', 'system:index'])\n",
        "\n"
      ],
      "execution_count": null,
      "outputs": []
    },
    {
      "cell_type": "markdown",
      "metadata": {
        "id": "LrYMQ1-hroAE"
      },
      "source": [
        "### Drought characterisation steps and conversion into collection"
      ]
    },
    {
      "cell_type": "code",
      "metadata": {
        "id": "hMTm46ZIrboz"
      },
      "source": [
        "last = ee.Date(ee.String(bands.get(-1)).slice(3).replace('_', '-').replace('_', '-')).advance(1, 'month')\n",
        "last_string = last.format('YYYY_MM_dd')\n",
        "last_string = ee.String('SI3').cat(last_string)\n",
        "img_si = img_si.addBands(ee.Image(-1).rename(last_string))\n",
        "\n",
        "drought_pre = bands.iterate(drought_preprocess(img_si), ee.List([ee.Image(0)]))\n",
        "drought_pre = ee.List(drought_pre).slice(1)\n",
        "drought_pre = ee.ImageCollection.fromImages(drought_pre).sort('system:time_start')\n",
        "dates = drought_pre.aggregate_array('system:time_start')\n",
        "\n",
        "remanent = ee.Image(0).addBands(ee.Image(0)).rename(['SI3', 'MASK']).set('system:time_start', last.millis())\n",
        "drought_pre = drought_pre.merge(ee.ImageCollection(remanent))\n",
        "drought_pre = ee.ImageCollection.fromImages(dates.map(filtering(drought_pre)))"
      ],
      "execution_count": null,
      "outputs": []
    },
    {
      "cell_type": "code",
      "metadata": {
        "colab": {
          "base_uri": "https://localhost:8080/"
        },
        "id": "IBPhqG-XPHjk",
        "outputId": "1dc1766c-cb36-4b4d-b12e-50745663cbc9"
      },
      "source": [
        "drought_pre.map(mask).filterDate('1984-01-01', '2020-02-01').first().getInfo()"
      ],
      "execution_count": null,
      "outputs": [
        {
          "output_type": "execute_result",
          "data": {
            "text/plain": [
              "{'bands': [{'crs': 'EPSG:4326',\n",
              "   'crs_transform': [1, 0, 0, 0, 1, 0],\n",
              "   'data_type': {'precision': 'float', 'type': 'PixelType'},\n",
              "   'id': 'SI3'},\n",
              "  {'crs': 'EPSG:4326',\n",
              "   'crs_transform': [1, 0, 0, 0, 1, 0],\n",
              "   'data_type': {'precision': 'float', 'type': 'PixelType'},\n",
              "   'id': 'MASK'},\n",
              "  {'crs': 'EPSG:4326',\n",
              "   'crs_transform': [1, 0, 0, 0, 1, 0],\n",
              "   'data_type': {'precision': 'float', 'type': 'PixelType'},\n",
              "   'id': 'time'}],\n",
              " 'properties': {'system:index': '1_2000-07-01',\n",
              "  'system:time_start': 962409600000},\n",
              " 'type': 'Image'}"
            ]
          },
          "metadata": {
            "tags": []
          },
          "execution_count": 191
        }
      ]
    },
    {
      "cell_type": "markdown",
      "metadata": {
        "id": "tMQ-Tgr-r0z2"
      },
      "source": [
        "### Generation of duration-severity-intensity images"
      ]
    },
    {
      "cell_type": "code",
      "metadata": {
        "id": "BzdyBb9FifLE"
      },
      "source": [
        "duration = drought_pre.map(mask)\n",
        "duration_mean = duration.select('MASK').sum().divide(duration.select('MASK').count())\n",
        "\n",
        "severity = drought_pre.map(mask).select('SI3').map(abs)\n",
        "severity_mean = severity.mean()\n",
        "\n",
        "intensity = drought_pre.map(mask).map(ratio)\n",
        "intensity_mean = intensity.mean()"
      ],
      "execution_count": null,
      "outputs": []
    },
    {
      "cell_type": "markdown",
      "metadata": {
        "id": "oAdaUtjir9RW"
      },
      "source": [
        "### Mapping average drought characteristics"
      ]
    },
    {
      "cell_type": "code",
      "metadata": {
        "colab": {
          "base_uri": "https://localhost:8080/",
          "height": 866
        },
        "id": "1i0LgROF5qnx",
        "outputId": "43144fbc-c007-495c-c462-a98130333720"
      },
      "source": [
        "mapid_dur = ee.Image(duration_mean).getMapId({'min': 0, 'max': 10, 'palette': '0000FF, 00FFFF, 00FF00, FFFF00, FF0000', 'opacity':0.6})\n",
        "mapid_sev = ee.Image(severity_mean).getMapId({'min': 0, 'max': 7, 'palette': '0000FF, 00FFFF, 00FF00, FFFF00, FF0000', 'opacity':0.6})\n",
        "mapid_int = ee.Image(intensity_mean).getMapId({'min': 0, 'max': 1, 'palette': '0000FF, 00FFFF, 00FF00, FFFF00, FF0000', 'opacity':0.6})\n",
        "\n",
        "centroid = geo1.coordinates().getInfo()[::-1]\n",
        "map = folium.Map(location=centroid, zoom_start=2)\n",
        "folium.TileLayer(\n",
        "    tiles=mapid_dur['tile_fetcher'].url_format,\n",
        "    attr='Map Data &copy; <a href=\"https://earthengine.google.com/\">Google Earth Engine</a>',\n",
        "    overlay=True,\n",
        "    name='mean_duration',\n",
        "  ).add_to(map)\n",
        "folium.TileLayer(\n",
        "    tiles=mapid_sev['tile_fetcher'].url_format,\n",
        "    attr='Map Data &copy; <a href=\"https://earthengine.google.com/\">Google Earth Engine</a>',\n",
        "    overlay=True,\n",
        "    name='mean_severity',\n",
        "  ).add_to(map)\n",
        "folium.TileLayer(\n",
        "    tiles=mapid_int['tile_fetcher'].url_format,\n",
        "    attr='Map Data &copy; <a href=\"https://earthengine.google.com/\">Google Earth Engine</a>',\n",
        "    overlay=True,\n",
        "    name='mean_intensity',\n",
        "  ).add_to(map)\n",
        "map.add_child(folium.LayerControl())\n",
        "map"
      ],
      "execution_count": null,
      "outputs": [
        {
          "output_type": "execute_result",
          "data": {
            "text/html": [
              "<div style=\"width:100%;\"><div style=\"position:relative;width:100%;height:0;padding-bottom:60%;\"><span style=\"color:#565656\">Make this Notebook Trusted to load map: File -> Trust Notebook</span><iframe src=\"about:blank\" style=\"position:absolute;width:100%;height:100%;left:0;top:0;border:none !important;\" data-html=%3C%21DOCTYPE%20html%3E%0A%3Chead%3E%20%20%20%20%0A%20%20%20%20%3Cmeta%20http-equiv%3D%22content-type%22%20content%3D%22text/html%3B%20charset%3DUTF-8%22%20/%3E%0A%20%20%20%20%3Cscript%3EL_PREFER_CANVAS%3Dfalse%3B%20L_NO_TOUCH%3Dfalse%3B%20L_DISABLE_3D%3Dfalse%3B%3C/script%3E%0A%20%20%20%20%3Cscript%20src%3D%22https%3A//cdn.jsdelivr.net/npm/leaflet%401.4.0/dist/leaflet.js%22%3E%3C/script%3E%0A%20%20%20%20%3Cscript%20src%3D%22https%3A//code.jquery.com/jquery-1.12.4.min.js%22%3E%3C/script%3E%0A%20%20%20%20%3Cscript%20src%3D%22https%3A//maxcdn.bootstrapcdn.com/bootstrap/3.2.0/js/bootstrap.min.js%22%3E%3C/script%3E%0A%20%20%20%20%3Cscript%20src%3D%22https%3A//cdnjs.cloudflare.com/ajax/libs/Leaflet.awesome-markers/2.0.2/leaflet.awesome-markers.js%22%3E%3C/script%3E%0A%20%20%20%20%3Clink%20rel%3D%22stylesheet%22%20href%3D%22https%3A//cdn.jsdelivr.net/npm/leaflet%401.4.0/dist/leaflet.css%22/%3E%0A%20%20%20%20%3Clink%20rel%3D%22stylesheet%22%20href%3D%22https%3A//maxcdn.bootstrapcdn.com/bootstrap/3.2.0/css/bootstrap.min.css%22/%3E%0A%20%20%20%20%3Clink%20rel%3D%22stylesheet%22%20href%3D%22https%3A//maxcdn.bootstrapcdn.com/bootstrap/3.2.0/css/bootstrap-theme.min.css%22/%3E%0A%20%20%20%20%3Clink%20rel%3D%22stylesheet%22%20href%3D%22https%3A//maxcdn.bootstrapcdn.com/font-awesome/4.6.3/css/font-awesome.min.css%22/%3E%0A%20%20%20%20%3Clink%20rel%3D%22stylesheet%22%20href%3D%22https%3A//cdnjs.cloudflare.com/ajax/libs/Leaflet.awesome-markers/2.0.2/leaflet.awesome-markers.css%22/%3E%0A%20%20%20%20%3Clink%20rel%3D%22stylesheet%22%20href%3D%22https%3A//rawcdn.githack.com/python-visualization/folium/master/folium/templates/leaflet.awesome.rotate.css%22/%3E%0A%20%20%20%20%3Cstyle%3Ehtml%2C%20body%20%7Bwidth%3A%20100%25%3Bheight%3A%20100%25%3Bmargin%3A%200%3Bpadding%3A%200%3B%7D%3C/style%3E%0A%20%20%20%20%3Cstyle%3E%23map%20%7Bposition%3Aabsolute%3Btop%3A0%3Bbottom%3A0%3Bright%3A0%3Bleft%3A0%3B%7D%3C/style%3E%0A%20%20%20%20%0A%20%20%20%20%3Cmeta%20name%3D%22viewport%22%20content%3D%22width%3Ddevice-width%2C%0A%20%20%20%20%20%20%20%20initial-scale%3D1.0%2C%20maximum-scale%3D1.0%2C%20user-scalable%3Dno%22%20/%3E%0A%20%20%20%20%3Cstyle%3E%23map_4a120905ed6248b59610cbeb8186a817%20%7B%0A%20%20%20%20%20%20%20%20position%3A%20relative%3B%0A%20%20%20%20%20%20%20%20width%3A%20100.0%25%3B%0A%20%20%20%20%20%20%20%20height%3A%20100.0%25%3B%0A%20%20%20%20%20%20%20%20left%3A%200.0%25%3B%0A%20%20%20%20%20%20%20%20top%3A%200.0%25%3B%0A%20%20%20%20%20%20%20%20%7D%0A%20%20%20%20%3C/style%3E%0A%3C/head%3E%0A%3Cbody%3E%20%20%20%20%0A%20%20%20%20%0A%20%20%20%20%3Cdiv%20class%3D%22folium-map%22%20id%3D%22map_4a120905ed6248b59610cbeb8186a817%22%20%3E%3C/div%3E%0A%3C/body%3E%0A%3Cscript%3E%20%20%20%20%0A%20%20%20%20%0A%20%20%20%20%0A%20%20%20%20%20%20%20%20var%20bounds%20%3D%20null%3B%0A%20%20%20%20%0A%0A%20%20%20%20var%20map_4a120905ed6248b59610cbeb8186a817%20%3D%20L.map%28%0A%20%20%20%20%20%20%20%20%27map_4a120905ed6248b59610cbeb8186a817%27%2C%20%7B%0A%20%20%20%20%20%20%20%20center%3A%20%5B-30.468%2C%20149.981%5D%2C%0A%20%20%20%20%20%20%20%20zoom%3A%202%2C%0A%20%20%20%20%20%20%20%20maxBounds%3A%20bounds%2C%0A%20%20%20%20%20%20%20%20layers%3A%20%5B%5D%2C%0A%20%20%20%20%20%20%20%20worldCopyJump%3A%20false%2C%0A%20%20%20%20%20%20%20%20crs%3A%20L.CRS.EPSG3857%2C%0A%20%20%20%20%20%20%20%20zoomControl%3A%20true%2C%0A%20%20%20%20%20%20%20%20%7D%29%3B%0A%0A%0A%20%20%20%20%0A%20%20%20%20var%20tile_layer_62b3098e3e654ddbbd452d0672425583%20%3D%20L.tileLayer%28%0A%20%20%20%20%20%20%20%20%27https%3A//%7Bs%7D.tile.openstreetmap.org/%7Bz%7D/%7Bx%7D/%7By%7D.png%27%2C%0A%20%20%20%20%20%20%20%20%7B%0A%20%20%20%20%20%20%20%20%22attribution%22%3A%20null%2C%0A%20%20%20%20%20%20%20%20%22detectRetina%22%3A%20false%2C%0A%20%20%20%20%20%20%20%20%22maxNativeZoom%22%3A%2018%2C%0A%20%20%20%20%20%20%20%20%22maxZoom%22%3A%2018%2C%0A%20%20%20%20%20%20%20%20%22minZoom%22%3A%200%2C%0A%20%20%20%20%20%20%20%20%22noWrap%22%3A%20false%2C%0A%20%20%20%20%20%20%20%20%22opacity%22%3A%201%2C%0A%20%20%20%20%20%20%20%20%22subdomains%22%3A%20%22abc%22%2C%0A%20%20%20%20%20%20%20%20%22tms%22%3A%20false%0A%7D%29.addTo%28map_4a120905ed6248b59610cbeb8186a817%29%3B%0A%20%20%20%20var%20tile_layer_c363fde267214bf4a3026800b1e367f1%20%3D%20L.tileLayer%28%0A%20%20%20%20%20%20%20%20%27https%3A//earthengine.googleapis.com/v1alpha/projects/earthengine-legacy/maps/e192170197e34bba0900c90970abadc3-4992683f7f6605697749541576fd2ef1/tiles/%7Bz%7D/%7Bx%7D/%7By%7D%27%2C%0A%20%20%20%20%20%20%20%20%7B%0A%20%20%20%20%20%20%20%20%22attribution%22%3A%20%22Map%20Data%20%26copy%3B%20%3Ca%20href%3D%5C%22https%3A//earthengine.google.com/%5C%22%3EGoogle%20Earth%20Engine%3C/a%3E%22%2C%0A%20%20%20%20%20%20%20%20%22detectRetina%22%3A%20false%2C%0A%20%20%20%20%20%20%20%20%22maxNativeZoom%22%3A%2018%2C%0A%20%20%20%20%20%20%20%20%22maxZoom%22%3A%2018%2C%0A%20%20%20%20%20%20%20%20%22minZoom%22%3A%200%2C%0A%20%20%20%20%20%20%20%20%22noWrap%22%3A%20false%2C%0A%20%20%20%20%20%20%20%20%22opacity%22%3A%201%2C%0A%20%20%20%20%20%20%20%20%22subdomains%22%3A%20%22abc%22%2C%0A%20%20%20%20%20%20%20%20%22tms%22%3A%20false%0A%7D%29.addTo%28map_4a120905ed6248b59610cbeb8186a817%29%3B%0A%20%20%20%20var%20tile_layer_430685b38e46430ba6c1749562fcbbe8%20%3D%20L.tileLayer%28%0A%20%20%20%20%20%20%20%20%27https%3A//earthengine.googleapis.com/v1alpha/projects/earthengine-legacy/maps/95a76047c433e6759ea5e9a81ffe5c62-6a817434c761a1b56fa8440c6cb1d0e7/tiles/%7Bz%7D/%7Bx%7D/%7By%7D%27%2C%0A%20%20%20%20%20%20%20%20%7B%0A%20%20%20%20%20%20%20%20%22attribution%22%3A%20%22Map%20Data%20%26copy%3B%20%3Ca%20href%3D%5C%22https%3A//earthengine.google.com/%5C%22%3EGoogle%20Earth%20Engine%3C/a%3E%22%2C%0A%20%20%20%20%20%20%20%20%22detectRetina%22%3A%20false%2C%0A%20%20%20%20%20%20%20%20%22maxNativeZoom%22%3A%2018%2C%0A%20%20%20%20%20%20%20%20%22maxZoom%22%3A%2018%2C%0A%20%20%20%20%20%20%20%20%22minZoom%22%3A%200%2C%0A%20%20%20%20%20%20%20%20%22noWrap%22%3A%20false%2C%0A%20%20%20%20%20%20%20%20%22opacity%22%3A%201%2C%0A%20%20%20%20%20%20%20%20%22subdomains%22%3A%20%22abc%22%2C%0A%20%20%20%20%20%20%20%20%22tms%22%3A%20false%0A%7D%29.addTo%28map_4a120905ed6248b59610cbeb8186a817%29%3B%0A%20%20%20%20var%20tile_layer_84dd93cac700404595088459e66cb1cc%20%3D%20L.tileLayer%28%0A%20%20%20%20%20%20%20%20%27https%3A//earthengine.googleapis.com/v1alpha/projects/earthengine-legacy/maps/c0888e2e399cfa5bd9155bc467d78c35-d02405634a14d4943a95f185d9f0a4ae/tiles/%7Bz%7D/%7Bx%7D/%7By%7D%27%2C%0A%20%20%20%20%20%20%20%20%7B%0A%20%20%20%20%20%20%20%20%22attribution%22%3A%20%22Map%20Data%20%26copy%3B%20%3Ca%20href%3D%5C%22https%3A//earthengine.google.com/%5C%22%3EGoogle%20Earth%20Engine%3C/a%3E%22%2C%0A%20%20%20%20%20%20%20%20%22detectRetina%22%3A%20false%2C%0A%20%20%20%20%20%20%20%20%22maxNativeZoom%22%3A%2018%2C%0A%20%20%20%20%20%20%20%20%22maxZoom%22%3A%2018%2C%0A%20%20%20%20%20%20%20%20%22minZoom%22%3A%200%2C%0A%20%20%20%20%20%20%20%20%22noWrap%22%3A%20false%2C%0A%20%20%20%20%20%20%20%20%22opacity%22%3A%201%2C%0A%20%20%20%20%20%20%20%20%22subdomains%22%3A%20%22abc%22%2C%0A%20%20%20%20%20%20%20%20%22tms%22%3A%20false%0A%7D%29.addTo%28map_4a120905ed6248b59610cbeb8186a817%29%3B%0A%20%20%20%20%0A%20%20%20%20%20%20%20%20%20%20%20%20var%20layer_control_acb97b1f9ebc44afbfc4ec852044e82a%20%3D%20%7B%0A%20%20%20%20%20%20%20%20%20%20%20%20%20%20%20%20base_layers%20%3A%20%7B%20%22openstreetmap%22%20%3A%20tile_layer_62b3098e3e654ddbbd452d0672425583%2C%20%7D%2C%0A%20%20%20%20%20%20%20%20%20%20%20%20%20%20%20%20overlays%20%3A%20%7B%20%22mean_duration%22%20%3A%20tile_layer_c363fde267214bf4a3026800b1e367f1%2C%22mean_severity%22%20%3A%20tile_layer_430685b38e46430ba6c1749562fcbbe8%2C%22mean_intensity%22%20%3A%20tile_layer_84dd93cac700404595088459e66cb1cc%2C%20%7D%0A%20%20%20%20%20%20%20%20%20%20%20%20%20%20%20%20%7D%3B%0A%20%20%20%20%20%20%20%20%20%20%20%20L.control.layers%28%0A%20%20%20%20%20%20%20%20%20%20%20%20%20%20%20%20layer_control_acb97b1f9ebc44afbfc4ec852044e82a.base_layers%2C%0A%20%20%20%20%20%20%20%20%20%20%20%20%20%20%20%20layer_control_acb97b1f9ebc44afbfc4ec852044e82a.overlays%2C%0A%20%20%20%20%20%20%20%20%20%20%20%20%20%20%20%20%7Bposition%3A%20%27topright%27%2C%0A%20%20%20%20%20%20%20%20%20%20%20%20%20%20%20%20%20collapsed%3A%20true%2C%0A%20%20%20%20%20%20%20%20%20%20%20%20%20%20%20%20%20autoZIndex%3A%20true%0A%20%20%20%20%20%20%20%20%20%20%20%20%20%20%20%20%7D%29.addTo%28map_4a120905ed6248b59610cbeb8186a817%29%3B%0A%20%20%20%20%20%20%20%20%20%20%20%20%0A%20%20%20%20%20%20%20%20%0A%3C/script%3E onload=\"this.contentDocument.open();this.contentDocument.write(    decodeURIComponent(this.getAttribute('data-html')));this.contentDocument.close();\" allowfullscreen webkitallowfullscreen mozallowfullscreen></iframe></div></div>"
            ],
            "text/plain": [
              "<folium.folium.Map at 0x7f0ae2a71610>"
            ]
          },
          "metadata": {
            "tags": []
          },
          "execution_count": 196
        }
      ]
    },
    {
      "cell_type": "markdown",
      "metadata": {
        "id": "QCZHQM-Vteil"
      },
      "source": [
        "### Trend analysis of durations "
      ]
    },
    {
      "cell_type": "code",
      "metadata": {
        "id": "UV9Lv9u_GcQr"
      },
      "source": [
        "ols = ee.Reducer.linearFit()\n",
        "duration_trend = duration.select(['time', 'MASK']).reduce(ols).select('scale')\n",
        "\n",
        "pearson = ee.Reducer.pearsonsCorrelation()\n",
        "pvalue = duration.select(['time', 'MASK']).reduce(pearson).select('p-value')"
      ],
      "execution_count": null,
      "outputs": []
    },
    {
      "cell_type": "markdown",
      "metadata": {
        "id": "h6yyumoTTEar"
      },
      "source": [
        "### Maping drought duration trends and significance"
      ]
    },
    {
      "cell_type": "code",
      "metadata": {
        "colab": {
          "base_uri": "https://localhost:8080/",
          "height": 866
        },
        "id": "Lwn8udG0I_CB",
        "outputId": "6a508b0f-1dbc-4692-d4d9-08d972e39d53"
      },
      "source": [
        "map_dur_trend = ee.Image(duration_trend).getMapId({'min': -0.1, 'max': 0.1, 'palette': '0000FF, FFFFFF, FF0000', 'opacity':1})\n",
        "map_dur_significance = ee.Image(pvalue).getMapId({'min': 0, 'max': 0.1, 'palette': 'FF0000, FFFFFF', 'opacity':0.6})\n",
        "centroid = geo1.coordinates().getInfo()[::-1]\n",
        "map = folium.Map(location=centroid, zoom_start=2)\n",
        "folium.TileLayer(\n",
        "    tiles=map_dur_significance['tile_fetcher'].url_format,\n",
        "    attr='Map Data &copy; <a href=\"https://earthengine.google.com/\">Google Earth Engine</a>',\n",
        "    overlay=True,\n",
        "    name='significance_trend',\n",
        ").add_to(map)\n",
        "folium.TileLayer(\n",
        "    tiles=map_dur_trend['tile_fetcher'].url_format,\n",
        "    attr='Map Data &copy; <a href=\"https://earthengine.google.com/\">Google Earth Engine</a>',\n",
        "    overlay=True,\n",
        "    name='duration_trend',\n",
        ").add_to(map)\n",
        "map.add_child(folium.LayerControl())\n",
        "map"
      ],
      "execution_count": null,
      "outputs": [
        {
          "output_type": "execute_result",
          "data": {
            "text/html": [
              "<div style=\"width:100%;\"><div style=\"position:relative;width:100%;height:0;padding-bottom:60%;\"><span style=\"color:#565656\">Make this Notebook Trusted to load map: File -> Trust Notebook</span><iframe src=\"about:blank\" style=\"position:absolute;width:100%;height:100%;left:0;top:0;border:none !important;\" data-html=%3C%21DOCTYPE%20html%3E%0A%3Chead%3E%20%20%20%20%0A%20%20%20%20%3Cmeta%20http-equiv%3D%22content-type%22%20content%3D%22text/html%3B%20charset%3DUTF-8%22%20/%3E%0A%20%20%20%20%3Cscript%3EL_PREFER_CANVAS%3Dfalse%3B%20L_NO_TOUCH%3Dfalse%3B%20L_DISABLE_3D%3Dfalse%3B%3C/script%3E%0A%20%20%20%20%3Cscript%20src%3D%22https%3A//cdn.jsdelivr.net/npm/leaflet%401.4.0/dist/leaflet.js%22%3E%3C/script%3E%0A%20%20%20%20%3Cscript%20src%3D%22https%3A//code.jquery.com/jquery-1.12.4.min.js%22%3E%3C/script%3E%0A%20%20%20%20%3Cscript%20src%3D%22https%3A//maxcdn.bootstrapcdn.com/bootstrap/3.2.0/js/bootstrap.min.js%22%3E%3C/script%3E%0A%20%20%20%20%3Cscript%20src%3D%22https%3A//cdnjs.cloudflare.com/ajax/libs/Leaflet.awesome-markers/2.0.2/leaflet.awesome-markers.js%22%3E%3C/script%3E%0A%20%20%20%20%3Clink%20rel%3D%22stylesheet%22%20href%3D%22https%3A//cdn.jsdelivr.net/npm/leaflet%401.4.0/dist/leaflet.css%22/%3E%0A%20%20%20%20%3Clink%20rel%3D%22stylesheet%22%20href%3D%22https%3A//maxcdn.bootstrapcdn.com/bootstrap/3.2.0/css/bootstrap.min.css%22/%3E%0A%20%20%20%20%3Clink%20rel%3D%22stylesheet%22%20href%3D%22https%3A//maxcdn.bootstrapcdn.com/bootstrap/3.2.0/css/bootstrap-theme.min.css%22/%3E%0A%20%20%20%20%3Clink%20rel%3D%22stylesheet%22%20href%3D%22https%3A//maxcdn.bootstrapcdn.com/font-awesome/4.6.3/css/font-awesome.min.css%22/%3E%0A%20%20%20%20%3Clink%20rel%3D%22stylesheet%22%20href%3D%22https%3A//cdnjs.cloudflare.com/ajax/libs/Leaflet.awesome-markers/2.0.2/leaflet.awesome-markers.css%22/%3E%0A%20%20%20%20%3Clink%20rel%3D%22stylesheet%22%20href%3D%22https%3A//rawcdn.githack.com/python-visualization/folium/master/folium/templates/leaflet.awesome.rotate.css%22/%3E%0A%20%20%20%20%3Cstyle%3Ehtml%2C%20body%20%7Bwidth%3A%20100%25%3Bheight%3A%20100%25%3Bmargin%3A%200%3Bpadding%3A%200%3B%7D%3C/style%3E%0A%20%20%20%20%3Cstyle%3E%23map%20%7Bposition%3Aabsolute%3Btop%3A0%3Bbottom%3A0%3Bright%3A0%3Bleft%3A0%3B%7D%3C/style%3E%0A%20%20%20%20%0A%20%20%20%20%3Cmeta%20name%3D%22viewport%22%20content%3D%22width%3Ddevice-width%2C%0A%20%20%20%20%20%20%20%20initial-scale%3D1.0%2C%20maximum-scale%3D1.0%2C%20user-scalable%3Dno%22%20/%3E%0A%20%20%20%20%3Cstyle%3E%23map_c43280298b76472787a1f5f352a22272%20%7B%0A%20%20%20%20%20%20%20%20position%3A%20relative%3B%0A%20%20%20%20%20%20%20%20width%3A%20100.0%25%3B%0A%20%20%20%20%20%20%20%20height%3A%20100.0%25%3B%0A%20%20%20%20%20%20%20%20left%3A%200.0%25%3B%0A%20%20%20%20%20%20%20%20top%3A%200.0%25%3B%0A%20%20%20%20%20%20%20%20%7D%0A%20%20%20%20%3C/style%3E%0A%3C/head%3E%0A%3Cbody%3E%20%20%20%20%0A%20%20%20%20%0A%20%20%20%20%3Cdiv%20class%3D%22folium-map%22%20id%3D%22map_c43280298b76472787a1f5f352a22272%22%20%3E%3C/div%3E%0A%3C/body%3E%0A%3Cscript%3E%20%20%20%20%0A%20%20%20%20%0A%20%20%20%20%0A%20%20%20%20%20%20%20%20var%20bounds%20%3D%20null%3B%0A%20%20%20%20%0A%0A%20%20%20%20var%20map_c43280298b76472787a1f5f352a22272%20%3D%20L.map%28%0A%20%20%20%20%20%20%20%20%27map_c43280298b76472787a1f5f352a22272%27%2C%20%7B%0A%20%20%20%20%20%20%20%20center%3A%20%5B-30.468%2C%20149.981%5D%2C%0A%20%20%20%20%20%20%20%20zoom%3A%202%2C%0A%20%20%20%20%20%20%20%20maxBounds%3A%20bounds%2C%0A%20%20%20%20%20%20%20%20layers%3A%20%5B%5D%2C%0A%20%20%20%20%20%20%20%20worldCopyJump%3A%20false%2C%0A%20%20%20%20%20%20%20%20crs%3A%20L.CRS.EPSG3857%2C%0A%20%20%20%20%20%20%20%20zoomControl%3A%20true%2C%0A%20%20%20%20%20%20%20%20%7D%29%3B%0A%0A%0A%20%20%20%20%0A%20%20%20%20var%20tile_layer_28334e7fd7ea478581d124941ac5130d%20%3D%20L.tileLayer%28%0A%20%20%20%20%20%20%20%20%27https%3A//%7Bs%7D.tile.openstreetmap.org/%7Bz%7D/%7Bx%7D/%7By%7D.png%27%2C%0A%20%20%20%20%20%20%20%20%7B%0A%20%20%20%20%20%20%20%20%22attribution%22%3A%20null%2C%0A%20%20%20%20%20%20%20%20%22detectRetina%22%3A%20false%2C%0A%20%20%20%20%20%20%20%20%22maxNativeZoom%22%3A%2018%2C%0A%20%20%20%20%20%20%20%20%22maxZoom%22%3A%2018%2C%0A%20%20%20%20%20%20%20%20%22minZoom%22%3A%200%2C%0A%20%20%20%20%20%20%20%20%22noWrap%22%3A%20false%2C%0A%20%20%20%20%20%20%20%20%22opacity%22%3A%201%2C%0A%20%20%20%20%20%20%20%20%22subdomains%22%3A%20%22abc%22%2C%0A%20%20%20%20%20%20%20%20%22tms%22%3A%20false%0A%7D%29.addTo%28map_c43280298b76472787a1f5f352a22272%29%3B%0A%20%20%20%20var%20tile_layer_8a29ea737dd04490b02fa921bff181e6%20%3D%20L.tileLayer%28%0A%20%20%20%20%20%20%20%20%27https%3A//earthengine.googleapis.com/v1alpha/projects/earthengine-legacy/maps/c636374646ee301d88e5055f2a1340b9-d8d556a9c2e565d3e8fa1f2a16be6ca4/tiles/%7Bz%7D/%7Bx%7D/%7By%7D%27%2C%0A%20%20%20%20%20%20%20%20%7B%0A%20%20%20%20%20%20%20%20%22attribution%22%3A%20%22Map%20Data%20%26copy%3B%20%3Ca%20href%3D%5C%22https%3A//earthengine.google.com/%5C%22%3EGoogle%20Earth%20Engine%3C/a%3E%22%2C%0A%20%20%20%20%20%20%20%20%22detectRetina%22%3A%20false%2C%0A%20%20%20%20%20%20%20%20%22maxNativeZoom%22%3A%2018%2C%0A%20%20%20%20%20%20%20%20%22maxZoom%22%3A%2018%2C%0A%20%20%20%20%20%20%20%20%22minZoom%22%3A%200%2C%0A%20%20%20%20%20%20%20%20%22noWrap%22%3A%20false%2C%0A%20%20%20%20%20%20%20%20%22opacity%22%3A%201%2C%0A%20%20%20%20%20%20%20%20%22subdomains%22%3A%20%22abc%22%2C%0A%20%20%20%20%20%20%20%20%22tms%22%3A%20false%0A%7D%29.addTo%28map_c43280298b76472787a1f5f352a22272%29%3B%0A%20%20%20%20var%20tile_layer_cd88d0cb2bef4d169f56a161b364ba86%20%3D%20L.tileLayer%28%0A%20%20%20%20%20%20%20%20%27https%3A//earthengine.googleapis.com/v1alpha/projects/earthengine-legacy/maps/9133ba3c01335cb1baf4cb6c61fa59e1-ac98092b837aaed21312cca7607dca8d/tiles/%7Bz%7D/%7Bx%7D/%7By%7D%27%2C%0A%20%20%20%20%20%20%20%20%7B%0A%20%20%20%20%20%20%20%20%22attribution%22%3A%20%22Map%20Data%20%26copy%3B%20%3Ca%20href%3D%5C%22https%3A//earthengine.google.com/%5C%22%3EGoogle%20Earth%20Engine%3C/a%3E%22%2C%0A%20%20%20%20%20%20%20%20%22detectRetina%22%3A%20false%2C%0A%20%20%20%20%20%20%20%20%22maxNativeZoom%22%3A%2018%2C%0A%20%20%20%20%20%20%20%20%22maxZoom%22%3A%2018%2C%0A%20%20%20%20%20%20%20%20%22minZoom%22%3A%200%2C%0A%20%20%20%20%20%20%20%20%22noWrap%22%3A%20false%2C%0A%20%20%20%20%20%20%20%20%22opacity%22%3A%201%2C%0A%20%20%20%20%20%20%20%20%22subdomains%22%3A%20%22abc%22%2C%0A%20%20%20%20%20%20%20%20%22tms%22%3A%20false%0A%7D%29.addTo%28map_c43280298b76472787a1f5f352a22272%29%3B%0A%20%20%20%20%0A%20%20%20%20%20%20%20%20%20%20%20%20var%20layer_control_416619acd8ab41ddb99bd4d3a256bdbc%20%3D%20%7B%0A%20%20%20%20%20%20%20%20%20%20%20%20%20%20%20%20base_layers%20%3A%20%7B%20%22openstreetmap%22%20%3A%20tile_layer_28334e7fd7ea478581d124941ac5130d%2C%20%7D%2C%0A%20%20%20%20%20%20%20%20%20%20%20%20%20%20%20%20overlays%20%3A%20%7B%20%22significance_trend%22%20%3A%20tile_layer_8a29ea737dd04490b02fa921bff181e6%2C%22duration_trend%22%20%3A%20tile_layer_cd88d0cb2bef4d169f56a161b364ba86%2C%20%7D%0A%20%20%20%20%20%20%20%20%20%20%20%20%20%20%20%20%7D%3B%0A%20%20%20%20%20%20%20%20%20%20%20%20L.control.layers%28%0A%20%20%20%20%20%20%20%20%20%20%20%20%20%20%20%20layer_control_416619acd8ab41ddb99bd4d3a256bdbc.base_layers%2C%0A%20%20%20%20%20%20%20%20%20%20%20%20%20%20%20%20layer_control_416619acd8ab41ddb99bd4d3a256bdbc.overlays%2C%0A%20%20%20%20%20%20%20%20%20%20%20%20%20%20%20%20%7Bposition%3A%20%27topright%27%2C%0A%20%20%20%20%20%20%20%20%20%20%20%20%20%20%20%20%20collapsed%3A%20true%2C%0A%20%20%20%20%20%20%20%20%20%20%20%20%20%20%20%20%20autoZIndex%3A%20true%0A%20%20%20%20%20%20%20%20%20%20%20%20%20%20%20%20%7D%29.addTo%28map_c43280298b76472787a1f5f352a22272%29%3B%0A%20%20%20%20%20%20%20%20%20%20%20%20%0A%20%20%20%20%20%20%20%20%0A%3C/script%3E onload=\"this.contentDocument.open();this.contentDocument.write(    decodeURIComponent(this.getAttribute('data-html')));this.contentDocument.close();\" allowfullscreen webkitallowfullscreen mozallowfullscreen></iframe></div></div>"
            ],
            "text/plain": [
              "<folium.folium.Map at 0x7f0ae498d8d0>"
            ]
          },
          "metadata": {
            "tags": []
          },
          "execution_count": 206
        }
      ]
    },
    {
      "cell_type": "code",
      "metadata": {
        "id": "ccWQUScULQJY"
      },
      "source": [
        ""
      ],
      "execution_count": null,
      "outputs": []
    }
  ]
}
